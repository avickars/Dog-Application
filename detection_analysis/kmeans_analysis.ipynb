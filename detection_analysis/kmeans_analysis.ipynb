{
 "cells": [
  {
   "cell_type": "code",
   "execution_count": null,
   "id": "249d5ed5",
   "metadata": {},
   "outputs": [],
   "source": [
    "import csv\n",
    "import torch\n",
    "import numpy as np\n",
    "import pandas as pd\n",
    "import matplotlib.pyplot as plt\n",
    "from sklearn.cluster import KMeans\n",
    "\n",
    "# Reading the calculated csv\n",
    "df = pd.read_csv('processed_vals.csv', names=['image', 'a_width', 'a_height', 'width', 'height', 'normed_w', 'normed_h', 'area'], header=None)\n",
    "df = df.drop(labels=['image', 'a_width', 'a_height', 'width', 'height'], axis=1)\n",
    "\n",
    "# Converting to numpy\n",
    "x = df.iloc[:]\n",
    "x  = np.array(x)\n",
    "\n",
    "# Defining the model\n",
    "kbox_model = KMeans(n_clusters=3, random_state=24)\n",
    "\n",
    "# Fit the data\n",
    "kbox_predict = kbox_model.fit_predict(x)\n",
    "\n",
    "# Add a cluster coloum\n",
    "df['cluster'] = kbox_predict\n",
    "\n",
    "# Getting the labels\n",
    "label_df = df.groupby(['cluster'])['area'].min()\n",
    "label_df = label_df.to_frame()\n",
    "label_df = label_df.sort_values(by=['area'])\n",
    "labels = ['Small', 'Medium', 'Large']\n",
    "label_df['label'] = labels\n",
    "label_df = label_df.reset_index()\n",
    "zero_lab = label_df[label_df['cluster']==0]['label'].values[0]\n",
    "one_lab = label_df[label_df['cluster']==1]['label'].values[0]\n",
    "two_lab = label_df[label_df['cluster']==2]['label'].values[0]\n",
    "\n",
    "# Visualising the clusters\n",
    "plt.scatter(x[kbox_predict == 0, 0], x[kbox_predict == 0, 1], c = 'red', label = zero_lab)\n",
    "plt.scatter(x[kbox_predict == 1, 0], x[kbox_predict == 1, 1], c = 'blue', label = one_lab)\n",
    "plt.scatter(x[kbox_predict == 2, 0], x[kbox_predict == 2, 1], c = 'green', label = two_lab)\n",
    "\n",
    "# Plotting the centroids of the clusters\n",
    "plt.scatter(kbox_model.cluster_centers_[:, 0], kbox_model.cluster_centers_[:,1], s=100, c = 'yellow', label = 'Centroids')\n",
    "plt.legend()\n",
    "plt.savefig('clusters.png')"
   ]
  },
  {
   "cell_type": "code",
   "execution_count": null,
   "id": "52ed82d2",
   "metadata": {},
   "outputs": [],
   "source": []
  }
 ],
 "metadata": {
  "kernelspec": {
   "display_name": "Python 3 (ipykernel)",
   "language": "python",
   "name": "python3"
  },
  "language_info": {
   "codemirror_mode": {
    "name": "ipython",
    "version": 3
   },
   "file_extension": ".py",
   "mimetype": "text/x-python",
   "name": "python",
   "nbconvert_exporter": "python",
   "pygments_lexer": "ipython3",
   "version": "3.9.7"
  }
 },
 "nbformat": 4,
 "nbformat_minor": 5
}
