{
 "cells": [
  {
   "cell_type": "markdown",
   "id": "9b5eaecc",
   "metadata": {},
   "source": [
    "# Creating Images"
   ]
  },
  {
   "cell_type": "code",
   "execution_count": 4,
   "id": "6fa8c6e4",
   "metadata": {},
   "outputs": [],
   "source": [
    "import os\n",
    "import shutil"
   ]
  },
  {
   "cell_type": "code",
   "execution_count": 5,
   "id": "fb888bdf",
   "metadata": {},
   "outputs": [],
   "source": [
    "if not os.path.exists('Images'):\n",
    "    os.makedirs('Images')\n",
    "else:\n",
    "    for image in os.listdir('Images'):\n",
    "        os.remove(f\"Images/{image}\")\n",
    "    "
   ]
  },
  {
   "cell_type": "code",
   "execution_count": 6,
   "id": "b77cabb7",
   "metadata": {},
   "outputs": [],
   "source": [
    "for breed in os.listdir('standford-dogs-dataset/Images/'):\n",
    "    for image in os.listdir(f\"standford-dogs-dataset/Images/{breed}\"):\n",
    "        shutil.copy(f\"standford-dogs-dataset/Images/{breed}/{image}\", f\"Images/{image}\")\n"
   ]
  },
  {
   "cell_type": "markdown",
   "id": "56eb0afd",
   "metadata": {},
   "source": [
    "# Creating Labels"
   ]
  },
  {
   "cell_type": "code",
   "execution_count": 16,
   "id": "ba73ce91",
   "metadata": {},
   "outputs": [],
   "source": [
    "from bs4 import BeautifulSoup"
   ]
  },
  {
   "cell_type": "code",
   "execution_count": 7,
   "id": "3ee726b3",
   "metadata": {},
   "outputs": [],
   "source": [
    "if not os.path.exists('Labels'):\n",
    "    os.makedirs('Labels')\n",
    "else:\n",
    "    for label in os.listdir('Labels'):\n",
    "        os.remove(f\"Labels/{label}\")"
   ]
  },
  {
   "cell_type": "code",
   "execution_count": 57,
   "id": "0f9ab0c1",
   "metadata": {},
   "outputs": [],
   "source": [
    "for breed in os.listdir('standford-dogs-dataset/Annotation/'):\n",
    "    for annotation in os.listdir(f\"standford-dogs-dataset/Annotation/{breed}\"):\n",
    "        rows = []\n",
    "        with open(f\"standford-dogs-dataset/Annotation/{breed}/{annotation}\", 'r') as f:\n",
    "            data = f.read()\n",
    "            \n",
    "        soup = BeautifulSoup(data, \"html.parser\")\n",
    "            \n",
    "            \n",
    "        width = int(soup.find('width').get_text())\n",
    "        depth = int(soup.find('depth').get_text())\n",
    "        height = int(soup.find('height').get_text())\n",
    "        filename = soup.find('filename').get_text()\n",
    "\n",
    "        for dog in soup.findAll('object'):\n",
    "            name = dog.find('name').get_text()\n",
    "            xmin = dog.find('xmin').get_text()\n",
    "            ymin = dog.find('ymin').get_text()\n",
    "            xmax = dog.find('xmax').get_text()\n",
    "            ymax = dog.find('ymax').get_text()\n",
    "\n",
    "            rows.append([filename, width, depth, height, name, xmin, ymin, xmax, ymax])\n",
    "\n",
    "        df = pd.DataFrame(rows, \n",
    "                     columns=['filename','width','depth', 'height','name','xmin','ymin','xmax','ymax'])\n",
    "\n",
    "        df.to_csv(f\"Labels/{annotation}.csv\")"
   ]
  }
 ],
 "metadata": {
  "kernelspec": {
   "display_name": "Python 3 (ipykernel)",
   "language": "python",
   "name": "python3"
  },
  "language_info": {
   "codemirror_mode": {
    "name": "ipython",
    "version": 3
   },
   "file_extension": ".py",
   "mimetype": "text/x-python",
   "name": "python",
   "nbconvert_exporter": "python",
   "pygments_lexer": "ipython3",
   "version": "3.9.7"
  }
 },
 "nbformat": 4,
 "nbformat_minor": 5
}
