{
 "cells": [
  {
   "cell_type": "code",
   "execution_count": 1,
   "id": "e453e31e",
   "metadata": {},
   "outputs": [],
   "source": [
    "import pandas as pd\n",
    "from triplet_loss import sigmoidL2\n",
    "import json\n",
    "import torch"
   ]
  },
  {
   "cell_type": "code",
   "execution_count": 2,
   "id": "d47e86ef",
   "metadata": {},
   "outputs": [],
   "source": [
    "df = pd.read_csv('encodings.csv',index_col=0)"
   ]
  },
  {
   "cell_type": "code",
   "execution_count": 3,
   "id": "bb58f6dd",
   "metadata": {},
   "outputs": [],
   "source": [
    "df['encoding'] = [json.loads(i) for i in df['encoding'].values.tolist()]"
   ]
  },
  {
   "cell_type": "code",
   "execution_count": 4,
   "id": "e9a87da0",
   "metadata": {},
   "outputs": [],
   "source": [
    "attr = pd.read_csv('attributes.csv',index_col=0)"
   ]
  },
  {
   "cell_type": "code",
   "execution_count": 5,
   "id": "8817eb3e",
   "metadata": {},
   "outputs": [
    {
     "name": "stdout",
     "output_type": "stream",
     "text": [
      "Type: train\n",
      "Type: test\n",
      "Type: validation\n"
     ]
    }
   ],
   "source": [
    "listOfDFS = []\n",
    "for type in ['train','test','validation']:\n",
    "    print('Type:', type)\n",
    "    subAttr = attr[attr['type'] == type]\n",
    "    \n",
    "    subDF = pd.merge(df, subAttr[['path','type']])\n",
    "    \n",
    "    subDF['key'] = 0\n",
    "    \n",
    "    crossJoined = subDF.merge(subDF, on='key', how='outer')\n",
    "    \n",
    "    crossJoined = crossJoined[crossJoined['path_x'] != crossJoined['path_y']]\n",
    "    \n",
    "    leftEncoding = torch.tensor(crossJoined['encoding_x'].values.tolist())\n",
    "    \n",
    "    rightEncoding = torch.tensor(crossJoined['encoding_y'].values.tolist())\n",
    "    \n",
    "    distances = sigmoidL2(leftEncoding, rightEncoding)\n",
    "    \n",
    "    crossJoined['distance'] = distances\n",
    "    \n",
    "    closest = crossJoined[\n",
    "    [\n",
    "        'path_x', \n",
    "        'path_y',\n",
    "        'distance'\n",
    "    ]\n",
    "    ].groupby(\n",
    "        'path_x', \n",
    "        sort=False).apply(\n",
    "        lambda x: x.nsmallest(5, 'distance')).reset_index(drop=True)\n",
    "    \n",
    "    closest = closest.groupby('path_x', as_index=False).agg(list).drop(['distance'],axis=1)\n",
    "    \n",
    "    closest = closest.rename({'path_x':'path', 'path_y':'closestPaths'}, axis=1)\n",
    "    \n",
    "    listOfDFS.append(closest)"
   ]
  },
  {
   "cell_type": "code",
   "execution_count": 10,
   "id": "92f36ef4",
   "metadata": {},
   "outputs": [],
   "source": [
    "attr = pd.merge(attr, pd.concat(listOfDFS))"
   ]
  },
  {
   "cell_type": "code",
   "execution_count": 11,
   "id": "b6278737",
   "metadata": {},
   "outputs": [],
   "source": [
    "attr.to_csv('attributes_with_closest.csv')"
   ]
  }
 ],
 "metadata": {
  "kernelspec": {
   "display_name": "Python 3 (ipykernel)",
   "language": "python",
   "name": "python3"
  },
  "language_info": {
   "codemirror_mode": {
    "name": "ipython",
    "version": 3
   },
   "file_extension": ".py",
   "mimetype": "text/x-python",
   "name": "python",
   "nbconvert_exporter": "python",
   "pygments_lexer": "ipython3",
   "version": "3.9.7"
  }
 },
 "nbformat": 4,
 "nbformat_minor": 5
}
