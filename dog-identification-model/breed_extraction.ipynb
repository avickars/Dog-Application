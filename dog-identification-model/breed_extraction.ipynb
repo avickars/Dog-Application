{
 "cells": [
  {
   "cell_type": "code",
   "execution_count": 1,
   "id": "2765206b",
   "metadata": {},
   "outputs": [],
   "source": [
    "import pandas as pd\n",
    "import itertools\n",
    "import matplotlib.pyplot as plt"
   ]
  },
  {
   "cell_type": "markdown",
   "id": "114b1b2e",
   "metadata": {},
   "source": [
    "## Parsing data set breeds"
   ]
  },
  {
   "cell_type": "code",
   "execution_count": 2,
   "id": "6583ea86",
   "metadata": {},
   "outputs": [],
   "source": [
    "attr = pd.read_csv('attributes.csv',index_col=0)"
   ]
  },
  {
   "cell_type": "code",
   "execution_count": 3,
   "id": "1d3ba569",
   "metadata": {},
   "outputs": [],
   "source": [
    "breeds = []\n",
    "for index, row in attr.iterrows():\n",
    "    # Converting to lower case\n",
    "    breed = row['breed'].lower()\n",
    "    \n",
    "    # Replacing characters\n",
    "    breed = breed.replace('mixed','')\n",
    "    breed = breed.replace('breed','')\n",
    "    breed = breed.replace('mix','')\n",
    "    breed = breed.replace('dog','')\n",
    "    breed = breed.replace('/','')\n",
    "    \n",
    "#     # Splitting into list\n",
    "    breed = breed.split('&')\n",
    "    \n",
    "    for i in range(0,len(breed)):\n",
    "        breed[i] = breed[i].split(' ')\n",
    "        \n",
    "        breed[i] = [word for word in breed[i] if word != '']\n",
    "        \n",
    "        breed[i] = set(breed[i])\n",
    "\n",
    "        \n",
    "    breeds.append(breed)\n",
    "    \n",
    "#     break"
   ]
  },
  {
   "cell_type": "code",
   "execution_count": 4,
   "id": "e133c9fd",
   "metadata": {},
   "outputs": [],
   "source": [
    "attr['breedsParsed'] = breeds"
   ]
  },
  {
   "cell_type": "code",
   "execution_count": 5,
   "id": "5c513a57",
   "metadata": {},
   "outputs": [],
   "source": [
    "# Removing dogs with no breed information\n",
    "attr = attr[attr['breedsParsed'].apply(lambda breeds: len(breeds[0]) >= 1)]"
   ]
  },
  {
   "cell_type": "code",
   "execution_count": 6,
   "id": "b11b3a08",
   "metadata": {},
   "outputs": [],
   "source": [
    "# Exploding by breed\n",
    "attr = attr[['path','breedsParsed']].explode('breedsParsed')"
   ]
  },
  {
   "cell_type": "markdown",
   "id": "6adfeb3b",
   "metadata": {},
   "source": [
    "## Parsing True Breeds"
   ]
  },
  {
   "cell_type": "code",
   "execution_count": 7,
   "id": "ebfefa8e",
   "metadata": {},
   "outputs": [],
   "source": [
    "import scipy.io"
   ]
  },
  {
   "cell_type": "code",
   "execution_count": 8,
   "id": "cbe36306",
   "metadata": {},
   "outputs": [],
   "source": [
    "mat = scipy.io.loadmat('file_list.mat')"
   ]
  },
  {
   "cell_type": "code",
   "execution_count": 9,
   "id": "ef87de9c",
   "metadata": {},
   "outputs": [],
   "source": [
    "breeds = set()\n",
    "for file in mat['file_list']:\n",
    "    # Getting the contents of the array\n",
    "    fileContents = file[0][0]\n",
    "    \n",
    "    # Getting rid of the file name\n",
    "    subContents = fileContents[10:]\n",
    "    \n",
    "    # Finding the slash to use as separator\n",
    "    slashLoc = subContents.find('/')\n",
    "    \n",
    "    # Extracting the breed\n",
    "    breed = subContents[0:slashLoc]\n",
    "\n",
    "    # Normizling Breed:\n",
    "    \n",
    "    # to all lower case\n",
    "    breed = breed.lower()\n",
    "    \n",
    "    # splitting the breed unto mutiple strings\n",
    "    breed = breed.split('_')\n",
    "    \n",
    "    # Adding breed to list\n",
    "    breeds.add(tuple(breed))\n"
   ]
  },
  {
   "cell_type": "code",
   "execution_count": 10,
   "id": "ee2f0d73",
   "metadata": {},
   "outputs": [],
   "source": [
    "# Converting back to list\n",
    "breeds = list(breeds)"
   ]
  },
  {
   "cell_type": "code",
   "execution_count": 11,
   "id": "b48aee1c",
   "metadata": {},
   "outputs": [],
   "source": [
    "# Converting breeds to set\n",
    "breeds = [set(i) for i in breeds]"
   ]
  },
  {
   "cell_type": "markdown",
   "id": "9904548a",
   "metadata": {},
   "source": [
    "## Similarity"
   ]
  },
  {
   "cell_type": "code",
   "execution_count": 12,
   "id": "7b01e670",
   "metadata": {},
   "outputs": [],
   "source": [
    "# Computing the cross product\n",
    "crossProduct = list(itertools.product(attr.values.tolist(), breeds))"
   ]
  },
  {
   "cell_type": "code",
   "execution_count": 13,
   "id": "0d69b194",
   "metadata": {},
   "outputs": [],
   "source": [
    "# Converting to df\n",
    "crossProductDF = pd.DataFrame(crossProduct, columns=['dogBreed', 'breed'])"
   ]
  },
  {
   "cell_type": "code",
   "execution_count": 14,
   "id": "7801dc56",
   "metadata": {},
   "outputs": [],
   "source": [
    "def jaccard(dogBreed, breed):\n",
    "    intersection = len(dogBreed.intersection(breed))\n",
    "    \n",
    "    union = len(dogBreed.union(breed))\n",
    "    \n",
    "    return intersection / union"
   ]
  },
  {
   "cell_type": "code",
   "execution_count": 15,
   "id": "c18054be",
   "metadata": {},
   "outputs": [
    {
     "name": "stdout",
     "output_type": "stream",
     "text": [
      "0.0 %\n",
      "0.404 %\n",
      "0.808 %\n",
      "1.211 %\n",
      "1.615 %\n",
      "2.019 %\n",
      "2.423 %\n",
      "2.827 %\n",
      "3.23 %\n",
      "3.634 %\n",
      "4.038 %\n",
      "4.442 %\n",
      "4.845 %\n",
      "5.249 %\n",
      "5.653 %\n",
      "6.057 %\n",
      "6.461 %\n",
      "6.864 %\n",
      "7.268 %\n",
      "7.672 %\n",
      "8.076 %\n",
      "8.48 %\n",
      "8.883 %\n",
      "9.287 %\n",
      "9.691 %\n",
      "10.095 %\n",
      "10.498 %\n",
      "10.902 %\n",
      "11.306 %\n",
      "11.71 %\n",
      "12.114 %\n",
      "12.517 %\n",
      "12.921 %\n",
      "13.325 %\n",
      "13.729 %\n",
      "14.133 %\n",
      "14.536 %\n",
      "14.94 %\n",
      "15.344 %\n",
      "15.748 %\n",
      "16.151 %\n",
      "16.555 %\n",
      "16.959 %\n",
      "17.363 %\n",
      "17.767 %\n",
      "18.17 %\n",
      "18.574 %\n",
      "18.978 %\n",
      "19.382 %\n",
      "19.786 %\n",
      "20.189 %\n",
      "20.593 %\n",
      "20.997 %\n",
      "21.401 %\n",
      "21.804 %\n",
      "22.208 %\n",
      "22.612 %\n",
      "23.016 %\n",
      "23.42 %\n",
      "23.823 %\n",
      "24.227 %\n",
      "24.631 %\n",
      "25.035 %\n",
      "25.439 %\n",
      "25.842 %\n",
      "26.246 %\n",
      "26.65 %\n",
      "27.054 %\n",
      "27.457 %\n",
      "27.861 %\n",
      "28.265 %\n",
      "28.669 %\n",
      "29.073 %\n",
      "29.476 %\n",
      "29.88 %\n",
      "30.284 %\n",
      "30.688 %\n",
      "31.092 %\n",
      "31.495 %\n",
      "31.899 %\n",
      "32.303 %\n",
      "32.707 %\n",
      "33.11 %\n",
      "33.514 %\n",
      "33.918 %\n",
      "34.322 %\n",
      "34.726 %\n",
      "35.129 %\n",
      "35.533 %\n",
      "35.937 %\n",
      "36.341 %\n",
      "36.745 %\n",
      "37.148 %\n",
      "37.552 %\n",
      "37.956 %\n",
      "38.36 %\n",
      "38.763 %\n",
      "39.167 %\n",
      "39.571 %\n",
      "39.975 %\n",
      "40.379 %\n",
      "40.782 %\n",
      "41.186 %\n",
      "41.59 %\n",
      "41.994 %\n",
      "42.398 %\n",
      "42.801 %\n",
      "43.205 %\n",
      "43.609 %\n",
      "44.013 %\n",
      "44.416 %\n",
      "44.82 %\n",
      "45.224 %\n",
      "45.628 %\n",
      "46.032 %\n",
      "46.435 %\n",
      "46.839 %\n",
      "47.243 %\n",
      "47.647 %\n",
      "48.051 %\n",
      "48.454 %\n",
      "48.858 %\n",
      "49.262 %\n",
      "49.666 %\n",
      "50.069 %\n",
      "50.473 %\n",
      "50.877 %\n",
      "51.281 %\n",
      "51.685 %\n",
      "52.088 %\n",
      "52.492 %\n",
      "52.896 %\n",
      "53.3 %\n",
      "53.704 %\n",
      "54.107 %\n",
      "54.511 %\n",
      "54.915 %\n",
      "55.319 %\n",
      "55.722 %\n",
      "56.126 %\n",
      "56.53 %\n",
      "56.934 %\n",
      "57.338 %\n",
      "57.741 %\n",
      "58.145 %\n",
      "58.549 %\n",
      "58.953 %\n",
      "59.357 %\n",
      "59.76 %\n",
      "60.164 %\n",
      "60.568 %\n",
      "60.972 %\n",
      "61.375 %\n",
      "61.779 %\n",
      "62.183 %\n",
      "62.587 %\n",
      "62.991 %\n",
      "63.394 %\n",
      "63.798 %\n",
      "64.202 %\n",
      "64.606 %\n",
      "65.01 %\n",
      "65.413 %\n",
      "65.817 %\n",
      "66.221 %\n",
      "66.625 %\n",
      "67.028 %\n",
      "67.432 %\n",
      "67.836 %\n",
      "68.24 %\n",
      "68.644 %\n",
      "69.047 %\n",
      "69.451 %\n",
      "69.855 %\n",
      "70.259 %\n",
      "70.663 %\n",
      "71.066 %\n",
      "71.47 %\n",
      "71.874 %\n",
      "72.278 %\n",
      "72.681 %\n",
      "73.085 %\n",
      "73.489 %\n",
      "73.893 %\n",
      "74.297 %\n",
      "74.7 %\n",
      "75.104 %\n",
      "75.508 %\n",
      "75.912 %\n",
      "76.316 %\n",
      "76.719 %\n",
      "77.123 %\n",
      "77.527 %\n",
      "77.931 %\n",
      "78.334 %\n",
      "78.738 %\n",
      "79.142 %\n",
      "79.546 %\n",
      "79.95 %\n",
      "80.353 %\n",
      "80.757 %\n",
      "81.161 %\n",
      "81.565 %\n",
      "81.969 %\n",
      "82.372 %\n",
      "82.776 %\n",
      "83.18 %\n",
      "83.584 %\n",
      "83.987 %\n",
      "84.391 %\n",
      "84.795 %\n",
      "85.199 %\n",
      "85.603 %\n",
      "86.006 %\n",
      "86.41 %\n",
      "86.814 %\n",
      "87.218 %\n",
      "87.622 %\n",
      "88.025 %\n",
      "88.429 %\n",
      "88.833 %\n",
      "89.237 %\n",
      "89.64 %\n",
      "90.044 %\n",
      "90.448 %\n",
      "90.852 %\n",
      "91.256 %\n",
      "91.659 %\n",
      "92.063 %\n",
      "92.467 %\n",
      "92.871 %\n",
      "93.275 %\n",
      "93.678 %\n",
      "94.082 %\n",
      "94.486 %\n",
      "94.89 %\n",
      "95.293 %\n",
      "95.697 %\n",
      "96.101 %\n",
      "96.505 %\n",
      "96.909 %\n",
      "97.312 %\n",
      "97.716 %\n",
      "98.12 %\n",
      "98.524 %\n",
      "98.928 %\n",
      "99.331 %\n",
      "99.735 %\n"
     ]
    }
   ],
   "source": [
    "ious = []\n",
    "for index, row in crossProductDF.iterrows():\n",
    "    iou = jaccard(row['dogBreed'][1], row['breed'])\n",
    "    \n",
    "    ious.append(iou)\n",
    "    \n",
    "    if index % 5000 == 0:\n",
    "        print(f\"{round((index / len(crossProductDF)) * 100, 3)} %\")\n",
    "    "
   ]
  },
  {
   "cell_type": "code",
   "execution_count": 16,
   "id": "680cbfc8",
   "metadata": {},
   "outputs": [],
   "source": [
    "# Adding the IOUS\n",
    "crossProductDF['iou'] = ious"
   ]
  },
  {
   "cell_type": "code",
   "execution_count": 17,
   "id": "cfe458f3",
   "metadata": {},
   "outputs": [],
   "source": [
    "# Removing bad IOUS\n",
    "crossProductDF = crossProductDF[crossProductDF['iou'] >= 0.75]"
   ]
  },
  {
   "cell_type": "code",
   "execution_count": 19,
   "id": "bd71fb6b",
   "metadata": {},
   "outputs": [],
   "source": [
    "# Converting breed to string to get counts\n",
    "crossProductDF['breedString'] = crossProductDF.apply(lambda row: str(row['breed']),axis=1)"
   ]
  },
  {
   "cell_type": "code",
   "execution_count": 20,
   "id": "ef7c0998",
   "metadata": {},
   "outputs": [],
   "source": [
    "# Computing the counts for each bread\n",
    "countsDF = pd.DataFrame(crossProductDF.groupby(['breedString']).size(),columns=['count'])"
   ]
  },
  {
   "cell_type": "code",
   "execution_count": 21,
   "id": "e048de67",
   "metadata": {},
   "outputs": [],
   "source": [
    "# Getting the breeds with only 1 dog\n",
    "badBreeds = countsDF[countsDF['count'] <= 1].index.values"
   ]
  },
  {
   "cell_type": "code",
   "execution_count": 22,
   "id": "be79a475",
   "metadata": {},
   "outputs": [],
   "source": [
    "# Filtering at dogs that are the only 1 of their breeds\n",
    "crossProductDF = crossProductDF[crossProductDF.apply(lambda row: row['breedString'] not in badBreeds, axis=1)]"
   ]
  },
  {
   "cell_type": "code",
   "execution_count": 23,
   "id": "3a05204d",
   "metadata": {},
   "outputs": [],
   "source": [
    "# Expanding dog column into 2 columns\n",
    "crossProductDF = pd.merge(\n",
    "    crossProductDF, \n",
    "    pd.DataFrame(\n",
    "        crossProductDF['dogBreed'].values.tolist(), columns=['path','dogBreed']\n",
    "    ),\n",
    "    on=crossProductDF.index\n",
    ")"
   ]
  },
  {
   "cell_type": "code",
   "execution_count": 24,
   "id": "fa1e8e47",
   "metadata": {},
   "outputs": [],
   "source": [
    "# Droppign useless columns\n",
    "crossProductDF = crossProductDF.drop(['dogBreed_x','key_0'],axis=1)"
   ]
  },
  {
   "cell_type": "code",
   "execution_count": 25,
   "id": "821e2980",
   "metadata": {},
   "outputs": [],
   "source": [
    "# Renaming column\n",
    "crossProductDF = crossProductDF.rename({'dogBreed_y':'dogBreed'},axis=1)"
   ]
  },
  {
   "cell_type": "markdown",
   "id": "fde7732a",
   "metadata": {},
   "source": [
    "## Formatting Output"
   ]
  },
  {
   "cell_type": "code",
   "execution_count": 26,
   "id": "cfdc9138",
   "metadata": {},
   "outputs": [],
   "source": [
    "# Reading in the attributes again to get the splits\n",
    "attrAgain = pd.read_csv('attributes.csv',index_col=0)"
   ]
  },
  {
   "cell_type": "code",
   "execution_count": 27,
   "id": "62fc416b",
   "metadata": {},
   "outputs": [],
   "source": [
    "# Subsetting to only the columns we need\n",
    "attrAgain = attrAgain[['path','type','cleanImages']]"
   ]
  },
  {
   "cell_type": "code",
   "execution_count": 28,
   "id": "de65b9b4",
   "metadata": {},
   "outputs": [],
   "source": [
    "# Getting the data type\n",
    "attributes_breed = pd.merge(crossProductDF[['path']].drop_duplicates(), attrAgain)"
   ]
  },
  {
   "cell_type": "code",
   "execution_count": 29,
   "id": "24ed9d0f",
   "metadata": {},
   "outputs": [],
   "source": [
    "# Writing to disk\n",
    "attributes_breed.to_csv('attributes_breed.csv')"
   ]
  },
  {
   "cell_type": "code",
   "execution_count": 30,
   "id": "d2b21def",
   "metadata": {},
   "outputs": [],
   "source": [
    "crossProductDF.drop(['dogBreed','breed','iou'],axis=1).drop_duplicates().to_csv('breeds.csv')"
   ]
  },
  {
   "cell_type": "markdown",
   "id": "790edc75",
   "metadata": {},
   "source": [
    "## Vizualizing Results"
   ]
  },
  {
   "cell_type": "code",
   "execution_count": 2,
   "id": "bd2d70c6",
   "metadata": {},
   "outputs": [],
   "source": [
    "breeds = pd.read_csv('breeds.csv',index_col=0)"
   ]
  },
  {
   "cell_type": "code",
   "execution_count": 8,
   "id": "da8d1c51",
   "metadata": {},
   "outputs": [
    {
     "data": {
      "text/plain": [
       "breedString\n",
       "{'poodle', 'standard'}                        2\n",
       "{'papillon'}                                  2\n",
       "{'flat-coated', 'retriever'}                  2\n",
       "{'west', 'white', 'highland', 'terrier'}      2\n",
       "{'schipperke'}                                3\n",
       "{'setter', 'english'}                         3\n",
       "{'schnauzer', 'miniature'}                    3\n",
       "{'australian', 'terrier'}                     3\n",
       "{'samoyed'}                                   4\n",
       "{'keeshond'}                                  4\n",
       "{'elkhound', 'norwegian'}                     4\n",
       "{'newfoundland'}                              5\n",
       "{'basenji'}                                   5\n",
       "{'border', 'terrier'}                         5\n",
       "{'brittany', 'spaniel'}                       6\n",
       "{'italian', 'greyhound'}                      6\n",
       "{'saluki'}                                    6\n",
       "{'wolfhound', 'irish'}                        7\n",
       "{'bloodhound'}                                7\n",
       "{'affenpinscher'}                            10\n",
       "{'weimaraner'}                               11\n",
       "{'poodle', 'miniature'}                      11\n",
       "{'vizsla'}                                   14\n",
       "{'whippet'}                                  14\n",
       "{'saint', 'bernard'}                         17\n",
       "{'cocker', 'spaniel'}                        21\n",
       "{'pomeranian'}                               24\n",
       "{'chow'}                                     28\n",
       "{'yorkshire', 'terrier'}                     29\n",
       "{'collie'}                                   31\n",
       "{'rhodesian', 'ridgeback'}                   34\n",
       "{'miniature', 'pinscher'}                    34\n",
       "{'pug'}                                      40\n",
       "{'great', 'dane'}                            40\n",
       "{'golden', 'retriever'}                      50\n",
       "{'beagle'}                                   60\n",
       "{'rottweiler'}                              126\n",
       "{'boxer'}                                   256\n",
       "{'husky', 'siberian'}                       257\n",
       "{'american', 'staffordshire', 'terrier'}    302\n",
       "{'collie', 'border'}                        307\n",
       "{'great', 'pyrenees'}                       319\n",
       "{'chihuahua'}                               543\n",
       "{'shepherd', 'german'}                      754\n",
       "{'labrador', 'retriever'}                   993\n",
       "dtype: int64"
      ]
     },
     "execution_count": 8,
     "metadata": {},
     "output_type": "execute_result"
    }
   ],
   "source": [
    "breeds.groupby('breedString').size().sort_values()"
   ]
  },
  {
   "cell_type": "code",
   "execution_count": 4,
   "id": "5e47c963",
   "metadata": {},
   "outputs": [],
   "source": [
    "breeds['breeds'] = breeds['breedString'].apply(lambda x: [str(i) for i in eval(x)]).apply(lambda x: \" \".join(x))"
   ]
  },
  {
   "cell_type": "code",
   "execution_count": 5,
   "id": "5762f121",
   "metadata": {},
   "outputs": [],
   "source": [
    "breedCount = pd.DataFrame(breeds.groupby('breeds').size()).reset_index()"
   ]
  },
  {
   "cell_type": "code",
   "execution_count": 37,
   "id": "48be54ed",
   "metadata": {},
   "outputs": [],
   "source": [
    "breedCount['percent'] = breedCount[0] / breedCount[0].sum()"
   ]
  },
  {
   "cell_type": "code",
   "execution_count": 44,
   "id": "565dd09b",
   "metadata": {},
   "outputs": [],
   "source": [
    "topThree = breedCount.sort_values('percent',ascending=False).iloc[0:3,]"
   ]
  },
  {
   "cell_type": "code",
   "execution_count": 45,
   "id": "185b9656",
   "metadata": {},
   "outputs": [],
   "source": [
    "bottomThree = breedCount.sort_values('percent',ascending=False).iloc[-3:,]"
   ]
  },
  {
   "cell_type": "code",
   "execution_count": 59,
   "id": "fdb0f6e0",
   "metadata": {},
   "outputs": [
    {
     "name": "stderr",
     "output_type": "stream",
     "text": [
      "/tmp/ipykernel_928/3381557010.py:1: FutureWarning: The frame.append method is deprecated and will be removed from pandas in a future version. Use pandas.concat instead.\n",
      "  both = topThree.append(bottomThree)\n"
     ]
    }
   ],
   "source": [
    "both = topThree.append(bottomThree)"
   ]
  },
  {
   "cell_type": "code",
   "execution_count": 146,
   "id": "104e4116",
   "metadata": {},
   "outputs": [
    {
     "name": "stderr",
     "output_type": "stream",
     "text": [
      "/tmp/ipykernel_928/1964123681.py:7: MatplotlibDeprecationWarning: Using a string of single character colors as a color sequence is deprecated since 3.2 and will be removed two minor releases later. Use an explicit list instead.\n",
      "  bars = ax.barh(both['breeds'],\n"
     ]
    },
    {
     "data": {
      "image/png": "[encoded data removed]",
      "text/plain": [
       "<Figure size 432x288 with 1 Axes>"
      ]
     },
     "metadata": {
      "needs_background": "light"
     },
     "output_type": "display_data"
    }
   ],
   "source": [
    "fig = plt.figure()\n",
    "\n",
    "ax = fig.add_axes((0, 0, 1, 1))\n",
    "\n",
    "\n",
    "\n",
    "bars = ax.barh(both['breeds'], \n",
    "        both['percent'], color='rgbkymc')\n",
    "# plt.xticks(rotation=40)\n",
    "plt.ylabel('Breed')\n",
    "plt.xlabel('Percentage')\n",
    "plt.title('Top 3 Most & Least Populous Breeds Frequency')\n",
    "i = 0\n",
    "for bar in bars:\n",
    "    yval = bar.get_height()\n",
    "    \n",
    "    val = both['percent'].values[i]\n",
    "    \n",
    "    val = round(round(val, 4) * 100, 4)\n",
    "    \n",
    "    plt.text(bar.get_width() + .001, bar.get_y()+0.3, str(val) + ' %')\n",
    "    \n",
    "    i += 1\n",
    "ax.spines[\"right\"].set_position((\"outward\", 25))\n",
    "\n",
    "ax.spines[\"top\"].set_bounds(0, 0.25)\n",
    "\n",
    "ax.spines['bottom'].set_bounds(0, 0.25)\n",
    "\n",
    "plt.savefig('breed_distr.png')\n",
    "# plt.show()"
   ]
  },
  {
   "cell_type": "code",
   "execution_count": null,
   "id": "6411121b",
   "metadata": {},
   "outputs": [],
   "source": []
  },
  {
   "cell_type": "code",
   "execution_count": null,
   "id": "91bea111",
   "metadata": {},
   "outputs": [],
   "source": []
  }
 ],
 "metadata": {
  "kernelspec": {
   "display_name": "Python 3 (ipykernel)",
   "language": "python",
   "name": "python3"
  },
  "language_info": {
   "codemirror_mode": {
    "name": "ipython",
    "version": 3
   },
   "file_extension": ".py",
   "mimetype": "text/x-python",
   "name": "python",
   "nbconvert_exporter": "python",
   "pygments_lexer": "ipython3",
   "version": "3.9.7"
  }
 },
 "nbformat": 4,
 "nbformat_minor": 5
}
