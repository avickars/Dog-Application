{
 "cells": [
  {
   "cell_type": "code",
   "execution_count": 1,
   "id": "f7f4522d",
   "metadata": {},
   "outputs": [],
   "source": [
    "# Code Imports\n",
    "# from data_loader_test_breed import DogsDataSet_Test\n",
    "# from data_loader_test_closest import DogsDataSet_Test\n",
    "# from data_loader_train_breed import DogsDataSet_Train\n",
    "from data_loader_train_closest import DogsDataSet_Train\n",
    "from data_transformations import Transformations\n",
    "from model import DogIdentificationModel\n",
    "from params import DEVICE, CPU_DEVICE\n",
    "from model_trainer import trainer\n",
    "from model_evaluator import evaluator\n",
    "\n",
    "# Library Imports\n",
    "import torch"
   ]
  },
  {
   "cell_type": "code",
   "execution_count": 2,
   "id": "6b176e5e",
   "metadata": {},
   "outputs": [],
   "source": [
    "import pandas as pd\n",
    "d = pd.read_csv('boxesDF.csv',index_col=0)"
   ]
  },
  {
   "cell_type": "markdown",
   "id": "0038ae68",
   "metadata": {},
   "source": [
    "## Model Training"
   ]
  },
  {
   "cell_type": "code",
   "execution_count": 3,
   "id": "8712eb5a",
   "metadata": {},
   "outputs": [],
   "source": [
    "# Loading model\n",
    "model = DogIdentificationModel()\n",
    "\n",
    "# Freezing the weights of the feature extractor\n",
    "for param in model.model.features.parameters():\n",
    "    param.requires_grad = False\n",
    "    \n",
    "# Moving to training device\n",
    "model = model.to(DEVICE)"
   ]
  },
  {
   "cell_type": "code",
   "execution_count": 4,
   "id": "06bb6cc2",
   "metadata": {},
   "outputs": [],
   "source": [
    "BATCH_SIZE = 30"
   ]
  },
  {
   "cell_type": "code",
   "execution_count": 5,
   "id": "2ac15f13",
   "metadata": {},
   "outputs": [],
   "source": [
    "# # Defining the validation data loader\n",
    "# trainData = DogsDataSet_Test(dataType='train')\n",
    "\n",
    "# # Defining the Validation data loader\n",
    "# trainLoader = torch.utils.data.DataLoader(trainData, batch_size=BATCH_SIZE,\n",
    "#                                           shuffle=True, num_workers=4)\n",
    "\n",
    "# # Defining the validation data loader\n",
    "# validationData = DogsDataSet_Test(dataType='validation')\n",
    "\n",
    "# # Defining the Validation data loader\n",
    "# validationLoader = torch.utils.data.DataLoader(validationData, batch_size=BATCH_SIZE,\n",
    "#                                           shuffle=True, num_workers=4)"
   ]
  },
  {
   "cell_type": "code",
   "execution_count": 6,
   "id": "b30b04b3",
   "metadata": {},
   "outputs": [],
   "source": [
    "# Defining the validation data loader\n",
    "trainData = DogsDataSet_Train(dataType='train')\n",
    "\n",
    "# Defining the Validation data loader\n",
    "trainLoader = torch.utils.data.DataLoader(trainData, batch_size=BATCH_SIZE,\n",
    "                                          shuffle=True, num_workers=4)\n",
    "\n",
    "# Defining the validation data loader\n",
    "validationData = DogsDataSet_Train(dataType='validation')\n",
    "\n",
    "# Defining the Validation data loader\n",
    "validationLoader = torch.utils.data.DataLoader(validationData, batch_size=BATCH_SIZE,\n",
    "                                          shuffle=True, num_workers=4)"
   ]
  },
  {
   "cell_type": "code",
   "execution_count": 7,
   "id": "933cb29c",
   "metadata": {},
   "outputs": [],
   "source": [
    "# construct an optimizer\n",
    "params = [p for p in model.parameters() if p.requires_grad]\n",
    "optimizer = torch.optim.SGD(params, lr=0.01,\n",
    "                            momentum=0.9, weight_decay=0.0005)\n",
    "\n",
    "# Defining the learning rate that makes a step every 3 epochs\n",
    "lr_scheduler = torch.optim.lr_scheduler.StepLR(optimizer,\n",
    "                                               step_size=4,\n",
    "                                               gamma=0.1)"
   ]
  },
  {
   "cell_type": "code",
   "execution_count": 8,
   "id": "aad1997f",
   "metadata": {},
   "outputs": [],
   "source": [
    "NUM_EPOCHS = 51\n",
    "START_EPOCH = 0"
   ]
  },
  {
   "cell_type": "code",
   "execution_count": 9,
   "id": "d3dfa90f",
   "metadata": {},
   "outputs": [],
   "source": [
    "BEST_LOSS = 100000000\n",
    "trainMeanLosses = []\n",
    "validationMeanLosses = []"
   ]
  },
  {
   "cell_type": "code",
   "execution_count": 10,
   "id": "7e72c233",
   "metadata": {},
   "outputs": [],
   "source": [
    "checkpoint = torch.load('dog-identification-model-triplet.pt')\n",
    "model.load_state_dict(checkpoint['model_state_dict'])\n",
    "# optimizer.load_state_dict(checkpoint['optimizer_state_dict'])\n",
    "START_EPOCH = checkpoint['epoch'] + 1\n",
    "# BEST_LOSS = checkpoint['loss']\n",
    "trainMeanLosses = checkpoint['trainMeanLosses']\n",
    "validationMeanLosses = checkpoint['validationMeanLosses']"
   ]
  },
  {
   "cell_type": "code",
   "execution_count": 11,
   "id": "a88f505d",
   "metadata": {},
   "outputs": [
    {
     "name": "stderr",
     "output_type": "stream",
     "text": [
      "EPOCH: 41 | Loss 0.691986083984375: 100%|█████████████████████████████████████████████████████████████████████████████████████████████████████████████████████████████████████████████████████████████████████████████████████████████████████████████████████████████████████████████| 223/223 [04:51<00:00,  1.31s/it]"
     ]
    },
    {
     "name": "stdout",
     "output_type": "stream",
     "text": [
      "EPOCH: 41 | Final Training Mean Loss 0.6978346377294352\n"
     ]
    },
    {
     "name": "stderr",
     "output_type": "stream",
     "text": [
      "\n",
      "EPOCH: 41 | Loss 0.6798735119047619: 100%|██████████████████████████████████████████████████████████████████████████████████████████████████████████████████████████████████████████████████████████████████████████████████████████████████████████████████████████████████████████████| 17/17 [00:23<00:00,  1.38s/it]\n"
     ]
    },
    {
     "name": "stdout",
     "output_type": "stream",
     "text": [
      "EPOCH: 41 | Final Validation Mean Loss 0.6948586271670526\n",
      "Saving New Model\n"
     ]
    },
    {
     "name": "stderr",
     "output_type": "stream",
     "text": [
      "EPOCH: 42 | Loss 0.7032204678184107: 100%|████████████████████████████████████████████████████████████████████████████████████████████████████████████████████████████████████████████████████████████████████████████████████████████████████████████████████████████████████████████| 223/223 [05:05<00:00,  1.37s/it]"
     ]
    },
    {
     "name": "stdout",
     "output_type": "stream",
     "text": [
      "EPOCH: 42 | Final Training Mean Loss 0.6932093061574796\n"
     ]
    },
    {
     "name": "stderr",
     "output_type": "stream",
     "text": [
      "\n",
      "EPOCH: 42 | Loss 0.6872669401622954: 100%|██████████████████████████████████████████████████████████████████████████████████████████████████████████████████████████████████████████████████████████████████████████████████████████████████████████████████████████████████████████████| 17/17 [00:24<00:00,  1.45s/it]\n"
     ]
    },
    {
     "name": "stdout",
     "output_type": "stream",
     "text": [
      "EPOCH: 42 | Final Validation Mean Loss 0.6896249196248616\n",
      "Saving New Model\n"
     ]
    },
    {
     "name": "stderr",
     "output_type": "stream",
     "text": [
      "EPOCH: 43 | Loss 0.6872127934506065: 100%|████████████████████████████████████████████████████████████████████████████████████████████████████████████████████████████████████████████████████████████████████████████████████████████████████████████████████████████████████████████| 223/223 [05:08<00:00,  1.38s/it]"
     ]
    },
    {
     "name": "stdout",
     "output_type": "stream",
     "text": [
      "EPOCH: 43 | Final Training Mean Loss 0.6899037239062141\n"
     ]
    },
    {
     "name": "stderr",
     "output_type": "stream",
     "text": [
      "\n",
      "EPOCH: 43 | Loss 0.684815179734003: 100%|███████████████████████████████████████████████████████████████████████████████████████████████████████████████████████████████████████████████████████████████████████████████████████████████████████████████████████████████████████████████| 17/17 [00:22<00:00,  1.32s/it]"
     ]
    },
    {
     "name": "stdout",
     "output_type": "stream",
     "text": [
      "EPOCH: 43 | Final Validation Mean Loss 0.6901417844547721\n"
     ]
    },
    {
     "name": "stderr",
     "output_type": "stream",
     "text": [
      "\n",
      "EPOCH: 44 | Loss 0.6803749486019737: 100%|████████████████████████████████████████████████████████████████████████████████████████████████████████████████████████████████████████████████████████████████████████████████████████████████████████████████████████████████████████████| 223/223 [04:46<00:00,  1.28s/it]"
     ]
    },
    {
     "name": "stdout",
     "output_type": "stream",
     "text": [
      "EPOCH: 44 | Final Training Mean Loss 0.6895357341283738\n"
     ]
    },
    {
     "name": "stderr",
     "output_type": "stream",
     "text": [
      "\n",
      "EPOCH: 44 | Loss 0.6847579592750186: 100%|██████████████████████████████████████████████████████████████████████████████████████████████████████████████████████████████████████████████████████████████████████████████████████████████████████████████████████████████████████████████| 17/17 [00:22<00:00,  1.32s/it]\n"
     ]
    },
    {
     "name": "stdout",
     "output_type": "stream",
     "text": [
      "EPOCH: 44 | Final Validation Mean Loss 0.6889446509812407\n",
      "Saving New Model\n"
     ]
    },
    {
     "name": "stderr",
     "output_type": "stream",
     "text": [
      "EPOCH: 45 | Loss 0.6751610605340255: 100%|████████████████████████████████████████████████████████████████████████████████████████████████████████████████████████████████████████████████████████████████████████████████████████████████████████████████████████████████████████████| 223/223 [04:46<00:00,  1.29s/it]"
     ]
    },
    {
     "name": "stdout",
     "output_type": "stream",
     "text": [
      "EPOCH: 45 | Final Training Mean Loss 0.6862461137493172\n"
     ]
    },
    {
     "name": "stderr",
     "output_type": "stream",
     "text": [
      "\n",
      "EPOCH: 45 | Loss 0.6806429000127883: 100%|██████████████████████████████████████████████████████████████████████████████████████████████████████████████████████████████████████████████████████████████████████████████████████████████████████████████████████████████████████████████| 17/17 [00:22<00:00,  1.32s/it]\n"
     ]
    },
    {
     "name": "stdout",
     "output_type": "stream",
     "text": [
      "EPOCH: 45 | Final Validation Mean Loss 0.6877675579931446\n",
      "Saving New Model\n"
     ]
    },
    {
     "name": "stderr",
     "output_type": "stream",
     "text": [
      "EPOCH: 46 | Loss 0.6827485937821237: 100%|████████████████████████████████████████████████████████████████████████████████████████████████████████████████████████████████████████████████████████████████████████████████████████████████████████████████████████████████████████████| 223/223 [04:46<00:00,  1.29s/it]"
     ]
    },
    {
     "name": "stdout",
     "output_type": "stream",
     "text": [
      "EPOCH: 46 | Final Training Mean Loss 0.6847642052403858\n"
     ]
    },
    {
     "name": "stderr",
     "output_type": "stream",
     "text": [
      "\n",
      "EPOCH: 46 | Loss 0.6883547192528134: 100%|██████████████████████████████████████████████████████████████████████████████████████████████████████████████████████████████████████████████████████████████████████████████████████████████████████████████████████████████████████████████| 17/17 [00:22<00:00,  1.32s/it]"
     ]
    },
    {
     "name": "stdout",
     "output_type": "stream",
     "text": [
      "EPOCH: 46 | Final Validation Mean Loss 0.6879496146105006\n"
     ]
    },
    {
     "name": "stderr",
     "output_type": "stream",
     "text": [
      "\n",
      "EPOCH: 47 | Loss 0.6805863631399054: 100%|████████████████████████████████████████████████████████████████████████████████████████████████████████████████████████████████████████████████████████████████████████████████████████████████████████████████████████████████████████████| 223/223 [04:46<00:00,  1.29s/it]"
     ]
    },
    {
     "name": "stdout",
     "output_type": "stream",
     "text": [
      "EPOCH: 47 | Final Training Mean Loss 0.6845044757027989\n"
     ]
    },
    {
     "name": "stderr",
     "output_type": "stream",
     "text": [
      "\n",
      "EPOCH: 47 | Loss 0.6810705548241025: 100%|██████████████████████████████████████████████████████████████████████████████████████████████████████████████████████████████████████████████████████████████████████████████████████████████████████████████████████████████████████████████| 17/17 [00:22<00:00,  1.32s/it]\n"
     ]
    },
    {
     "name": "stdout",
     "output_type": "stream",
     "text": [
      "EPOCH: 47 | Final Validation Mean Loss 0.6870556010933455\n",
      "Saving New Model\n"
     ]
    },
    {
     "name": "stderr",
     "output_type": "stream",
     "text": [
      "EPOCH: 48 | Loss 0.7193814829776162: 100%|████████████████████████████████████████████████████████████████████████████████████████████████████████████████████████████████████████████████████████████████████████████████████████████████████████████████████████████████████████████| 223/223 [04:47<00:00,  1.29s/it]"
     ]
    },
    {
     "name": "stdout",
     "output_type": "stream",
     "text": [
      "EPOCH: 48 | Final Training Mean Loss 0.6835732105196298\n"
     ]
    },
    {
     "name": "stderr",
     "output_type": "stream",
     "text": [
      "\n",
      "EPOCH: 48 | Loss 0.686374755132766: 100%|███████████████████████████████████████████████████████████████████████████████████████████████████████████████████████████████████████████████████████████████████████████████████████████████████████████████████████████████████████████████| 17/17 [00:22<00:00,  1.32s/it]\n"
     ]
    },
    {
     "name": "stdout",
     "output_type": "stream",
     "text": [
      "EPOCH: 48 | Final Validation Mean Loss 0.6866186983333138\n",
      "Saving New Model\n"
     ]
    },
    {
     "name": "stderr",
     "output_type": "stream",
     "text": [
      "EPOCH: 49 | Loss 0.6948423887553968: 100%|████████████████████████████████████████████████████████████████████████████████████████████████████████████████████████████████████████████████████████████████████████████████████████████████████████████████████████████████████████████| 223/223 [04:47<00:00,  1.29s/it]"
     ]
    },
    {
     "name": "stdout",
     "output_type": "stream",
     "text": [
      "EPOCH: 49 | Final Training Mean Loss 0.6837517241015194\n"
     ]
    },
    {
     "name": "stderr",
     "output_type": "stream",
     "text": [
      "\n",
      "EPOCH: 49 | Loss 0.6757712137131464: 100%|██████████████████████████████████████████████████████████████████████████████████████████████████████████████████████████████████████████████████████████████████████████████████████████████████████████████████████████████████████████████| 17/17 [00:22<00:00,  1.32s/it]\n"
     ]
    },
    {
     "name": "stdout",
     "output_type": "stream",
     "text": [
      "EPOCH: 49 | Final Validation Mean Loss 0.6864518966979372\n",
      "Saving New Model\n"
     ]
    },
    {
     "name": "stderr",
     "output_type": "stream",
     "text": [
      "EPOCH: 50 | Loss 0.6822992625989412: 100%|████████████████████████████████████████████████████████████████████████████████████████████████████████████████████████████████████████████████████████████████████████████████████████████████████████████████████████████████████████████| 223/223 [04:46<00:00,  1.28s/it]"
     ]
    },
    {
     "name": "stdout",
     "output_type": "stream",
     "text": [
      "EPOCH: 50 | Final Training Mean Loss 0.6833217636270604\n"
     ]
    },
    {
     "name": "stderr",
     "output_type": "stream",
     "text": [
      "\n",
      "EPOCH: 50 | Loss 0.6749677658081055: 100%|██████████████████████████████████████████████████████████████████████████████████████████████████████████████████████████████████████████████████████████████████████████████████████████████████████████████████████████████████████████████| 17/17 [00:22<00:00,  1.32s/it]\n"
     ]
    },
    {
     "name": "stdout",
     "output_type": "stream",
     "text": [
      "EPOCH: 50 | Final Validation Mean Loss 0.6837783840126144\n",
      "Saving New Model\n"
     ]
    }
   ],
   "source": [
    "for epoch in range(START_EPOCH, NUM_EPOCHS):\n",
    "    # ***************** TRAINING ******************    \n",
    "\n",
    "    trainLoss = trainer(model, optimizer, trainLoader, epoch)\n",
    "    \n",
    "    trainMeanLosses.append(trainLoss)\n",
    "    \n",
    "    # Updating the learning rate scheduler\n",
    "    lr_scheduler.step()\n",
    "    \n",
    "    # ***************** EVALUATION ******************    \n",
    "    \n",
    "    validationLoss = evaluator(model, validationLoader, epoch)\n",
    "\n",
    "    validationMeanLosses.append(validationLoss)\n",
    "    \n",
    "    # ***************** SAVING CHECKPOINT ******************    \n",
    "    \n",
    "    if validationLoss < BEST_LOSS:\n",
    "        print('Saving New Model')\n",
    "        \n",
    "        PATH = \"dog-identification-model-triplet-closest.pt\"\n",
    "        \n",
    "        torch.save(\n",
    "            {\n",
    "                'epoch': epoch,\n",
    "                'model_state_dict': model.state_dict(),\n",
    "                'optimizer_state_dict': optimizer.state_dict(),\n",
    "                'loss': validationLoss,\n",
    "                'trainMeanLosses': trainMeanLosses,\n",
    "                'validationMeanLosses': validationMeanLosses\n",
    "            }, PATH)\n",
    "        \n",
    "        BEST_LOSS = validationLoss\n"
   ]
  },
  {
   "cell_type": "code",
   "execution_count": null,
   "id": "f88b39f0",
   "metadata": {},
   "outputs": [],
   "source": [
    "import pandas as pd\n",
    "pd.DataFrame(trainMeanLosses).to_csv('triplet-train-losses.csv')"
   ]
  },
  {
   "cell_type": "code",
   "execution_count": null,
   "id": "5b83ec3b",
   "metadata": {},
   "outputs": [],
   "source": [
    "model = model.eval()"
   ]
  },
  {
   "cell_type": "code",
   "execution_count": null,
   "id": "dc577221",
   "metadata": {},
   "outputs": [],
   "source": [
    "data = iter(validationLoader)"
   ]
  },
  {
   "cell_type": "code",
   "execution_count": null,
   "id": "04fb172e",
   "metadata": {},
   "outputs": [],
   "source": [
    "index, negativeImgIndex, positiveImg, anchorImg, negativeImg = next(data)"
   ]
  },
  {
   "cell_type": "code",
   "execution_count": null,
   "id": "d1227ca2",
   "metadata": {},
   "outputs": [],
   "source": [
    "img1, img2, label = next(data)"
   ]
  },
  {
   "cell_type": "code",
   "execution_count": null,
   "id": "d1d30937",
   "metadata": {},
   "outputs": [],
   "source": [
    "img1 = img1.to(DEVICE)\n",
    "img2 = img2.to(DEVICE)"
   ]
  },
  {
   "cell_type": "code",
   "execution_count": null,
   "id": "9db149c3",
   "metadata": {},
   "outputs": [],
   "source": [
    "img1Encoding = model(img1)\n",
    "img2Encoding = model(img2)"
   ]
  },
  {
   "cell_type": "code",
   "execution_count": null,
   "id": "5692d931",
   "metadata": {},
   "outputs": [],
   "source": [
    "from triplet_loss import sigmoidL2\n",
    "distance = sigmoidL2(img1Encoding,img2Encoding)"
   ]
  },
  {
   "cell_type": "code",
   "execution_count": null,
   "id": "137ef446",
   "metadata": {},
   "outputs": [],
   "source": [
    "distance[label.reshape(30) == 1]"
   ]
  },
  {
   "cell_type": "code",
   "execution_count": null,
   "id": "9e0af524",
   "metadata": {},
   "outputs": [],
   "source": [
    "distance[label.reshape(30) == 0]"
   ]
  },
  {
   "cell_type": "code",
   "execution_count": null,
   "id": "f4d90bc8",
   "metadata": {},
   "outputs": [],
   "source": [
    "label.reshape(30)"
   ]
  },
  {
   "cell_type": "code",
   "execution_count": null,
   "id": "8e1266b8",
   "metadata": {},
   "outputs": [],
   "source": [
    "distance[29]"
   ]
  },
  {
   "cell_type": "code",
   "execution_count": null,
   "id": "0dde868f",
   "metadata": {},
   "outputs": [],
   "source": [
    "from model_utils import plot_tensor"
   ]
  },
  {
   "cell_type": "code",
   "execution_count": null,
   "id": "34b37e78",
   "metadata": {},
   "outputs": [],
   "source": [
    "plot_tensor(img1[11].cpu())"
   ]
  },
  {
   "cell_type": "code",
   "execution_count": null,
   "id": "5788b802",
   "metadata": {},
   "outputs": [],
   "source": [
    "plot_tensor(img2[11].cpu())"
   ]
  },
  {
   "cell_type": "code",
   "execution_count": null,
   "id": "a1934431",
   "metadata": {},
   "outputs": [],
   "source": [
    "label.dtypes"
   ]
  },
  {
   "cell_type": "code",
   "execution_count": null,
   "id": "951aed0d",
   "metadata": {},
   "outputs": [],
   "source": [
    "plot_tensor(positiveImg[4].cpu())"
   ]
  },
  {
   "cell_type": "code",
   "execution_count": null,
   "id": "8f61f580",
   "metadata": {},
   "outputs": [],
   "source": [
    "plot_tensor(anchorImg[4].cpu())"
   ]
  },
  {
   "cell_type": "code",
   "execution_count": null,
   "id": "21bb1158",
   "metadata": {},
   "outputs": [],
   "source": [
    "plot_tensor(negativeImg[4].cpu())"
   ]
  },
  {
   "cell_type": "code",
   "execution_count": null,
   "id": "9eb58af3",
   "metadata": {},
   "outputs": [],
   "source": [
    "positiveImg.shape"
   ]
  },
  {
   "cell_type": "code",
   "execution_count": null,
   "id": "979b5c02",
   "metadata": {},
   "outputs": [],
   "source": [
    "positiveImg = positiveImg.to(DEVICE)\n",
    "anchorImg = anchorImg.to(DEVICE)\n",
    "negativeImg = negativeImg.to(DEVICE)"
   ]
  },
  {
   "cell_type": "code",
   "execution_count": null,
   "id": "dcf76a30",
   "metadata": {},
   "outputs": [],
   "source": [
    "positiveImgEncoding = model(positiveImg)\n",
    "anchorImgEncoding = model(anchorImg)\n",
    "negativeImgEncoding = model(negativeImg)"
   ]
  },
  {
   "cell_type": "code",
   "execution_count": null,
   "id": "77f5ce32",
   "metadata": {},
   "outputs": [],
   "source": [
    "from triplet_loss import sigmoidL2, triplet_loss"
   ]
  },
  {
   "cell_type": "code",
   "execution_count": null,
   "id": "ce2a076b",
   "metadata": {},
   "outputs": [],
   "source": [
    "triplet_loss(anchorImgEncoding, positiveImgEncoding, negativeImgEncoding, 0.9)"
   ]
  },
  {
   "cell_type": "code",
   "execution_count": null,
   "id": "ee0bb39b",
   "metadata": {},
   "outputs": [],
   "source": [
    "sigmoidL2(positiveImgEncoding, anchorImgEncoding)[0]"
   ]
  },
  {
   "cell_type": "code",
   "execution_count": null,
   "id": "a0d1a70a",
   "metadata": {},
   "outputs": [],
   "source": [
    "sigmoidL2(negativeImgEncoding, anchorImgEncoding)"
   ]
  },
  {
   "cell_type": "code",
   "execution_count": null,
   "id": "97a02a6b",
   "metadata": {},
   "outputs": [],
   "source": [
    "positiveImgEncoding.shape"
   ]
  },
  {
   "cell_type": "code",
   "execution_count": null,
   "id": "913d4eac",
   "metadata": {},
   "outputs": [],
   "source": []
  }
 ],
 "metadata": {
  "kernelspec": {
   "display_name": "Python 3 (ipykernel)",
   "language": "python",
   "name": "python3"
  },
  "language_info": {
   "codemirror_mode": {
    "name": "ipython",
    "version": 3
   },
   "file_extension": ".py",
   "mimetype": "text/x-python",
   "name": "python",
   "nbconvert_exporter": "python",
   "pygments_lexer": "ipython3",
   "version": "3.9.7"
  }
 },
 "nbformat": 4,
 "nbformat_minor": 5
}