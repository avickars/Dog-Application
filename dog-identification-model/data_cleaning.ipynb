{
 "cells": [
  {
   "cell_type": "code",
   "execution_count": 1,
   "id": "e1367688",
   "metadata": {},
   "outputs": [],
   "source": [
    "# Loading in functions\n",
    "from non_max_surpression import NonMaxSurpression\n",
    "from model import DogDetectorModel\n",
    "from image_to_tensor import to_tensor\n",
    "import pandas as pd\n",
    "\n",
    "# Loading libraries\n",
    "import torch \n",
    "import os"
   ]
  },
  {
   "cell_type": "markdown",
   "id": "35714175",
   "metadata": {},
   "source": [
    "## Model Loading"
   ]
  },
  {
   "cell_type": "code",
   "execution_count": 2,
   "id": "82491645",
   "metadata": {},
   "outputs": [],
   "source": [
    "# Initializing the model\n",
    "model = DogDetectorModel()"
   ]
  },
  {
   "cell_type": "code",
   "execution_count": 3,
   "id": "2b10dc1f",
   "metadata": {},
   "outputs": [],
   "source": [
    "# Initializing Non Max Surpression with default parameters\n",
    "nms = NonMaxSurpression()"
   ]
  },
  {
   "cell_type": "code",
   "execution_count": 4,
   "id": "db1a2c5c",
   "metadata": {},
   "outputs": [],
   "source": [
    "# Setting the device\n",
    "DEVICE = torch.device(\"cuda:0\" if torch.cuda.is_available() else \"cpu\")\n",
    "\n",
    "CPU_DEVICE = torch.device(\"cpu\")"
   ]
  },
  {
   "cell_type": "code",
   "execution_count": 5,
   "id": "7f9ea7e8",
   "metadata": {},
   "outputs": [],
   "source": [
    "# Loading the checkpoint\n",
    "checkpoint = torch.load('dog-detection-model.pt')\n",
    "\n",
    "# Loading the model weights\n",
    "model.load_state_dict(checkpoint['model_state_dict'])\n",
    "\n",
    "# Setting model to evaluation model\n",
    "model = model.eval()\n",
    "\n",
    "# Moving to training device\n",
    "model = model.to(DEVICE)"
   ]
  },
  {
   "cell_type": "markdown",
   "id": "6f429682",
   "metadata": {},
   "source": [
    "## Dog Loading"
   ]
  },
  {
   "cell_type": "code",
   "execution_count": 13,
   "id": "825301ef",
   "metadata": {},
   "outputs": [],
   "source": [
    "dogInfo = pd.read_csv('attributes.csv', index_col=0)"
   ]
  },
  {
   "cell_type": "code",
   "execution_count": 14,
   "id": "618104d6",
   "metadata": {},
   "outputs": [],
   "source": [
    "dogInfo = dogInfo.drop_duplicates()"
   ]
  },
  {
   "cell_type": "code",
   "execution_count": 15,
   "id": "bd686ccd",
   "metadata": {},
   "outputs": [],
   "source": [
    "dogInfo = dogInfo[(dogInfo['path'] == 'dog_3') | (dogInfo['path'] == 'dog_8')]"
   ]
  },
  {
   "cell_type": "code",
   "execution_count": 16,
   "id": "bd1ef85b",
   "metadata": {},
   "outputs": [],
   "source": [
    "# dogInfo = dogInfo[(dogInfo['path'] == 'dog_8')]"
   ]
  },
  {
   "cell_type": "code",
   "execution_count": 17,
   "id": "aed60d5d",
   "metadata": {},
   "outputs": [
    {
     "data": {
      "text/html": [
       "<div>\n",
       "<style scoped>\n",
       "    .dataframe tbody tr th:only-of-type {\n",
       "        vertical-align: middle;\n",
       "    }\n",
       "\n",
       "    .dataframe tbody tr th {\n",
       "        vertical-align: top;\n",
       "    }\n",
       "\n",
       "    .dataframe thead th {\n",
       "        text-align: right;\n",
       "    }\n",
       "</style>\n",
       "<table border=\"1\" class=\"dataframe\">\n",
       "  <thead>\n",
       "    <tr style=\"text-align: right;\">\n",
       "      <th></th>\n",
       "      <th>name</th>\n",
       "      <th>breed</th>\n",
       "      <th>age</th>\n",
       "      <th>sex</th>\n",
       "      <th>size</th>\n",
       "      <th>path</th>\n",
       "      <th>numImages</th>\n",
       "      <th>downloadedImages</th>\n",
       "      <th>link</th>\n",
       "      <th>cleanImages</th>\n",
       "    </tr>\n",
       "  </thead>\n",
       "  <tbody>\n",
       "    <tr>\n",
       "      <th>2</th>\n",
       "      <td>millie</td>\n",
       "      <td>husky &amp; german shepherd dog mix</td>\n",
       "      <td>young</td>\n",
       "      <td>female</td>\n",
       "      <td>medium</td>\n",
       "      <td>dog_3</td>\n",
       "      <td>5</td>\n",
       "      <td>5</td>\n",
       "      <td>https://www.petfinder.com/dog/millie-54650265/...</td>\n",
       "      <td>2</td>\n",
       "    </tr>\n",
       "    <tr>\n",
       "      <th>5</th>\n",
       "      <td>sol</td>\n",
       "      <td>labrador retriever mix</td>\n",
       "      <td>adult</td>\n",
       "      <td>male</td>\n",
       "      <td>large</td>\n",
       "      <td>dog_8</td>\n",
       "      <td>4</td>\n",
       "      <td>4</td>\n",
       "      <td>https://www.petfinder.com/dog/sol-52421267/bc/...</td>\n",
       "      <td>2</td>\n",
       "    </tr>\n",
       "  </tbody>\n",
       "</table>\n",
       "</div>"
      ],
      "text/plain": [
       "     name                            breed    age     sex    size   path  \\\n",
       "2  millie  husky & german shepherd dog mix  young  female  medium  dog_3   \n",
       "5     sol           labrador retriever mix  adult    male   large  dog_8   \n",
       "\n",
       "   numImages  downloadedImages  \\\n",
       "2          5                 5   \n",
       "5          4                 4   \n",
       "\n",
       "                                                link  cleanImages  \n",
       "2  https://www.petfinder.com/dog/millie-54650265/...            2  \n",
       "5  https://www.petfinder.com/dog/sol-52421267/bc/...            2  "
      ]
     },
     "execution_count": 17,
     "metadata": {},
     "output_type": "execute_result"
    }
   ],
   "source": [
    "dogInfo"
   ]
  },
  {
   "cell_type": "markdown",
   "id": "be691f18",
   "metadata": {},
   "source": [
    "## Dog Cleaning"
   ]
  },
  {
   "cell_type": "code",
   "execution_count": 11,
   "id": "82ef6678",
   "metadata": {},
   "outputs": [
    {
     "name": "stderr",
     "output_type": "stream",
     "text": [
      "/home/aidan/Programs/miniconda3/envs/dogapp/lib/python3.9/site-packages/torch/functional.py:445: UserWarning: torch.meshgrid: in an upcoming release, it will be required to pass the indexing argument. (Triggered internally at  /opt/conda/conda-bld/pytorch_1640811803361/work/aten/src/ATen/native/TensorShape.cpp:2157.)\n",
      "  return _VF.meshgrid(tensors, **kwargs)  # type: ignore[attr-defined]\n"
     ]
    }
   ],
   "source": [
    "numCleanedImagesAll = []\n",
    "\n",
    "# Iterating through each dog\n",
    "for index, dog in dogInfo.iterrows():\n",
    "    \n",
    "    # Defining list to hold path to i\n",
    "    imagePaths = []\n",
    "    \n",
    "    # Appending the path to each image\n",
    "    for i in range(0, dog['downloadedImages']):\n",
    "        imagePaths.append(f\"dogs/{dog['path']}/img_{i}.jpg\")\n",
    "        \n",
    "    # Loading and transforming images\n",
    "    images = to_tensor(imagePaths)\n",
    "    \n",
    "    # Moving images to DEVICE\n",
    "    images = list(image.to(DEVICE) for image in images)\n",
    "    \n",
    "    # Running image through model\n",
    "    outputs = model(images, '')\n",
    "    \n",
    "    # Moving images to CPU\n",
    "    images = list(image.to(CPU_DEVICE) for image in images)\n",
    "    \n",
    "    # Moving images back to CPU\n",
    "    outputs = [{k: v.to(CPU_DEVICE) for k, v in t.items()} for t in outputs]\n",
    "    \n",
    "    # Executing non max surpression on the model output\n",
    "    outputs = nms(outputs)\n",
    "    \n",
    "    # Defining counter of the number of cleaned images\n",
    "    numCleanedImages = 0\n",
    "    \n",
    "    # Iterating through the results and removing the bad pictures\n",
    "    for i in range(0, dog['downloadedImages']):\n",
    "        # If the image is not clean (i.e. no dog or more than 1 dog, we delete it)\n",
    "        if len(outputs[i]['labels']) != 1:\n",
    "            os.remove(f\"dogs/{dog['path']}/img_{i}.jpg\")\n",
    "        \n",
    "        # If the image is clean, we just rename it to keep it inline with numCleanedImagesAll\n",
    "        else:\n",
    "            os.rename(f\"dogs/{dog['path']}/img_{i}.jpg\", f\"dogs/{dog['path']}/img_{numCleanedImages}.jpg\")\n",
    "            numCleanedImages += 1\n",
    "            \n",
    "    # Appending the cleaned image counts to the list\n",
    "    numCleanedImagesAll.append(numCleanedImages)\n",
    "    \n",
    "# Appending the cleaned image counts to the df\n",
    "dogInfo['cleanImages'] = numCleanedImagesAll"
   ]
  },
  {
   "cell_type": "code",
   "execution_count": 12,
   "id": "0249d7b8",
   "metadata": {},
   "outputs": [],
   "source": [
    "dogInfo.to_csv('attributes.csv')"
   ]
  },
  {
   "cell_type": "code",
   "execution_count": null,
   "id": "d910a0f4",
   "metadata": {},
   "outputs": [],
   "source": [
    "# YOU DON\"T NEED THIS PART ITS JUST FOR FUN\n",
    "\n",
    "from plot_tensor import plot_tensor\n",
    "import numpy as np\n",
    "\n",
    "# Plotting image just for fun (you don't need this)\n",
    "for i in range(0, len(images)):\n",
    "    plot_tensor(images[i],np.array(outputs[i]['boxes']))"
   ]
  }
 ],
 "metadata": {
  "kernelspec": {
   "display_name": "Python 3 (ipykernel)",
   "language": "python",
   "name": "python3"
  },
  "language_info": {
   "codemirror_mode": {
    "name": "ipython",
    "version": 3
   },
   "file_extension": ".py",
   "mimetype": "text/x-python",
   "name": "python",
   "nbconvert_exporter": "python",
   "pygments_lexer": "ipython3",
   "version": "3.9.7"
  }
 },
 "nbformat": 4,
 "nbformat_minor": 5
}
