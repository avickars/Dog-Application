{
 "cells": [
  {
   "cell_type": "code",
   "execution_count": 1,
   "id": "e1367688",
   "metadata": {},
   "outputs": [],
   "source": [
    "# Loading in functions\n",
    "from non_max_surpression import NonMaxSurpression\n",
    "from model_dog_detection import DogDetectorModel\n",
    "from image_to_tensor import to_tensor\n",
    "\n",
    "# Loading libraries\n",
    "import torch \n",
    "import os\n",
    "import math\n",
    "import pandas as pd"
   ]
  },
  {
   "cell_type": "markdown",
   "id": "d1775480",
   "metadata": {},
   "source": [
    "## Model Loading"
   ]
  },
  {
   "cell_type": "code",
   "execution_count": 2,
   "id": "82491645",
   "metadata": {},
   "outputs": [],
   "source": [
    "# Initializing the model\n",
    "model = DogDetectorModel()"
   ]
  },
  {
   "cell_type": "code",
   "execution_count": 3,
   "id": "2b10dc1f",
   "metadata": {},
   "outputs": [],
   "source": [
    "# Initializing Non Max Surpression with default parameters\n",
    "nms = NonMaxSurpression()"
   ]
  },
  {
   "cell_type": "code",
   "execution_count": 4,
   "id": "d31eedfc",
   "metadata": {},
   "outputs": [],
   "source": [
    "# Setting the device\n",
    "DEVICE = torch.device(\"cuda:0\" if torch.cuda.is_available() else \"cpu\")\n",
    "\n",
    "CPU_DEVICE = torch.device(\"cpu\")"
   ]
  },
  {
   "cell_type": "code",
   "execution_count": 5,
   "id": "7f9ea7e8",
   "metadata": {},
   "outputs": [],
   "source": [
    "# Loading the checkpoint\n",
    "checkpoint = torch.load('dog-detection-model.pt')\n",
    "\n",
    "# Loading the model weights\n",
    "model.load_state_dict(checkpoint['model_state_dict'])\n",
    "\n",
    "# Setting model to evaluation model\n",
    "model = model.eval()\n",
    "\n",
    "# Moving to training device\n",
    "model = model.to(DEVICE)"
   ]
  },
  {
   "cell_type": "markdown",
   "id": "d594be95",
   "metadata": {},
   "source": [
    "## Dog Loading"
   ]
  },
  {
   "cell_type": "code",
   "execution_count": 6,
   "id": "d404d666",
   "metadata": {},
   "outputs": [],
   "source": [
    "dogInfo = pd.read_csv('attributes.csv', index_col=0)"
   ]
  },
  {
   "cell_type": "code",
   "execution_count": null,
   "id": "94e93af0",
   "metadata": {},
   "outputs": [],
   "source": [
    "# dogInfo = dogInfo[dogInfo['path'] == 'dog_20']"
   ]
  },
  {
   "cell_type": "markdown",
   "id": "69839f8e",
   "metadata": {},
   "source": [
    "## Dog Cleaning"
   ]
  },
  {
   "cell_type": "code",
   "execution_count": 7,
   "id": "ba65e840",
   "metadata": {},
   "outputs": [],
   "source": [
    "def split(a, n):\n",
    "    # CITATION: https://stackoverflow.com/questions/2130016/splitting-a-list-into-n-parts-of-approximately-equal-length\n",
    "    k, m = divmod(len(a), n)\n",
    "    return (a[i*k+min(i, m):(i+1)*k+min(i+1, m)] for i in range(n))"
   ]
  },
  {
   "cell_type": "code",
   "execution_count": 8,
   "id": "77a437cf",
   "metadata": {},
   "outputs": [
    {
     "name": "stdout",
     "output_type": "stream",
     "text": [
      "0.0 %\n"
     ]
    },
    {
     "name": "stderr",
     "output_type": "stream",
     "text": [
      "/home/aidan/Programs/miniconda3/envs/dogapp/lib/python3.9/site-packages/torch/functional.py:445: UserWarning: torch.meshgrid: in an upcoming release, it will be required to pass the indexing argument. (Triggered internally at  /opt/conda/conda-bld/pytorch_1640811803361/work/aten/src/ATen/native/TensorShape.cpp:2157.)\n",
      "  return _VF.meshgrid(tensors, **kwargs)  # type: ignore[attr-defined]\n"
     ]
    },
    {
     "name": "stdout",
     "output_type": "stream",
     "text": [
      "1.0 %\n",
      "2.0 %\n",
      "3.0 %\n",
      "4.0 %\n",
      "5.0 %\n",
      "6.0 %\n",
      "7.0 %\n",
      "8.0 %\n",
      "9.0 %\n",
      "10.0 %\n",
      "11.0 %\n",
      "12.0 %\n",
      "13.0 %\n",
      "14.0 %\n",
      "15.0 %\n",
      "16.0 %\n",
      "17.0 %\n",
      "18.0 %\n",
      "19.0 %\n",
      "20.0 %\n",
      "21.0 %\n",
      "22.0 %\n",
      "23.0 %\n",
      "24.0 %\n",
      "25.0 %\n",
      "26.0 %\n",
      "27.0 %\n",
      "28.0 %\n",
      "29.0 %\n",
      "30.0 %\n",
      "31.0 %\n",
      "32.0 %\n",
      "33.0 %\n",
      "34.0 %\n",
      "35.0 %\n",
      "36.0 %\n",
      "37.0 %\n",
      "38.0 %\n",
      "39.0 %\n",
      "40.0 %\n",
      "41.0 %\n",
      "42.0 %\n",
      "43.0 %\n",
      "44.0 %\n",
      "45.0 %\n",
      "46.0 %\n",
      "47.0 %\n",
      "48.0 %\n",
      "49.0 %\n",
      "50.0 %\n",
      "51.0 %\n",
      "52.0 %\n",
      "53.0 %\n",
      "54.0 %\n",
      "55.0 %\n",
      "56.0 %\n",
      "57.0 %\n",
      "58.0 %\n",
      "59.0 %\n",
      "60.0 %\n",
      "61.0 %\n",
      "62.0 %\n",
      "63.0 %\n",
      "64.0 %\n",
      "65.0 %\n",
      "66.0 %\n",
      "67.0 %\n",
      "68.0 %\n",
      "69.0 %\n",
      "70.0 %\n",
      "71.0 %\n",
      "72.0 %\n",
      "73.0 %\n",
      "74.0 %\n",
      "75.0 %\n",
      "76.0 %\n",
      "77.0 %\n",
      "78.0 %\n",
      "79.0 %\n",
      "80.0 %\n",
      "81.0 %\n",
      "82.0 %\n",
      "83.0 %\n",
      "84.0 %\n",
      "85.0 %\n",
      "86.0 %\n",
      "87.0 %\n",
      "88.0 %\n",
      "89.0 %\n",
      "90.0 %\n",
      "91.0 %\n",
      "92.0 %\n",
      "93.0 %\n",
      "94.0 %\n",
      "95.0 %\n",
      "96.0 %\n",
      "97.0 %\n",
      "98.0 %\n",
      "99.0 %\n"
     ]
    }
   ],
   "source": [
    "numCleanedImagesAll = []\n",
    "boxes = []\n",
    "\n",
    "# Iterating through each dog\n",
    "for index, dog in dogInfo.iterrows():\n",
    "    if index % 65 == 0:\n",
    "        print(f\"{round((index / 6500) * 100, 3)} %\")\n",
    "        \n",
    "    # Defining batch size of 2\n",
    "    numBatches = math.ceil(dog['downloadedImages'] / 2)\n",
    "    \n",
    "    batchRanges = list(split(range(dog['downloadedImages']),numBatches))\n",
    "    \n",
    "    # Defining counter of the number of cleaned images\n",
    "    numCleanedImages = 0\n",
    "    \n",
    "    for i in range(0,len(batchRanges)):\n",
    "        batchRange = batchRanges[i]\n",
    "    \n",
    "        # Defining list to hold path to i\n",
    "        imagePaths = []\n",
    "\n",
    "        # Appending the path to each image\n",
    "        for k in batchRange:\n",
    "            imagePaths.append(f\"dogs/{dog['path']}/img_{k}.jpg\")\n",
    "\n",
    "        # Loading and transforming images\n",
    "        images = to_tensor(imagePaths)\n",
    "\n",
    "        # Moving images to DEVICE\n",
    "        images = list(image.to(DEVICE) for image in images)\n",
    "\n",
    "        # Running image through model\n",
    "        outputs = model(images, '')\n",
    "\n",
    "        # Moving images to CPU\n",
    "        images = list(image.to(CPU_DEVICE) for image in images)\n",
    "\n",
    "        # Moving images back to CPU\n",
    "        outputs = [{k: v.to(CPU_DEVICE) for k, v in t.items()} for t in outputs]\n",
    "\n",
    "        # Executing non max surpression on the model output\n",
    "        outputs = nms(outputs)\n",
    "        \n",
    "        # Iterating through the results and removing the bad pictures\n",
    "        for j in range(0, len(imagePaths)):\n",
    "            # If the image is not clean (i.e. no dog or more than 1 dog, we delete it)\n",
    "            if len(outputs[j]['labels']) != 1:\n",
    "                'bfjhdks'\n",
    "                os.remove(f\"dogs/{dog['path']}/img_{i*2 + j}.jpg\")\n",
    "\n",
    "            # If the image is clean, we just rename it to keep it inline with numCleanedImagesAll\n",
    "            else:\n",
    "                # Renaming the file\n",
    "                os.rename(f\"dogs/{dog['path']}/img_{i*2 + j}.jpg\", f\"dogs/{dog['path']}/img_{numCleanedImages}.jpg\")\n",
    "\n",
    "                # Extracting the bounding box\n",
    "                box = outputs[j]['boxes'][0]\n",
    "\n",
    "                # Recording the bounding box\n",
    "                boxes.append(\n",
    "                    {\n",
    "                        'path':dog['path'], \n",
    "                        'image':f\"img_{numCleanedImages}.jpg\",\n",
    "                        'xmin': box[0],\n",
    "                        'ymin': box[1],\n",
    "                        'xmax': box[2],\n",
    "                        'ymax': box[3]\n",
    "\n",
    "                    }\n",
    "                )\n",
    "                # Incrementing the number of cleaned images\n",
    "                numCleanedImages += 1\n",
    "            \n",
    "            \n",
    "    # Appending the cleaned image counts to the list\n",
    "    numCleanedImagesAll.append(numCleanedImages)\n",
    "    \n",
    "    \n",
    "# Appending the cleaned image counts to the df\n",
    "dogInfo['cleanImages'] = numCleanedImagesAll"
   ]
  },
  {
   "cell_type": "code",
   "execution_count": 9,
   "id": "7ac52a1f",
   "metadata": {},
   "outputs": [],
   "source": [
    "boxesDF = pd.DataFrame(boxes)\n",
    "boxesDF.to_csv('boxesDF.csv')"
   ]
  },
  {
   "cell_type": "code",
   "execution_count": 15,
   "id": "df770ecd",
   "metadata": {},
   "outputs": [],
   "source": [
    "dogInfo[dogInfo['cleanImages'] >= 2].reset_index(drop=True).to_csv('attributes.csv')"
   ]
  },
  {
   "cell_type": "code",
   "execution_count": null,
   "id": "c407c7ed",
   "metadata": {},
   "outputs": [],
   "source": [
    "# YOU DON\"T NEED THIS PART ITS JUST FOR FUN\n",
    "\n",
    "from plot_tensor import plot_tensor\n",
    "import numpy as np\n",
    "\n",
    "# Plotting image just for fun (you don't need this)\n",
    "for i in range(0, len(images)):\n",
    "    plot_tensor(images[i],np.array(outputs[i]['boxes']))"
   ]
  }
 ],
 "metadata": {
  "kernelspec": {
   "display_name": "Python 3 (ipykernel)",
   "language": "python",
   "name": "python3"
  },
  "language_info": {
   "codemirror_mode": {
    "name": "ipython",
    "version": 3
   },
   "file_extension": ".py",
   "mimetype": "text/x-python",
   "name": "python",
   "nbconvert_exporter": "python",
   "pygments_lexer": "ipython3",
   "version": "3.9.7"
  }
 },
 "nbformat": 4,
 "nbformat_minor": 5
}
