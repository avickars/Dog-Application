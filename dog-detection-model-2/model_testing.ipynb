{
 "cells": [
  {
   "cell_type": "code",
   "execution_count": 25,
   "id": "6e60b41e",
   "metadata": {},
   "outputs": [],
   "source": [
    "from data_loader import OpenImagesDataset, collate_fn\n",
    "from params import DEVICE, CPU_DEVICE\n",
    "from non_max_surpression import NonMaxSurpression\n",
    "from model import DogDetectorModel\n",
    "from model_transformations import Transformations\n",
    "from mean_average_precision import MAP\n",
    "from torch.utils.data import DataLoader\n",
    "import torch\n",
    "import matplotlib.pyplot as plt\n",
    "import numpy as np\n",
    "import copy"
   ]
  },
  {
   "cell_type": "code",
   "execution_count": 26,
   "id": "c6eb5fad",
   "metadata": {},
   "outputs": [],
   "source": [
    "import torch.multiprocessing\n",
    "torch.multiprocessing.set_sharing_strategy('file_system')"
   ]
  },
  {
   "cell_type": "code",
   "execution_count": 27,
   "id": "21ff4319",
   "metadata": {},
   "outputs": [],
   "source": [
    "# Initializing the model\n",
    "model = DogDetectorModel()\n",
    "\n",
    "# Moving to training device\n",
    "model = model.to(DEVICE)"
   ]
  },
  {
   "cell_type": "code",
   "execution_count": 28,
   "id": "d969d837",
   "metadata": {},
   "outputs": [],
   "source": [
    "checkpoint = torch.load('model_2.pt')\n",
    "model.load_state_dict(checkpoint['model_state_dict'])\n",
    "maps = checkpoint['MAPs']\n",
    "model = model.eval()"
   ]
  },
  {
   "cell_type": "code",
   "execution_count": 29,
   "id": "8f64cd92",
   "metadata": {},
   "outputs": [],
   "source": [
    "epochs = [i[0] for i in maps]\n",
    "maps = [i[1].item() for i in maps]"
   ]
  },
  {
   "cell_type": "code",
   "execution_count": 30,
   "id": "2e54c9eb",
   "metadata": {},
   "outputs": [
    {
     "data": {
      "image/png": "[encoded data removed]",
      "text/plain": [
       "<Figure size 432x288 with 1 Axes>"
      ]
     },
     "metadata": {
      "needs_background": "light"
     },
     "output_type": "display_data"
    }
   ],
   "source": [
    "plt.plot(epochs, maps)\n",
    "plt.title(\"Epoch v. MAP 0.5:0.95\")\n",
    "plt.xlabel('Epoch')\n",
    "plt.ylabel('MAP 0.5:0.95')\n",
    "plt.show()"
   ]
  },
  {
   "cell_type": "markdown",
   "id": "3eb7cbbd",
   "metadata": {},
   "source": [
    "## Determining optimum NMS Cutoffs"
   ]
  },
  {
   "cell_type": "code",
   "execution_count": 31,
   "id": "10d408cc",
   "metadata": {},
   "outputs": [],
   "source": [
    "# Reading in the training data\n",
    "validationData = OpenImagesDataset(rootDirectory='open-images-v6',\n",
    "                                 transform=Transformations, \n",
    "                                 dataType='test')    \n",
    "\n",
    "# Defining the training data\n",
    "validationDataLoader = DataLoader(dataset=validationData, \n",
    "                             batch_size=1,\n",
    "                             num_workers=1,\n",
    "                             shuffle=False, collate_fn=collate_fn)"
   ]
  },
  {
   "cell_type": "code",
   "execution_count": 32,
   "id": "1dfb38ed",
   "metadata": {
    "scrolled": true
   },
   "outputs": [
    {
     "name": "stderr",
     "output_type": "stream",
     "text": [
      "/home/aidan/Programs/miniconda3/envs/dogapp/lib/python3.9/site-packages/torch/functional.py:445: UserWarning: torch.meshgrid: in an upcoming release, it will be required to pass the indexing argument. (Triggered internally at  /opt/conda/conda-bld/pytorch_1640811803361/work/aten/src/ATen/native/TensorShape.cpp:2157.)\n",
      "  return _VF.meshgrid(tensors, **kwargs)  # type: ignore[attr-defined]\n"
     ]
    }
   ],
   "source": [
    "outputsAll = []\n",
    "targetsAll = []\n",
    "\n",
    "# Turning off the gradient\n",
    "with torch.no_grad():\n",
    "    for (images, targets) in validationDataLoader:\n",
    "        # Moving everything to training device\n",
    "        images = list(image.to(DEVICE) for image in images)\n",
    "\n",
    "        outputs = model(images, targets)\n",
    "\n",
    "        outputs = [{k: v.to(CPU_DEVICE) for k, v in t.items()} for t in outputs]\n",
    "\n",
    "        outputsAll += (outputs)\n",
    "        targetsAll += (targets)"
   ]
  },
  {
   "cell_type": "code",
   "execution_count": 47,
   "id": "eb8ca98b",
   "metadata": {},
   "outputs": [],
   "source": [
    "nms = NonMaxSurpression(0.5, 0.75)\n",
    "\n",
    "outputsAllSurpressed = nms(copy.deepcopy(outputsAll))"
   ]
  },
  {
   "cell_type": "code",
   "execution_count": 48,
   "id": "9d59ac73",
   "metadata": {},
   "outputs": [],
   "source": [
    "APs = []\n",
    "for threshold in torch.arange(start=0.5, end=1, step=0.05):\n",
    "    APs.append(MAP(outputsAllSurpressed, copy.deepcopy(targetsAll), threshold))\n",
    "map = sum(APs)/len(APs)"
   ]
  },
  {
   "cell_type": "code",
   "execution_count": 49,
   "id": "6cfc7940",
   "metadata": {},
   "outputs": [
    {
     "data": {
      "text/plain": [
       "tensor(0.7381)"
      ]
     },
     "execution_count": 49,
     "metadata": {},
     "output_type": "execute_result"
    }
   ],
   "source": [
    "map"
   ]
  },
  {
   "cell_type": "code",
   "execution_count": 24,
   "id": "eab3bbb1",
   "metadata": {},
   "outputs": [
    {
     "name": "stdout",
     "output_type": "stream",
     "text": [
      "1 1\n",
      "1 2\n",
      "1 3\n",
      "1 4\n",
      "1 5\n",
      "1 6\n",
      "1 7\n",
      "1 8\n",
      "1 9\n",
      "1 10\n",
      "1 11\n",
      "1 12\n",
      "1 13\n",
      "1 14\n",
      "1 15\n",
      "1 16\n",
      "1 17\n",
      "1 18\n",
      "1 19\n",
      "2 1\n",
      "2 2\n",
      "2 3\n",
      "2 4\n",
      "2 5\n",
      "2 6\n",
      "2 7\n",
      "2 8\n",
      "2 9\n",
      "2 10\n",
      "2 11\n",
      "2 12\n",
      "2 13\n",
      "2 14\n",
      "2 15\n",
      "2 16\n",
      "2 17\n",
      "2 18\n",
      "2 19\n",
      "3 1\n",
      "3 2\n",
      "3 3\n",
      "3 4\n",
      "3 5\n",
      "3 6\n",
      "3 7\n",
      "3 8\n",
      "3 9\n",
      "3 10\n",
      "3 11\n",
      "3 12\n",
      "3 13\n",
      "3 14\n",
      "3 15\n",
      "3 16\n",
      "3 17\n",
      "3 18\n",
      "3 19\n",
      "4 1\n",
      "4 2\n",
      "4 3\n",
      "4 4\n",
      "4 5\n",
      "4 6\n",
      "4 7\n",
      "4 8\n",
      "4 9\n",
      "4 10\n",
      "4 11\n",
      "4 12\n",
      "4 13\n",
      "4 14\n",
      "4 15\n",
      "4 16\n",
      "4 17\n",
      "4 18\n",
      "4 19\n",
      "5 1\n",
      "5 2\n",
      "5 3\n",
      "5 4\n",
      "5 5\n",
      "5 6\n",
      "5 7\n",
      "5 8\n",
      "5 9\n",
      "5 10\n",
      "5 11\n",
      "5 12\n",
      "5 13\n",
      "5 14\n",
      "5 15\n",
      "5 16\n",
      "5 17\n",
      "5 18\n",
      "5 19\n",
      "6 1\n",
      "6 2\n",
      "6 3\n",
      "6 4\n",
      "6 5\n",
      "6 6\n",
      "6 7\n",
      "6 8\n",
      "6 9\n",
      "6 10\n",
      "6 11\n",
      "6 12\n",
      "6 13\n",
      "6 14\n",
      "6 15\n",
      "6 16\n",
      "6 17\n",
      "6 18\n",
      "6 19\n",
      "7 1\n",
      "7 2\n",
      "7 3\n",
      "7 4\n",
      "7 5\n",
      "7 6\n",
      "7 7\n",
      "7 8\n",
      "7 9\n",
      "7 10\n",
      "7 11\n",
      "7 12\n",
      "7 13\n",
      "7 14\n",
      "7 15\n",
      "7 16\n",
      "7 17\n",
      "7 18\n",
      "7 19\n",
      "8 1\n",
      "8 2\n",
      "8 3\n",
      "8 4\n",
      "8 5\n",
      "8 6\n",
      "8 7\n",
      "8 8\n",
      "8 9\n",
      "8 10\n",
      "8 11\n",
      "8 12\n",
      "8 13\n",
      "8 14\n",
      "8 15\n",
      "8 16\n",
      "8 17\n",
      "8 18\n",
      "8 19\n",
      "9 1\n",
      "9 2\n",
      "9 3\n",
      "9 4\n",
      "9 5\n",
      "9 6\n",
      "9 7\n",
      "9 8\n",
      "9 9\n",
      "9 10\n",
      "9 11\n",
      "9 12\n",
      "9 13\n",
      "9 14\n",
      "9 15\n",
      "9 16\n",
      "9 17\n",
      "9 18\n",
      "9 19\n",
      "10 1\n",
      "10 2\n",
      "10 3\n",
      "10 4\n",
      "10 5\n",
      "10 6\n",
      "10 7\n",
      "10 8\n",
      "10 9\n",
      "10 10\n",
      "10 11\n",
      "10 12\n",
      "10 13\n",
      "10 14\n",
      "10 15\n",
      "10 16\n",
      "10 17\n",
      "10 18\n",
      "10 19\n",
      "11 1\n",
      "11 2\n",
      "11 3\n",
      "11 4\n",
      "11 5\n",
      "11 6\n",
      "11 7\n",
      "11 8\n",
      "11 9\n",
      "11 10\n",
      "11 11\n",
      "11 12\n",
      "11 13\n",
      "11 14\n",
      "11 15\n",
      "11 16\n",
      "11 17\n",
      "11 18\n",
      "11 19\n",
      "12 1\n",
      "12 2\n",
      "12 3\n",
      "12 4\n",
      "12 5\n",
      "12 6\n",
      "12 7\n",
      "12 8\n",
      "12 9\n",
      "12 10\n",
      "12 11\n",
      "12 12\n",
      "12 13\n",
      "12 14\n",
      "12 15\n",
      "12 16\n",
      "12 17\n",
      "12 18\n",
      "12 19\n",
      "13 1\n",
      "13 2\n",
      "13 3\n",
      "13 4\n",
      "13 5\n",
      "13 6\n",
      "13 7\n",
      "13 8\n",
      "13 9\n",
      "13 10\n",
      "13 11\n",
      "13 12\n",
      "13 13\n",
      "13 14\n",
      "13 15\n",
      "13 16\n",
      "13 17\n",
      "13 18\n",
      "13 19\n",
      "14 1\n",
      "14 2\n",
      "14 3\n",
      "14 4\n",
      "14 5\n",
      "14 6\n",
      "14 7\n",
      "14 8\n",
      "14 9\n",
      "14 10\n",
      "14 11\n",
      "14 12\n",
      "14 13\n",
      "14 14\n",
      "14 15\n",
      "14 16\n",
      "14 17\n",
      "14 18\n",
      "14 19\n",
      "15 1\n",
      "15 2\n",
      "15 3\n",
      "15 4\n",
      "15 5\n",
      "15 6\n",
      "15 7\n",
      "15 8\n",
      "15 9\n",
      "15 10\n",
      "15 11\n",
      "15 12\n",
      "15 13\n",
      "15 14\n",
      "15 15\n",
      "15 16\n",
      "15 17\n",
      "15 18\n",
      "15 19\n",
      "16 1\n",
      "16 2\n",
      "16 3\n",
      "16 4\n",
      "16 5\n",
      "16 6\n",
      "16 7\n",
      "16 8\n",
      "16 9\n",
      "16 10\n",
      "16 11\n",
      "16 12\n",
      "16 13\n",
      "16 14\n",
      "16 15\n",
      "16 16\n",
      "16 17\n",
      "16 18\n",
      "16 19\n",
      "17 1\n",
      "17 2\n",
      "17 3\n",
      "17 4\n",
      "17 5\n",
      "17 6\n",
      "17 7\n",
      "17 8\n",
      "17 9\n",
      "17 10\n",
      "17 11\n",
      "17 12\n",
      "17 13\n",
      "17 14\n",
      "17 15\n",
      "17 16\n",
      "17 17\n",
      "17 18\n",
      "17 19\n",
      "18 1\n",
      "18 2\n",
      "18 3\n",
      "18 4\n",
      "18 5\n",
      "18 6\n",
      "18 7\n",
      "18 8\n",
      "18 9\n",
      "18 10\n",
      "18 11\n",
      "18 12\n",
      "18 13\n",
      "18 14\n",
      "18 15\n",
      "18 16\n",
      "18 17\n",
      "18 18\n",
      "18 19\n",
      "19 1\n",
      "19 2\n",
      "19 3\n",
      "19 4\n",
      "19 5\n",
      "19 6\n",
      "19 7\n",
      "19 8\n",
      "19 9\n",
      "19 10\n",
      "19 11\n",
      "19 12\n",
      "19 13\n",
      "19 14\n",
      "19 15\n",
      "19 16\n",
      "19 17\n",
      "19 18\n",
      "19 19\n"
     ]
    }
   ],
   "source": [
    "results = np.zeros((19,19))\n",
    "\n",
    "for i in range(1, 20):\n",
    "    for j in range(1,20):\n",
    "        print(i, j)\n",
    "        probThreshold=0.05 * i\n",
    "        iouThreshold=0.05 * j\n",
    "        \n",
    "        nms = NonMaxSurpression(probThreshold, iouThreshold)\n",
    "                \n",
    "        outputsAllSurpressed = nms(copy.deepcopy(outputsAll))\n",
    "        \n",
    "        APs = []\n",
    "        for threshold in torch.arange(start=0.5, end=1, step=0.05):\n",
    "            APs.append(MAP(outputsAllSurpressed, copy.deepcopy(targetsAll), threshold))\n",
    "            \n",
    "        map = sum(APs)/len(APs)\n",
    "        \n",
    "        results[i-1,j-1] = map\n",
    "\n",
    "        \n",
    "        \n",
    "        \n"
   ]
  },
  {
   "cell_type": "code",
   "execution_count": 25,
   "id": "3ad27a3d",
   "metadata": {},
   "outputs": [],
   "source": [
    "with open('map_grid.npy', 'wb') as f:\n",
    "    np.save(f, results)"
   ]
  },
  {
   "cell_type": "code",
   "execution_count": 3,
   "id": "061ae9ee",
   "metadata": {},
   "outputs": [],
   "source": [
    "results = np.load('map_grid.npy')"
   ]
  },
  {
   "cell_type": "code",
   "execution_count": 44,
   "id": "736dbb49",
   "metadata": {},
   "outputs": [
    {
     "data": {
      "text/plain": [
       "[0.05,\n",
       " 0.1,\n",
       " 0.15,\n",
       " 0.2,\n",
       " 0.25,\n",
       " 0.3,\n",
       " 0.35,\n",
       " 0.4,\n",
       " 0.45,\n",
       " 0.5,\n",
       " 0.55,\n",
       " 0.6,\n",
       " 0.65,\n",
       " 0.7,\n",
       " 0.75,\n",
       " 0.8,\n",
       " 0.85,\n",
       " 0.9,\n",
       " 0.95]"
      ]
     },
     "execution_count": 44,
     "metadata": {},
     "output_type": "execute_result"
    }
   ],
   "source": [
    "[round(i * 0.05,2) for i in list(range(1,20))]"
   ]
  },
  {
   "cell_type": "code",
   "execution_count": null,
   "id": "0abe7778",
   "metadata": {},
   "outputs": [],
   "source": [
    "[0, 0.25,0.5,0.75]"
   ]
  },
  {
   "cell_type": "code",
   "execution_count": 40,
   "id": "ce846648",
   "metadata": {},
   "outputs": [
    {
     "name": "stderr",
     "output_type": "stream",
     "text": [
      "/tmp/ipykernel_905/4269036419.py:6: UserWarning: FixedFormatter should only be used together with FixedLocator\n",
      "  ax.set_xticklabels([0.0, 0.05, 0.25,0.5,0.75,1])\n",
      "/tmp/ipykernel_905/4269036419.py:7: UserWarning: FixedFormatter should only be used together with FixedLocator\n",
      "  ax.set_yticklabels([0.0, 0.05, 0.25,0.5,0.75,1])\n"
     ]
    },
    {
     "data": {
      "image/png": "[encoded data removed]",
      "text/plain": [
       "<Figure size 432x288 with 2 Axes>"
      ]
     },
     "metadata": {
      "needs_background": "light"
     },
     "output_type": "display_data"
    }
   ],
   "source": [
    "fig, ax = plt.subplots()\n",
    "ax.matshow(results)\n",
    "ax.set_xlabel('Object Threshold')\n",
    "ax.set_ylabel('IOU Threshold')\n",
    "ax.xaxis.set_label_position('top') \n",
    "ax.set_xticklabels([0.0, 0.05, 0.25,0.5,0.75,1])\n",
    "ax.set_yticklabels([0.0, 0.05, 0.25,0.5,0.75,1])\n",
    "plt.title('Object Threshold vs. IOU Threshold MAP 0.5:0.95 Plot')\n",
    "img = ax.matshow(results, interpolation='none')\n",
    "plt.colorbar(img, ax=ax)\n",
    "plt.show()"
   ]
  },
  {
   "cell_type": "code",
   "execution_count": 17,
   "id": "c76e682e",
   "metadata": {},
   "outputs": [
    {
     "data": {
      "text/plain": [
       "(array([0]), array([18]))"
      ]
     },
     "execution_count": 17,
     "metadata": {},
     "output_type": "execute_result"
    }
   ],
   "source": [
    "np.where(results == results.max())"
   ]
  },
  {
   "cell_type": "code",
   "execution_count": 15,
   "id": "cca2373d",
   "metadata": {},
   "outputs": [
    {
     "data": {
      "text/plain": [
       "0.7467242479324341"
      ]
     },
     "execution_count": 15,
     "metadata": {},
     "output_type": "execute_result"
    }
   ],
   "source": [
    "results[0,18]"
   ]
  },
  {
   "cell_type": "code",
   "execution_count": 50,
   "id": "8c4d12bf",
   "metadata": {},
   "outputs": [],
   "source": [
    "# Reading in the training data\n",
    "testData = OpenImagesDataset(rootDirectory='open-images-v6',\n",
    "                                 transform=Transformations, \n",
    "                                 dataType='test')    \n",
    "\n",
    "# Defining the training data\n",
    "testDataLoader = DataLoader(dataset=testData, \n",
    "                             batch_size=1,\n",
    "                             num_workers=2,\n",
    "                             shuffle=False, collate_fn=collate_fn)"
   ]
  },
  {
   "cell_type": "code",
   "execution_count": 51,
   "id": "87c48803",
   "metadata": {},
   "outputs": [],
   "source": [
    "outputsAll = []\n",
    "targetsAll = []\n",
    "\n",
    "# Turning off the gradient\n",
    "with torch.no_grad():\n",
    "    for (images, targets) in validationDataLoader:\n",
    "        # Moving everything to training device\n",
    "        images = list(image.to(DEVICE) for image in images)\n",
    "\n",
    "        outputs = model(images, targets)\n",
    "\n",
    "        outputs = [{k: v.to(CPU_DEVICE) for k, v in t.items()} for t in outputs]\n",
    "\n",
    "        outputsAll += (outputs)\n",
    "        targetsAll += (targets)"
   ]
  },
  {
   "cell_type": "code",
   "execution_count": 52,
   "id": "2bc1978b",
   "metadata": {},
   "outputs": [],
   "source": [
    "nms = NonMaxSurpression(0.5, 0.75)\n",
    "\n",
    "outputsAllSurpressed = nms(copy.deepcopy(outputsAll))"
   ]
  },
  {
   "cell_type": "code",
   "execution_count": 53,
   "id": "e0dee6b4",
   "metadata": {},
   "outputs": [],
   "source": [
    "APs = []\n",
    "for threshold in torch.arange(start=0.5, end=1, step=0.05):\n",
    "    APs.append(MAP(outputsAllSurpressed, copy.deepcopy(targetsAll), threshold))\n",
    "map = sum(APs)/len(APs)"
   ]
  },
  {
   "cell_type": "code",
   "execution_count": 54,
   "id": "8959157a",
   "metadata": {},
   "outputs": [
    {
     "data": {
      "text/plain": [
       "tensor(0.7381)"
      ]
     },
     "execution_count": 54,
     "metadata": {},
     "output_type": "execute_result"
    }
   ],
   "source": [
    "map"
   ]
  }
 ],
 "metadata": {
  "kernelspec": {
   "display_name": "Python 3 (ipykernel)",
   "language": "python",
   "name": "python3"
  },
  "language_info": {
   "codemirror_mode": {
    "name": "ipython",
    "version": 3
   },
   "file_extension": ".py",
   "mimetype": "text/x-python",
   "name": "python",
   "nbconvert_exporter": "python",
   "pygments_lexer": "ipython3",
   "version": "3.9.7"
  }
 },
 "nbformat": 4,
 "nbformat_minor": 5
}
