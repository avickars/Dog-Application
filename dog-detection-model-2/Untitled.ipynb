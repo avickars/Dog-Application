{
 "cells": [
  {
   "cell_type": "code",
   "execution_count": 2,
   "id": "612545d2",
   "metadata": {},
   "outputs": [],
   "source": [
    "from data_loader import OpenImagesDataset\n",
    "from model_utils import plot_tensor\n",
    "from model_transformations import Transformations\n",
    "from torch.utils.data import DataLoader\n",
    "from params import BATCH_SIZE, DEVICE"
   ]
  },
  {
   "cell_type": "code",
   "execution_count": 3,
   "id": "e3eed8e5",
   "metadata": {},
   "outputs": [],
   "source": [
    "from torch import nn\n",
    "from torchvision import models\n",
    "from torchvision.models.detection.faster_rcnn import FastRCNNPredictor\n",
    "\n",
    "class DogDetectorModel(nn.Module):\n",
    "    # CITATION: https://pytorch.org/tutorials/intermediate/torchvision_tutorial.html\n",
    "    \n",
    "    def __init__(self, modelPath=None):\n",
    "        super(DogDetectorModel, self).__init__()\n",
    "        # We only have 2 classes (dog and background)\n",
    "        numClasses = 2\n",
    "        \n",
    "        # load a model pre-trained on COCO\n",
    "        self.model = models.detection.fasterrcnn_resnet50_fpn(pretrained=True)\n",
    "        \n",
    "        # get number of input features for the classifier\n",
    "        inFeatures = self.model.roi_heads.box_predictor.cls_score.in_features\n",
    "        \n",
    "        # Rejigging the output to have the correct number of classifying features\n",
    "        self.model.roi_heads.box_predictor = FastRCNNPredictor(inFeatures, numClasses)\n",
    "\n",
    "    def forward(self, modelInput):\n",
    "\n",
    "        # Returning the model output\n",
    "        return self.model(modelInput)"
   ]
  },
  {
   "cell_type": "code",
   "execution_count": 4,
   "id": "f2662e59",
   "metadata": {},
   "outputs": [],
   "source": [
    "model = DogDetectorModel()"
   ]
  },
  {
   "cell_type": "code",
   "execution_count": 5,
   "id": "a05a4405",
   "metadata": {},
   "outputs": [],
   "source": [
    "# Reading in the training data\n",
    "trainingData = OpenImagesDataset(rootDirectory='open-images-v6',\n",
    "                                 transform=Transformations, \n",
    "                                 dataType='train')    \n",
    "\n",
    "# Defining the training data\n",
    "trainDataLoader = DataLoader(dataset=trainingData, \n",
    "                             batch_size=1,\n",
    "                             num_workers=8,\n",
    "                             shuffle=False)"
   ]
  },
  {
   "cell_type": "code",
   "execution_count": 7,
   "id": "995ea773",
   "metadata": {},
   "outputs": [],
   "source": [
    "model = model.to(DEVICE)"
   ]
  },
  {
   "cell_type": "code",
   "execution_count": null,
   "id": "a88857c5",
   "metadata": {},
   "outputs": [],
   "source": [
    "params = [p for p in model.parameters() if p.requires_grad]\n",
    "optimizer = torch.optim.SGD(params, lr=0.005,\n",
    "                            momentum=0.9, weight_decay=0.0005)"
   ]
  },
  {
   "cell_type": "code",
   "execution_count": null,
   "id": "e3e931bc",
   "metadata": {},
   "outputs": [],
   "source": [
    "trainingData = OpenImagesDataset(rootDirectory='open-images-v6', transform=Transformations,dataType='train')    \n",
    "image, boxes = trainingData.__getitem__(0)\n",
    "plot_tensor(image,boxes.reshape(1,-1))"
   ]
  },
  {
   "cell_type": "code",
   "execution_count": null,
   "id": "8e3fc590",
   "metadata": {},
   "outputs": [],
   "source": [
    "image, boxes = trainingData.__getitem__(0)"
   ]
  },
  {
   "cell_type": "code",
   "execution_count": null,
   "id": "f6f40243",
   "metadata": {},
   "outputs": [],
   "source": [
    "plot_tensor(image,boxes.reshape(1,-1))"
   ]
  },
  {
   "cell_type": "code",
   "execution_count": null,
   "id": "3661a040",
   "metadata": {},
   "outputs": [],
   "source": [
    "boxes.reshape(1,-1)"
   ]
  }
 ],
 "metadata": {
  "kernelspec": {
   "display_name": "Python 3 (ipykernel)",
   "language": "python",
   "name": "python3"
  },
  "language_info": {
   "codemirror_mode": {
    "name": "ipython",
    "version": 3
   },
   "file_extension": ".py",
   "mimetype": "text/x-python",
   "name": "python",
   "nbconvert_exporter": "python",
   "pygments_lexer": "ipython3",
   "version": "3.9.7"
  }
 },
 "nbformat": 4,
 "nbformat_minor": 5
}
