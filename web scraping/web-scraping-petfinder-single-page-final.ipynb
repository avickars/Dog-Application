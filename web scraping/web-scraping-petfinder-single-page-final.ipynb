{
 "cells": [
  {
   "cell_type": "code",
   "execution_count": 1,
   "id": "82df968a",
   "metadata": {},
   "outputs": [],
   "source": [
    "# write your code\n",
    "# ref: https://www.dataquest.io/blog/web-scraping-beautifulsoup/ \n",
    "# ref: https://www.dataquest.io/blog/web-scraping-python-using-beautiful-soup/ \n",
    "    \n",
    "import requests\n",
    "from requests import get\n",
    "from bs4 import BeautifulSoup\n",
    "import urllib.request # to download images\n",
    "import re\n",
    "import os # to make a directory\n",
    "import csv\n",
    "\n"
   ]
  },
  {
   "cell_type": "code",
   "execution_count": 2,
   "id": "cfd04679",
   "metadata": {},
   "outputs": [],
   "source": [
    "page = requests.get(\"https://www.petfinder.com/dog/laila-54754243/bc/prince-george/bc-spca-north-cariboo-branch-prince-george-bc20/\")\n",
    "soup = BeautifulSoup(page.content, 'html.parser')"
   ]
  },
  {
   "cell_type": "code",
   "execution_count": 3,
   "id": "51faf38e",
   "metadata": {},
   "outputs": [],
   "source": [
    "dog_name = soup.find(attrs={\"data-test\" : \"Pet_Name\"})\n",
    "dog_name = re.sub('\\s+', '', dog_name.contents[0]).lower() # remove \\n, tabs and spaces from string\n",
    "\n",
    "images = []\n",
    "for image in soup.find_all('img'):\n",
    "    images.append(image['src'])\n",
    "\n",
    "substring = '/'\n",
    "img_counter = 1\n",
    "unique_images = []\n",
    "\n",
    "for i in range(len(images)):\n",
    "    substring = substring + str(img_counter) + \"/\" \n",
    "    if(substring in images[i]):\n",
    "        unique_images.append(images[i])\n",
    "    substring = '/'\n",
    "    img_counter = img_counter + 1\n",
    "\n"
   ]
  },
  {
   "cell_type": "code",
   "execution_count": 4,
   "id": "f33cd51f",
   "metadata": {
    "scrolled": true
   },
   "outputs": [
    {
     "name": "stdout",
     "output_type": "stream",
     "text": [
      "dog_name:  laila\n",
      "dog_breed:  Pit Bull Terrier Mix\n",
      "dog_city:  Prince George\n",
      "dog_state:   BC\n",
      "unique_dog_dir:  laila-pit-bull-terrier-mix-princegeorge-bc\n",
      "dog_age:  Young\n",
      "dog_sex:  Female\n",
      "dog_size:  Medium\n"
     ]
    }
   ],
   "source": [
    "unique_dog_dir = ''\n",
    "unique_dog_dir = unique_dog_dir + dog_name\n",
    "\n",
    "dog_breed = soup.find(attrs={\"data-test\" : \"Pet_Breeds\"}).text.strip()\n",
    "\n",
    "unique_dog_dir = unique_dog_dir + '-' + dog_breed.lower().replace(\" \", \"-\") # breed to dogname\n",
    "\n",
    "pet_location = soup.find(attrs={\"data-test\" : \"Pet_Location\"}).text.strip()\n",
    "\n",
    "dog_location =  pet_location.split(\",\")\n",
    "dog_city = dog_location[0]\n",
    "dog_state = dog_location[1]\n",
    "\n",
    "pet_location_dir = re.sub('\\s+', '', pet_location).lower() # remove \\n, tabs and spaces from string\n",
    "\n",
    "unique_dog_dir = unique_dog_dir + '-' + pet_location_dir.replace(\",\", \"-\") # location to dogname\n",
    "\n",
    "dog_location =  pet_location.split(\",\")\n",
    "dog_city = dog_location[0]\n",
    "dog_state = dog_location[1]\n",
    "\n",
    "dog_age = soup.find(attrs={\"data-test\" : \"Pet_Age\"}).text.strip()\n",
    "dog_sex = soup.find(attrs={\"data-test\" : \"Pet_Sex\"}).text.strip()\n",
    "dog_size = soup.find(attrs={\"data-test\" : \"Pet_Full_Grown_Size\"}).text.strip()\n",
    "\n",
    "\n",
    "print(\"dog_name: \", dog_name)\n",
    "print(\"dog_breed: \", dog_breed)\n",
    "\n",
    "print(\"dog_city: \", dog_city)\n",
    "print(\"dog_state: \", dog_state)\n",
    "print(\"unique_dog_dir: \", unique_dog_dir)\n",
    "\n",
    "print(\"dog_age: \", dog_age)\n",
    "print(\"dog_sex: \", dog_sex)\n",
    "print(\"dog_size: \", dog_size)"
   ]
  },
  {
   "cell_type": "code",
   "execution_count": 5,
   "id": "7096f5d0",
   "metadata": {},
   "outputs": [],
   "source": [
    "unique_directory_counter = 1"
   ]
  },
  {
   "cell_type": "code",
   "execution_count": 6,
   "id": "74603f63",
   "metadata": {},
   "outputs": [],
   "source": [
    "\n",
    "try:\n",
    "    path = os.path.join(\"images/\", unique_dog_dir)\n",
    "    os.makedirs(path)\n",
    "except FileExistsError:\n",
    "    # directory already exists - append unique num at the end of dir to make it unique\n",
    "    path = os.path.join(\"images/\", unique_dog_dir + '-' + str(unique_directory_counter))\n",
    "    os.makedirs(path)\n",
    "    unique_directory_counter = unique_directory_counter + 1\n",
    "    pass"
   ]
  },
  {
   "cell_type": "code",
   "execution_count": 7,
   "id": "22ff61e5",
   "metadata": {},
   "outputs": [
    {
     "name": "stdout",
     "output_type": "stream",
     "text": [
      "https://dl5zpyw5k3jeb.cloudfront.net/photos/pets/54754243/1/?bust=1645813108&width=720\n",
      "images/laila-pit-bull-terrier-mix-princegeorge-bc/laila-1.jpg\n",
      "https://dl5zpyw5k3jeb.cloudfront.net/photos/pets/54754243/2/?bust=1645813108&width=720\n",
      "images/laila-pit-bull-terrier-mix-princegeorge-bc/laila-2.jpg\n"
     ]
    }
   ],
   "source": [
    "# download dog's images in that unique directory\n",
    "unique_images_counter = 1\n",
    "for image_url in unique_images:\n",
    "    # urllib.request.urlretrieve(image_url, \"try_images/try.jpg\")\n",
    "    dog_image_name = dog_name + '-' + str(unique_images_counter) + \".jpg\"\n",
    "    dog_image_path = path + '/' + dog_image_name\n",
    "    \n",
    "    urllib.request.urlretrieve(image_url, dog_image_path)\n",
    "    \n",
    "    unique_images_counter = unique_images_counter + 1\n",
    "    print(image_url)\n",
    "    print(dog_image_path)"
   ]
  },
  {
   "cell_type": "code",
   "execution_count": 8,
   "id": "7da9803d",
   "metadata": {},
   "outputs": [],
   "source": [
    "#ref: https://www.pythontutorial.net/python-basics/python-write-csv-file/\n",
    "\n",
    "header = ['dog_name', 'dog_breed', 'dog_city', 'dog_state', 'unique_dog_dir', 'dog_age', 'dog_sex', 'dog_size', 'dog_images']\n",
    "data = [dog_name, dog_breed, dog_city, dog_state, unique_dog_dir, dog_age, dog_sex, dog_size, len(unique_images)]\n",
    "\n",
    "csv_file_name = dog_name + '.csv'\n",
    "\n",
    "with open(path + '/' + csv_file_name, 'w', encoding='UTF8') as f:\n",
    "    writer = csv.writer(f)\n",
    "\n",
    "    # write the header\n",
    "    writer.writerow(header)\n",
    "\n",
    "    # write the data\n",
    "    writer.writerow(data)"
   ]
  }
 ],
 "metadata": {
  "kernelspec": {
   "display_name": "Python 3",
   "language": "python",
   "name": "python3"
  },
  "language_info": {
   "codemirror_mode": {
    "name": "ipython",
    "version": 3
   },
   "file_extension": ".py",
   "mimetype": "text/x-python",
   "name": "python",
   "nbconvert_exporter": "python",
   "pygments_lexer": "ipython3",
   "version": "3.9.1"
  }
 },
 "nbformat": 4,
 "nbformat_minor": 5
}
