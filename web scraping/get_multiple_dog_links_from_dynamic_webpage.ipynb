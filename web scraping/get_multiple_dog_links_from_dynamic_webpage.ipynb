{
 "cells": [
  {
   "cell_type": "code",
   "execution_count": null,
   "id": "0c1198d1",
   "metadata": {},
   "outputs": [],
   "source": [
    "import requests\n",
    "from requests import get\n",
    "from bs4 import BeautifulSoup\n",
    "import urllib.request # to download images\n",
    "import re\n",
    "import os # to make a directory\n",
    "import csv\n",
    "\n"
   ]
  },
  {
   "cell_type": "code",
   "execution_count": null,
   "id": "9468ec7d",
   "metadata": {},
   "outputs": [],
   "source": [
    "from selenium.webdriver.common.by import By"
   ]
  },
  {
   "cell_type": "code",
   "execution_count": null,
   "id": "7ec2fbe2",
   "metadata": {},
   "outputs": [],
   "source": [
    "# this works\n",
    "\n",
    "from selenium import webdriver\n",
    "from webdriver_manager.chrome import ChromeDriverManager\n",
    "\n",
    "driver = webdriver.Chrome(ChromeDriverManager().install())"
   ]
  },
  {
   "cell_type": "code",
   "execution_count": null,
   "id": "95c8fa8f",
   "metadata": {},
   "outputs": [],
   "source": [
    "# link = 'https://www.petfinder.com/search/dogs-for-adoption/ca/british-columbia/?distance=Anywhere'\n",
    "# driver.get(link)\n",
    "# els = driver.find_elements(By.CLASS_NAME, \"petCard-link\")\n",
    "# for el in els:\n",
    "#     print(el.get_attribute('href'))"
   ]
  },
  {
   "cell_type": "code",
   "execution_count": null,
   "id": "14e069be",
   "metadata": {},
   "outputs": [],
   "source": []
  },
  {
   "cell_type": "code",
   "execution_count": null,
   "id": "60746bb2",
   "metadata": {},
   "outputs": [],
   "source": [
    "# try_link = 'https://www.petfinder.com/search/dogs-for-adoption/ca/british-columbia/?distance=Anywhere&page=2'\n",
    "\n",
    "link = 'https://www.petfinder.com/search/dogs-for-adoption/ca/british-columbia/?distance=Anywhere&page='\n",
    "\n",
    "for i in range(1,2800):\n",
    "    driver.get(link + str(i))\n",
    "    timeout = 5  # seconds\n",
    "    wait = WebDriverWait(driver, timeout)\n",
    "    time.sleep(5)\n",
    "    pet_links = driver.find_elements(By.CLASS_NAME, \"petCard-link\")\n",
    "\n",
    "    for pet_link in pet_links:\n",
    "        print(pet_link.get_attribute('href'))\n",
    "        with open('pet_links.txt', 'a') as f:\n",
    "            f.write(pet_link.get_attribute('href'))\n",
    "            f.write('\\n')"
   ]
  }
 ],
 "metadata": {
  "kernelspec": {
   "display_name": "Python 3",
   "language": "python",
   "name": "python3"
  },
  "language_info": {
   "codemirror_mode": {
    "name": "ipython",
    "version": 3
   },
   "file_extension": ".py",
   "mimetype": "text/x-python",
   "name": "python",
   "nbconvert_exporter": "python",
   "pygments_lexer": "ipython3",
   "version": "3.9.1"
  }
 },
 "nbformat": 4,
 "nbformat_minor": 5
}
