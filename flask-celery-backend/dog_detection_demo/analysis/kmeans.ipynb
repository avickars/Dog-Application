{
 "cells": [
  {
   "cell_type": "code",
   "execution_count": 1,
   "id": "06a379e2",
   "metadata": {},
   "outputs": [],
   "source": [
    "# Loading in functions\n",
    "import os\n",
    "import csv\n",
    "import torch\n",
    "import pandas as pd\n",
    "from os import listdir\n",
    "from model import DogDetectorModel\n",
    "from image_to_tensor import to_tensor\n",
    "from non_max_surpression import NonMaxSurpression"
   ]
  },
  {
   "cell_type": "code",
   "execution_count": null,
   "id": "32bfefdb",
   "metadata": {},
   "outputs": [],
   "source": [
    "def dog_extractor(image):\n",
    "\n",
    "    # Initializing the images path\n",
    "    img_path = \"/Users/karthik/Desktop/open-images-v6/train/data/\" + image\n",
    "\n",
    "    # Initializing the model\n",
    "    model = DogDetectorModel()\n",
    "\n",
    "    # Initializing Non Max Surpression with default parameters\n",
    "    nms = NonMaxSurpression()\n",
    "\n",
    "    # Loading the checkpoint\n",
    "    checkpoint = torch.load('model.pt', map_location=torch.device('cpu')) \n",
    "\n",
    "    # Loading the model weights\n",
    "    model.load_state_dict(checkpoint['model_state_dict'])\n",
    "\n",
    "    # Setting model to evaluation model\n",
    "    model = model.eval()\n",
    "\n",
    "    # Loading and transforming images\n",
    "    images = to_tensor([img_path])\n",
    "\n",
    "    # Running image through model\n",
    "    outputs = model(images, '')\n",
    "\n",
    "    # Executing non max surpression on the model output\n",
    "    outputs = nms(outputs)\n",
    "\n",
    "    return outputs\n",
    "\n",
    "\n",
    "\n",
    "vals = []\n",
    "folder_dir = \"/Users/karthik/Desktop/open-images-v6/train/data\"\n",
    "img_files = os.listdir(folder_dir)\n",
    "\n",
    "df = pd.read_csv('processed.csv', names=['image', 'width', 'height', 'area'], header=None)\n",
    "csv_vals_list = df['image']\n",
    "\n",
    "reqd_list = list(set(img_files) - set(csv_vals_list))\n",
    "\n",
    "for images in reqd_list:\n",
    "    if (images.endswith(\".png\") or images.endswith(\".jpg\") or images.endswith(\".jpeg\")):\n",
    "\n",
    "        # Output of the parameter\n",
    "        output = dog_extractor(images)\n",
    "        b_box = output[0]['boxes'][0]\n",
    "\n",
    "        # Calculating features\n",
    "        w = b_box[2] - b_box[0]\n",
    "        h = b_box[3] - b_box[1]\n",
    "        area = w * h\n",
    "        features = {'width': w,\n",
    "                    'height': h,\n",
    "                    'area': area}\n",
    "        \n",
    "        fields=[images, w, h, area]\n",
    "\n",
    "        with open(r'processed.csv', 'a') as f:\n",
    "            writer = csv.writer(f)\n",
    "            writer.writerow(fields)\n",
    "        \n",
    "        vals.append(features)\n",
    "        print(area)"
   ]
  },
  {
   "cell_type": "code",
   "execution_count": 2,
   "id": "31a144f1",
   "metadata": {},
   "outputs": [],
   "source": [
    "df = pd.read_csv('processed.csv', names=['image', 'width', 'height', 'area'], header=None)"
   ]
  },
  {
   "cell_type": "code",
   "execution_count": 3,
   "id": "c906d95a",
   "metadata": {},
   "outputs": [],
   "source": [
    "del df['image']"
   ]
  },
  {
   "cell_type": "code",
   "execution_count": 4,
   "id": "deef4a11",
   "metadata": {},
   "outputs": [],
   "source": [
    "df.to_csv('km.csv')"
   ]
  },
  {
   "cell_type": "code",
   "execution_count": 5,
   "id": "a6d8cc08",
   "metadata": {},
   "outputs": [],
   "source": [
    "data = df"
   ]
  },
  {
   "cell_type": "code",
   "execution_count": 6,
   "id": "c024caba",
   "metadata": {},
   "outputs": [
    {
     "data": {
      "text/html": [
       "<div>\n",
       "<style scoped>\n",
       "    .dataframe tbody tr th:only-of-type {\n",
       "        vertical-align: middle;\n",
       "    }\n",
       "\n",
       "    .dataframe tbody tr th {\n",
       "        vertical-align: top;\n",
       "    }\n",
       "\n",
       "    .dataframe thead th {\n",
       "        text-align: right;\n",
       "    }\n",
       "</style>\n",
       "<table border=\"1\" class=\"dataframe\">\n",
       "  <thead>\n",
       "    <tr style=\"text-align: right;\">\n",
       "      <th></th>\n",
       "      <th>0</th>\n",
       "      <th>1</th>\n",
       "      <th>2</th>\n",
       "    </tr>\n",
       "  </thead>\n",
       "  <tbody>\n",
       "    <tr>\n",
       "      <th>count</th>\n",
       "      <td>6.010000e+02</td>\n",
       "      <td>6.010000e+02</td>\n",
       "      <td>6.010000e+02</td>\n",
       "    </tr>\n",
       "    <tr>\n",
       "      <th>mean</th>\n",
       "      <td>9.698288e-18</td>\n",
       "      <td>3.911643e-17</td>\n",
       "      <td>-1.089903e-17</td>\n",
       "    </tr>\n",
       "    <tr>\n",
       "      <th>std</th>\n",
       "      <td>1.000833e+00</td>\n",
       "      <td>1.000833e+00</td>\n",
       "      <td>1.000833e+00</td>\n",
       "    </tr>\n",
       "    <tr>\n",
       "      <th>min</th>\n",
       "      <td>-1.515458e+00</td>\n",
       "      <td>-1.622996e+00</td>\n",
       "      <td>-5.297689e-01</td>\n",
       "    </tr>\n",
       "    <tr>\n",
       "      <th>25%</th>\n",
       "      <td>-7.816083e-01</td>\n",
       "      <td>-8.016186e-01</td>\n",
       "      <td>-3.926206e-01</td>\n",
       "    </tr>\n",
       "    <tr>\n",
       "      <th>50%</th>\n",
       "      <td>-1.412687e-01</td>\n",
       "      <td>1.785945e-02</td>\n",
       "      <td>-1.377185e-01</td>\n",
       "    </tr>\n",
       "    <tr>\n",
       "      <th>75%</th>\n",
       "      <td>6.822344e-01</td>\n",
       "      <td>6.168713e-01</td>\n",
       "      <td>2.278793e-01</td>\n",
       "    </tr>\n",
       "    <tr>\n",
       "      <th>max</th>\n",
       "      <td>1.108197e+01</td>\n",
       "      <td>1.133917e+01</td>\n",
       "      <td>2.226231e+01</td>\n",
       "    </tr>\n",
       "  </tbody>\n",
       "</table>\n",
       "</div>"
      ],
      "text/plain": [
       "                  0             1             2\n",
       "count  6.010000e+02  6.010000e+02  6.010000e+02\n",
       "mean   9.698288e-18  3.911643e-17 -1.089903e-17\n",
       "std    1.000833e+00  1.000833e+00  1.000833e+00\n",
       "min   -1.515458e+00 -1.622996e+00 -5.297689e-01\n",
       "25%   -7.816083e-01 -8.016186e-01 -3.926206e-01\n",
       "50%   -1.412687e-01  1.785945e-02 -1.377185e-01\n",
       "75%    6.822344e-01  6.168713e-01  2.278793e-01\n",
       "max    1.108197e+01  1.133917e+01  2.226231e+01"
      ]
     },
     "execution_count": 6,
     "metadata": {},
     "output_type": "execute_result"
    }
   ],
   "source": [
    "# standardizing the data\n",
    "from sklearn.preprocessing import StandardScaler\n",
    "scaler = StandardScaler()\n",
    "data_scaled = scaler.fit_transform(data)\n",
    "\n",
    "# statistics of scaled data\n",
    "pd.DataFrame(data_scaled).describe()"
   ]
  },
  {
   "cell_type": "code",
   "execution_count": null,
   "id": "4a536a17",
   "metadata": {},
   "outputs": [],
   "source": [
    "import pandas as pd\n",
    "import numpy as np\n",
    "import matplotlib.pyplot as plt\n",
    "from sklearn.cluster import KMeans\n",
    "from sklearn import datasets\n",
    "\n",
    "x = data.iloc[:, [0,1,2]]\n",
    "x  = np.array(x)\n",
    "\n",
    "# Define the model\n",
    "kmeans_model = KMeans(n_clusters=3)\n",
    "# Fit into our dataset fit\n",
    "kmeans_predict = kmeans_model.fit_predict(x)"
   ]
  },
  {
   "cell_type": "code",
   "execution_count": 1,
   "id": "67df8bb0",
   "metadata": {},
   "outputs": [
    {
     "ename": "NameError",
     "evalue": "name 'kmeans_predict' is not defined",
     "output_type": "error",
     "traceback": [
      "\u001b[0;31m---------------------------------------------------------------------------\u001b[0m",
      "\u001b[0;31mNameError\u001b[0m                                 Traceback (most recent call last)",
      "\u001b[0;32m/var/folders/kq/rf_yrb3n64b4gpgcqw82gjl40000gn/T/ipykernel_75029/1586444421.py\u001b[0m in \u001b[0;36m<module>\u001b[0;34m\u001b[0m\n\u001b[0;32m----> 1\u001b[0;31m \u001b[0mdata\u001b[0m\u001b[0;34m[\u001b[0m\u001b[0;34m'cluster'\u001b[0m\u001b[0;34m]\u001b[0m \u001b[0;34m=\u001b[0m \u001b[0mkmeans_predict\u001b[0m\u001b[0;34m\u001b[0m\u001b[0;34m\u001b[0m\u001b[0m\n\u001b[0m",
      "\u001b[0;31mNameError\u001b[0m: name 'kmeans_predict' is not defined"
     ]
    }
   ],
   "source": [
    "data['cluster'] = kmeans_predict"
   ]
  },
  {
   "cell_type": "code",
   "execution_count": null,
   "id": "72e9f83c",
   "metadata": {},
   "outputs": [],
   "source": [
    "data"
   ]
  },
  {
   "cell_type": "code",
   "execution_count": null,
   "id": "ee3108b6",
   "metadata": {},
   "outputs": [],
   "source": [
    "# Visualising the clusters\n",
    "plt.scatter(x[kmeans_predict == 0, 0], x[kmeans_predict == 0, 1], s=100, c = 'red', label = 'Large')\n",
    "plt.scatter(x[kmeans_predict == 1, 0], x[kmeans_predict == 1, 1], s=100, c = 'blue', label = 'Medium')\n",
    "plt.scatter(x[kmeans_predict == 2, 0], x[kmeans_predict == 2, 1], s=100, c = 'green', label = 'Small')\n",
    "# Plotting the centroids of the clusters\n",
    "plt.scatter(kmeans_model.cluster_centers_[:, 0], kmeans_model.cluster_centers_[:,1], s=100, c = 'yellow', label = 'Centroids')\n",
    "plt.legend()"
   ]
  }
 ],
 "metadata": {
  "kernelspec": {
   "display_name": "Python 3 (ipykernel)",
   "language": "python",
   "name": "python3"
  },
  "language_info": {
   "codemirror_mode": {
    "name": "ipython",
    "version": 3
   },
   "file_extension": ".py",
   "mimetype": "text/x-python",
   "name": "python",
   "nbconvert_exporter": "python",
   "pygments_lexer": "ipython3",
   "version": "3.9.7"
  }
 },
 "nbformat": 4,
 "nbformat_minor": 5
}
