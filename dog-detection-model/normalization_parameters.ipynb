{
 "cells": [
  {
   "cell_type": "code",
   "execution_count": 1,
   "id": "3c388a61",
   "metadata": {},
   "outputs": [],
   "source": [
    "from model_utils import OpenImagesDataset, IMAGE_SIZE, imageTransforms\n",
    "from torch.utils.data import DataLoader\n",
    "import torch"
   ]
  },
  {
   "cell_type": "code",
   "execution_count": 2,
   "id": "46915401",
   "metadata": {},
   "outputs": [],
   "source": [
    "# Creating the dataset\n",
    "trainingData = OpenImagesDataset(rootDirectory='open-images-v6', \n",
    "                                 anchorBoxes='centroids.npy', \n",
    "                                 transform=imageTransforms, \n",
    "                                 dataType='train')     "
   ]
  },
  {
   "cell_type": "code",
   "execution_count": 3,
   "id": "1030a6c2",
   "metadata": {},
   "outputs": [],
   "source": [
    "# Defining the dataloader\n",
    "trainDataLoader = DataLoader(dataset=trainingData, \n",
    "                             batch_size=32,\n",
    "                             num_workers=8)"
   ]
  },
  {
   "cell_type": "code",
   "execution_count": 4,
   "id": "56c91a7a",
   "metadata": {},
   "outputs": [],
   "source": [
    "# Computing the total number of pixels (its the same for each channel)\n",
    "numPixels = len(trainingData) * IMAGE_SIZE * IMAGE_SIZE"
   ]
  },
  {
   "cell_type": "code",
   "execution_count": 5,
   "id": "4bc082f5",
   "metadata": {},
   "outputs": [],
   "source": [
    "# Defining tensor to hold the totals for each channel\n",
    "total = torch.tensor([0.,0.,0.])\n",
    "\n",
    "# Iterating through each bach, and summing up the values in each channgel respectively\n",
    "for batch_ndx, (data, label) in enumerate(trainDataLoader):\n",
    "    total += torch.sum(data, dim=[0,2,3])\n",
    "\n",
    "# Computing the mean\n",
    "mean = total / numPixels"
   ]
  },
  {
   "cell_type": "code",
   "execution_count": 6,
   "id": "af490355",
   "metadata": {},
   "outputs": [],
   "source": [
    "# Defining tensor to hold the totals for each channel\n",
    "total = torch.tensor([0.,0.,0.])\n",
    "\n",
    "# Iterating through each bach, and summing up the values in each channgel respectively\n",
    "for batch_ndx, (data, label) in enumerate(trainDataLoader):\n",
    "    # Data Shape: BatchSize/NumChannels/ImageSize/ImageSize -> BatchSize/NumChannels/ImageSize*ImageSize\n",
    "    data = data.view((data.shape[0], 3, -1))\n",
    "    \n",
    "    # Data Shape: BatchSize/NumChannels/ImageSize*ImageSize -> BatchSize/ImageSize*ImageSize/NumChannels\n",
    "    data = data.transpose(1,2)\n",
    "    \n",
    "    # Computing the inside of the sqrt\n",
    "    total += torch.sum((data-mean)**2, dim=[0,1])\n",
    "\n",
    "# Computing the STD\n",
    "std = torch.sqrt(total/numPixels) "
   ]
  },
  {
   "cell_type": "code",
   "execution_count": 7,
   "id": "3a9f4ff5",
   "metadata": {},
   "outputs": [
    {
     "name": "stdout",
     "output_type": "stream",
     "text": [
      "Channel Means:  tensor([0.4777, 0.4482, 0.3984])\n"
     ]
    }
   ],
   "source": [
    "print('Channel Means: ',mean)"
   ]
  },
  {
   "cell_type": "code",
   "execution_count": 8,
   "id": "2f9c360e",
   "metadata": {},
   "outputs": [
    {
     "name": "stdout",
     "output_type": "stream",
     "text": [
      "Channel STDs:  tensor([0.2717, 0.2655, 0.2715])\n"
     ]
    }
   ],
   "source": [
    "print('Channel STDs: ',std)"
   ]
  }
 ],
 "metadata": {
  "kernelspec": {
   "display_name": "Python 3 (ipykernel)",
   "language": "python",
   "name": "python3"
  },
  "language_info": {
   "codemirror_mode": {
    "name": "ipython",
    "version": 3
   },
   "file_extension": ".py",
   "mimetype": "text/x-python",
   "name": "python",
   "nbconvert_exporter": "python",
   "pygments_lexer": "ipython3",
   "version": "3.9.7"
  }
 },
 "nbformat": 4,
 "nbformat_minor": 5
}
