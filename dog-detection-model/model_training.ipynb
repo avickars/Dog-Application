{
 "cells": [
  {
   "cell_type": "code",
   "execution_count": 14,
   "id": "5993b582",
   "metadata": {},
   "outputs": [],
   "source": [
    "from data_loader import OpenImagesDataset\n",
    "from model_utils import device\n",
    "from model_transformations import Transformations\n",
    "from torch.utils.data import DataLoader\n",
    "from params import NUM_EPOCHS, GRID_SIZE,IMAGE_SIZE, NUM_ANCHOR_BOXES\n",
    "import torch.optim as optim\n",
    "import torch\n",
    "from loss import YoloLoss\n",
    "from tqdm import tqdm\n",
    "from model import DogDetectorModel"
   ]
  },
  {
   "cell_type": "code",
   "execution_count": 12,
   "id": "98b7bb9d",
   "metadata": {},
   "outputs": [],
   "source": [
    "# Reading in the training data\n",
    "trainingData = OpenImagesDataset(rootDirectory='open-images-v6', \n",
    "                                 anchorBoxes='centroids.npy', \n",
    "                                 transform=Transformations, \n",
    "                                 dataType='validation', \n",
    "                                 gridSize=GRID_SIZE, \n",
    "                                 imageSize=IMAGE_SIZE)    \n",
    "\n",
    "# Defining the training data\n",
    "trainDataLoader = DataLoader(dataset=trainingData, \n",
    "                             batch_size=30,\n",
    "                             num_workers=4,\n",
    "                             shuffle=True)\n",
    "\n",
    "# Reading in the training data\n",
    "validationData = OpenImagesDataset(rootDirectory='open-images-v6', \n",
    "                                 anchorBoxes='centroids.npy', \n",
    "                                 transform=Transformations, \n",
    "                                 dataType='validation', \n",
    "                                 gridSize=GRID_SIZE, \n",
    "                                 imageSize=IMAGE_SIZE)    \n",
    "\n",
    "# Defining the training data\n",
    "validationDataLoader = DataLoader(dataset=trainingData, \n",
    "                             batch_size=30,\n",
    "                             num_workers=4,\n",
    "                             shuffle=True)"
   ]
  },
  {
   "cell_type": "code",
   "execution_count": 15,
   "id": "2ab25976",
   "metadata": {},
   "outputs": [],
   "source": [
    "# Initializing the model\n",
    "model = DogDetectorModel(gridSize=13, numAnchorBoxes=NUM_ANCHOR_BOXES)"
   ]
  },
  {
   "cell_type": "code",
   "execution_count": 16,
   "id": "e4dd0660",
   "metadata": {},
   "outputs": [],
   "source": [
    "# Moving the model to the GPU\n",
    "model = model.to(device)"
   ]
  },
  {
   "cell_type": "code",
   "execution_count": 17,
   "id": "f88e244b",
   "metadata": {},
   "outputs": [],
   "source": [
    "# Defining the optimizer\n",
    "optimizer = optim.SGD(list(model.parameters()), lr=0.00001, momentum=0.9, weight_decay=0.0005)"
   ]
  },
  {
   "cell_type": "code",
   "execution_count": 18,
   "id": "977f73e7",
   "metadata": {},
   "outputs": [],
   "source": [
    "lossYolo = YoloLoss('centroids.npy', device)"
   ]
  },
  {
   "cell_type": "code",
   "execution_count": 19,
   "id": "accb24b8",
   "metadata": {},
   "outputs": [
    {
     "name": "stderr",
     "output_type": "stream",
     "text": [
      "Epoch: [1/20]: 100%|████████████████████████████████████████████████████████████████████████████████████████████████████████████████████████████████████████████████████████████████████████████████████████████████████████████████████████| 53/53 [00:28<00:00,  1.85it/s, loss=48.5]\n",
      "  0%|                                                                                                                                                                                                                                                           | 0/53 [00:01<?, ?it/s]\n"
     ]
    },
    {
     "ename": "KeyboardInterrupt",
     "evalue": "",
     "output_type": "error",
     "traceback": [
      "\u001b[0;31m---------------------------------------------------------------------------\u001b[0m",
      "\u001b[0;31mKeyboardInterrupt\u001b[0m                         Traceback (most recent call last)",
      "Input \u001b[0;32mIn [19]\u001b[0m, in \u001b[0;36m<module>\u001b[0;34m\u001b[0m\n\u001b[1;32m     52\u001b[0m label \u001b[38;5;241m=\u001b[39m label\u001b[38;5;241m.\u001b[39mto(device)\n\u001b[1;32m     54\u001b[0m output \u001b[38;5;241m=\u001b[39m model(modelInput)\n\u001b[0;32m---> 56\u001b[0m loss \u001b[38;5;241m=\u001b[39m \u001b[43mlossYolo\u001b[49m\u001b[43m(\u001b[49m\u001b[43moutput\u001b[49m\u001b[43m,\u001b[49m\u001b[43m \u001b[49m\u001b[43mlabel\u001b[49m\u001b[43m)\u001b[49m\n\u001b[1;32m     58\u001b[0m runningValidationError \u001b[38;5;241m+\u001b[39m\u001b[38;5;241m=\u001b[39m loss\u001b[38;5;241m.\u001b[39mitem()\n\u001b[1;32m     60\u001b[0m loop\u001b[38;5;241m.\u001b[39mset_description(\u001b[38;5;124mf\u001b[39m\u001b[38;5;124m\"\u001b[39m\u001b[38;5;124mEpoch: [\u001b[39m\u001b[38;5;132;01m{\u001b[39;00mepoch\u001b[38;5;241m+\u001b[39m\u001b[38;5;241m1\u001b[39m\u001b[38;5;132;01m}\u001b[39;00m\u001b[38;5;124m/\u001b[39m\u001b[38;5;132;01m{\u001b[39;00mNUM_EPOCHS\u001b[38;5;132;01m}\u001b[39;00m\u001b[38;5;124m]\u001b[39m\u001b[38;5;124m\"\u001b[39m)\n",
      "File \u001b[0;32m~/Programs/miniconda3/envs/dogapp/lib/python3.9/site-packages/torch/nn/modules/module.py:1102\u001b[0m, in \u001b[0;36mModule._call_impl\u001b[0;34m(self, *input, **kwargs)\u001b[0m\n\u001b[1;32m   1098\u001b[0m \u001b[38;5;66;03m# If we don't have any hooks, we want to skip the rest of the logic in\u001b[39;00m\n\u001b[1;32m   1099\u001b[0m \u001b[38;5;66;03m# this function, and just call forward.\u001b[39;00m\n\u001b[1;32m   1100\u001b[0m \u001b[38;5;28;01mif\u001b[39;00m \u001b[38;5;129;01mnot\u001b[39;00m (\u001b[38;5;28mself\u001b[39m\u001b[38;5;241m.\u001b[39m_backward_hooks \u001b[38;5;129;01mor\u001b[39;00m \u001b[38;5;28mself\u001b[39m\u001b[38;5;241m.\u001b[39m_forward_hooks \u001b[38;5;129;01mor\u001b[39;00m \u001b[38;5;28mself\u001b[39m\u001b[38;5;241m.\u001b[39m_forward_pre_hooks \u001b[38;5;129;01mor\u001b[39;00m _global_backward_hooks\n\u001b[1;32m   1101\u001b[0m         \u001b[38;5;129;01mor\u001b[39;00m _global_forward_hooks \u001b[38;5;129;01mor\u001b[39;00m _global_forward_pre_hooks):\n\u001b[0;32m-> 1102\u001b[0m     \u001b[38;5;28;01mreturn\u001b[39;00m \u001b[43mforward_call\u001b[49m\u001b[43m(\u001b[49m\u001b[38;5;241;43m*\u001b[39;49m\u001b[38;5;28;43minput\u001b[39;49m\u001b[43m,\u001b[49m\u001b[43m \u001b[49m\u001b[38;5;241;43m*\u001b[39;49m\u001b[38;5;241;43m*\u001b[39;49m\u001b[43mkwargs\u001b[49m\u001b[43m)\u001b[49m\n\u001b[1;32m   1103\u001b[0m \u001b[38;5;66;03m# Do not call functions when jit is used\u001b[39;00m\n\u001b[1;32m   1104\u001b[0m full_backward_hooks, non_full_backward_hooks \u001b[38;5;241m=\u001b[39m [], []\n",
      "File \u001b[0;32m~/Git-Repositories/Dog-Application/dog-detection-model/loss.py:44\u001b[0m, in \u001b[0;36mYoloLoss.forward\u001b[0;34m(self, predictions, target)\u001b[0m\n\u001b[1;32m     42\u001b[0m \u001b[38;5;28;01mdef\u001b[39;00m \u001b[38;5;21mforward\u001b[39m(\u001b[38;5;28mself\u001b[39m, predictions, target):\n\u001b[0;32m---> 44\u001b[0m     probObjectAndIou_hat \u001b[38;5;241m=\u001b[39m  torch\u001b[38;5;241m.\u001b[39msigmoid(\u001b[43mpredictions\u001b[49m\u001b[43m[\u001b[49m\u001b[43m:\u001b[49m\u001b[43m,\u001b[49m\u001b[43m:\u001b[49m\u001b[43m,\u001b[49m\u001b[43m:\u001b[49m\u001b[43m,\u001b[49m\u001b[38;5;28;43mself\u001b[39;49m\u001b[38;5;241;43m.\u001b[39;49m\u001b[43manchorBoxLocations\u001b[49m\u001b[43m]\u001b[49m)\n\u001b[1;32m     45\u001b[0m     probObjectAndIou \u001b[38;5;241m=\u001b[39m target[:,:,:,\u001b[38;5;28mself\u001b[39m\u001b[38;5;241m.\u001b[39manchorBoxLocations]\n\u001b[1;32m     46\u001b[0m     probNoObjectAndIou \u001b[38;5;241m=\u001b[39m \u001b[38;5;241m1\u001b[39m\u001b[38;5;241m-\u001b[39mtarget[:,:,:,\u001b[38;5;28mself\u001b[39m\u001b[38;5;241m.\u001b[39manchorBoxLocations]\n",
      "\u001b[0;31mKeyboardInterrupt\u001b[0m: "
     ]
    }
   ],
   "source": [
    "bestValidationError = 100000000\n",
    "\n",
    "for epoch in range(0, NUM_EPOCHS):\n",
    "    runningLoss = 0.0\n",
    "    \n",
    "    # ****************** TRAINING ******************\n",
    "    \n",
    "    # Setting the model to training\n",
    "    model.train()\n",
    "    \n",
    "    loop =  tqdm(enumerate(trainDataLoader), total=len(trainDataLoader), leave=True)\n",
    "    for batchIndex, (modelInput, label) in loop:\n",
    "\n",
    "        # zero the parameter gradients\n",
    "        optimizer.zero_grad()\n",
    "\n",
    "        # Moving the model input/label to GPU \n",
    "        modelInput = modelInput.to(device)\n",
    "        label = label.to(device)\n",
    "\n",
    "         # zero the parameter gradients\n",
    "        optimizer.zero_grad()\n",
    "\n",
    "        output = model(modelInput)\n",
    "\n",
    "        loss = lossYolo(output, label)\n",
    "\n",
    "        loss.backward()\n",
    "        optimizer.step()\n",
    "\n",
    "        runningLoss += loss.item()\n",
    "\n",
    "        loop.set_description(f\"Epoch: [{epoch+1}/{NUM_EPOCHS}]\")\n",
    "        loop.set_postfix(loss=loss.item())\n",
    "                \n",
    "    # ****************** VALIDATION ******************\n",
    "    \n",
    "    # Setting the model to evaluation mode\n",
    "    model.eval()\n",
    "    \n",
    "    # Turning of the gradient\n",
    "    with torch.no_grad():\n",
    "        \n",
    "        runningValidationError = 0\n",
    "        \n",
    "        loop =  tqdm(enumerate(validationDataLoader), total=len(trainDataLoader), leave=True)\n",
    "        \n",
    "        # Iterating through the batches of the validation data\n",
    "        for batchIndex, [modelInput, label] in loop:\n",
    "\n",
    "            # Moving the model input/label to GPU \n",
    "            modelInput = modelInput.to(device)\n",
    "            label = label.to(device)\n",
    "\n",
    "            output = model(modelInput)\n",
    "            \n",
    "            loss = lossYolo(output, label)\n",
    "            \n",
    "            runningValidationError += loss.item()\n",
    "            \n",
    "            loop.set_description(f\"Epoch: [{epoch+1}/{NUM_EPOCHS}]\")\n",
    "            loop.set_postfix(loss=loss.item())\n",
    "            \n",
    "        if runningValidationError < bestValidationError:\n",
    "            bestValidationError = runningValidationError\n",
    "            torch.save(model.state_dict(), 'yolov2.pt')\n",
    "            print('Updated saved model')\n",
    "\n",
    "        \n",
    "        \n",
    "    "
   ]
  },
  {
   "cell_type": "code",
   "execution_count": 22,
   "id": "5c1b3933",
   "metadata": {},
   "outputs": [
    {
     "data": {
      "text/plain": [
       "torch.Size([30, 13, 13, 35])"
      ]
     },
     "execution_count": 22,
     "metadata": {},
     "output_type": "execute_result"
    }
   ],
   "source": [
    "model(modelInput).shape"
   ]
  },
  {
   "cell_type": "code",
   "execution_count": null,
   "id": "42da197b",
   "metadata": {},
   "outputs": [],
   "source": []
  }
 ],
 "metadata": {
  "kernelspec": {
   "display_name": "Python 3 (ipykernel)",
   "language": "python",
   "name": "python3"
  },
  "language_info": {
   "codemirror_mode": {
    "name": "ipython",
    "version": 3
   },
   "file_extension": ".py",
   "mimetype": "text/x-python",
   "name": "python",
   "nbconvert_exporter": "python",
   "pygments_lexer": "ipython3",
   "version": "3.9.7"
  }
 },
 "nbformat": 4,
 "nbformat_minor": 5
}
