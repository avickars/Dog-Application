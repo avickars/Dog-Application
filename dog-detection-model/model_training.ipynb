{
 "cells": [
  {
   "cell_type": "code",
   "execution_count": 4,
   "id": "5993b582",
   "metadata": {},
   "outputs": [],
   "source": [
    "from data_loader import OpenImagesDataset\n",
    "from model_utils import device\n",
    "from model_transformations import Transformations\n",
    "from torch.utils.data import DataLoader\n",
    "from params import NUM_EPOCHS, GRID_SIZE,IMAGE_SIZE, NUM_ANCHOR_BOXES, BATCH_SIZE\n",
    "import torch.optim as optim\n",
    "import torch\n",
    "from model_loss import YoloLoss\n",
    "from tqdm import tqdm\n",
    "from model import DogDetectorModel\n",
    "import numpy as np\n",
    "from model_decoder import Decoder\n",
    "from non_max_surpression import NonMaxSurpression\n",
    "from true_box_extractor import true_box_extractor\n",
    "from mean_average_precision import MAP\n",
    "# torch.autograd.set_detect_anomaly(True)"
   ]
  },
  {
   "cell_type": "code",
   "execution_count": 5,
   "id": "bc9dc34f",
   "metadata": {},
   "outputs": [],
   "source": [
    "# torch.autograd.detect_anomaly()"
   ]
  },
  {
   "cell_type": "code",
   "execution_count": 6,
   "id": "98b7bb9d",
   "metadata": {},
   "outputs": [],
   "source": [
    "# Reading in the training data\n",
    "trainingData = OpenImagesDataset(rootDirectory='open-images-v6', \n",
    "                                 anchorBoxes='centroids.npy', \n",
    "                                 transform=Transformations, \n",
    "                                 dataType='train', \n",
    "                                 gridSize=GRID_SIZE, \n",
    "                                 imageSize=IMAGE_SIZE)    \n",
    "\n",
    "# Defining the training data\n",
    "trainDataLoader = DataLoader(dataset=trainingData, \n",
    "                             batch_size=BATCH_SIZE,\n",
    "                             num_workers=8,\n",
    "                             shuffle=False)\n",
    "\n",
    "# Reading in the training data\n",
    "validationData = OpenImagesDataset(rootDirectory='open-images-v6', \n",
    "                                 anchorBoxes='centroids.npy', \n",
    "                                 transform=Transformations, \n",
    "                                 dataType='validation', \n",
    "                                 gridSize=GRID_SIZE, \n",
    "                                 imageSize=IMAGE_SIZE)    \n",
    "\n",
    "# Defining the training data\n",
    "validationDataLoader = DataLoader(dataset=trainingData, \n",
    "                             batch_size=BATCH_SIZE,\n",
    "                             num_workers=8,\n",
    "                             shuffle=True)"
   ]
  },
  {
   "cell_type": "code",
   "execution_count": 7,
   "id": "2ab25976",
   "metadata": {},
   "outputs": [],
   "source": [
    "# Initializing the model\n",
    "model = DogDetectorModel(gridSize=13, numAnchorBoxes=NUM_ANCHOR_BOXES)"
   ]
  },
  {
   "cell_type": "code",
   "execution_count": null,
   "id": "e4dd0660",
   "metadata": {},
   "outputs": [
    {
     "name": "stderr",
     "output_type": "stream",
     "text": [
      "/home/aidan/Programs/miniconda3/envs/dogapp/lib/python3.7/site-packages/torch/cuda/__init__.py:143: UserWarning: \n",
      "NVIDIA GeForce RTX 3070 with CUDA capability sm_86 is not compatible with the current PyTorch installation.\n",
      "The current PyTorch install supports CUDA capabilities sm_37 sm_50 sm_60 sm_61 sm_70 sm_75 compute_37.\n",
      "If you want to use the NVIDIA GeForce RTX 3070 GPU with PyTorch, please check the instructions at https://pytorch.org/get-started/locally/\n",
      "\n",
      "  warnings.warn(incompatible_device_warn.format(device_name, capability, \" \".join(arch_list), device_name))\n"
     ]
    }
   ],
   "source": [
    "# Moving the model to the GPU\n",
    "model = model.to(device)"
   ]
  },
  {
   "cell_type": "code",
   "execution_count": null,
   "id": "f88e244b",
   "metadata": {},
   "outputs": [],
   "source": [
    "# Defining the optimizer\n",
    "params = [p for p in model.parameters() if p.requires_grad]\n",
    "# optimizer = optim.SGD(list(model.parameters()), lr=0.01, momentum=0.9, weight_decay=0.0005)\n",
    "optimizer = optim.SGD(params, lr=0.0001, momentum=0.9)"
   ]
  },
  {
   "cell_type": "code",
   "execution_count": null,
   "id": "977f73e7",
   "metadata": {},
   "outputs": [],
   "source": [
    "lossYolo = YoloLoss('centroids.npy', device)"
   ]
  },
  {
   "cell_type": "code",
   "execution_count": null,
   "id": "5e944142",
   "metadata": {},
   "outputs": [],
   "source": [
    "# modelInput, label = trainingData.__getitem__(15)"
   ]
  },
  {
   "cell_type": "code",
   "execution_count": 12,
   "id": "96d16a93",
   "metadata": {},
   "outputs": [],
   "source": [
    "# modelInput = modelInput.reshape((1,3,416,416))"
   ]
  },
  {
   "cell_type": "code",
   "execution_count": 13,
   "id": "f4d9ba07",
   "metadata": {},
   "outputs": [],
   "source": [
    "# label = label.reshape((1,13,13,35))"
   ]
  },
  {
   "cell_type": "code",
   "execution_count": 14,
   "id": "649e607c",
   "metadata": {},
   "outputs": [],
   "source": [
    "# loop =  tqdm(enumerate(trainDataLoader), total=len(trainDataLoader), leave=True)\n",
    "# for batchIndex, (modelInput, label) in loop:\n",
    "#     break"
   ]
  },
  {
   "cell_type": "code",
   "execution_count": 15,
   "id": "86aad6f4",
   "metadata": {},
   "outputs": [],
   "source": [
    "# Initializing the non max supressor for predictions\n",
    "nonMaxSurpressionPredicted = NonMaxSurpression()\n",
    "\n",
    "# Initializing the docoder\n",
    "decoder = Decoder('centroids.npy', device)"
   ]
  },
  {
   "cell_type": "code",
   "execution_count": 16,
   "id": "c0d7c516",
   "metadata": {},
   "outputs": [],
   "source": [
    "bestMapValue=0"
   ]
  },
  {
   "cell_type": "code",
   "execution_count": 17,
   "id": "accb24b8",
   "metadata": {},
   "outputs": [
    {
     "name": "stderr",
     "output_type": "stream",
     "text": [
      "Epoch: [1/20]:   0%|▋                                                                                                                                                                                                                   | 2/667 [00:42<3:58:14, 21.50s/it, loss=4.7e+3]\n",
      "\n",
      "KeyboardInterrupt\n",
      "\n"
     ]
    }
   ],
   "source": [
    "for epoch in range(0, 20):    \n",
    "    # ****************** TRAINING ******************\n",
    "    \n",
    "    # Setting the model to training\n",
    "    model.train()\n",
    "    \n",
    "    # Defining list to hold the mean loss\n",
    "    meanLoss = []\n",
    "    \n",
    "    # Defining lists to hold all the predictions and ground truths for all elements in each batch\n",
    "    predictedBoxesAllBatches = []\n",
    "    trueBoxesAllBatches = []\n",
    "    \n",
    "    # Defining loop to get the nice progress bar\n",
    "    loop =  tqdm(enumerate(trainDataLoader), total=len(trainDataLoader), leave=True)\n",
    "    \n",
    "    # Updating the output\n",
    "    loop.set_description(f\"Epoch: [{epoch+1}/{NUM_EPOCHS}]\")   \n",
    "    \n",
    "    for batchIndex, (modelInput, label) in loop:\n",
    "\n",
    "        # zero the parameter gradients\n",
    "        optimizer.zero_grad()\n",
    "\n",
    "        # Moving the model input/label to GPU \n",
    "        modelInput = modelInput.to(device)\n",
    "        label = label.to(device)\n",
    "        \n",
    "        # Computing the model output\n",
    "        output = model(modelInput)\n",
    "\n",
    "        # Computing the loss\n",
    "        loss = lossYolo(output, label)\n",
    "        \n",
    "        # Backpropogating the error\n",
    "        loss.backward()\n",
    "        \n",
    "        torch.nn.utils.clip_grad_norm_(list(model.parameters()), 5)\n",
    "        \n",
    "        # Executing gradient descent\n",
    "        optimizer.step()\n",
    "\n",
    "        # Appending the loss to the list\n",
    "        meanLoss.append(loss.item())\n",
    "\n",
    "        with torch.no_grad():\n",
    "            # Decoding the labels\n",
    "            decodedLabel = decoder(torch.clone(label), 'label')\n",
    "            \n",
    "            # Decoding the output\n",
    "            decodedOutput = decoder(torch.clone(output))    \n",
    "            \n",
    "            # Executing non max surpression on the decoded output to get the object detectiosn\n",
    "            predictedBoxes = nonMaxSurpressionPredicted(decodedOutput)\n",
    "            \n",
    "            # Extracting the true bound boxes from the decoded label\n",
    "            trueBoxes = true_box_extractor(label, decodedLabel)\n",
    "            \n",
    "            # Adding the detected boxes onto the list\n",
    "            predictedBoxesAllBatches += predictedBoxes\n",
    "            \n",
    "            # Adding the true boxes onto the list\n",
    "            trueBoxesAllBatches += trueBoxes\n",
    "        loop.set_postfix(loss=loss.item())\n",
    "     \n",
    "        \n",
    "        \n",
    "    # Computing the MAP value\n",
    "    mapValue = MAP(predictedBoxesAllBatches.copy(), trueBoxesAllBatches.copy())    \n",
    "        \n",
    "    print(f\"====> Train Mean Loss: {sum(meanLoss)/len(meanLoss)}\")\n",
    "    print(f\"====> Train MAP: {mapValue}\")\n",
    "                \n",
    "    # ****************** VALIDATION ******************\n",
    "    \n",
    "    # Setting the model to evaluation mode\n",
    "    model.eval()\n",
    "    \n",
    "    # Resetting lists from above\n",
    "    meanLoss = []\n",
    "    predictedBoxesAllBatches = []\n",
    "    trueBoxesAllBatches = []\n",
    "    \n",
    "    # Turning of the gradient\n",
    "    with torch.no_grad():\n",
    "        \n",
    "        # Defining loop to get the nice progress bar for the validation data\n",
    "        loop =  tqdm(enumerate(validationDataLoader), total=len(validationDataLoader), leave=True)\n",
    "        \n",
    "        loop.set_description(f\"Epoch: [{epoch+1}/{NUM_EPOCHS}]\")   \n",
    "        \n",
    "        # Iterating through the batches of the validation data\n",
    "        for batchIndex, [modelInput, label] in loop:\n",
    "\n",
    "            # Moving the model input/label to GPU \n",
    "            modelInput = modelInput.to(device)\n",
    "            label = label.to(device)\n",
    "\n",
    "            # Computing the model output\n",
    "            output = model(modelInput)\n",
    "            \n",
    "            # Computing the loss\n",
    "            loss = lossYolo(output, label)\n",
    "            \n",
    "            # Appending the loss\n",
    "            meanLoss.append(loss.item())\n",
    "            \n",
    "            # Decoding the labels\n",
    "            decodedLabel = decoder(torch.clone(label), 'label')\n",
    "            \n",
    "            # Decoding the output\n",
    "            decodedOutput = decoder(torch.clone(output))    \n",
    "            \n",
    "            # Executing non max surpression on the decoded output to get the object detectiosn\n",
    "            predictedBoxes = nonMaxSurpressionPredicted(decodedOutput)\n",
    "            \n",
    "            # Extracting the true bound boxes from the decoded label\n",
    "            trueBoxes = true_box_extractor(label, decodedLabel)\n",
    "            \n",
    "            # Adding the detected boxes onto the list\n",
    "            predictedBoxesAllBatches += predictedBoxes\n",
    "            \n",
    "            # Adding the true boxes onto the list\n",
    "            trueBoxesAllBatches += trueBoxes\n",
    "            loop.set_postfix(loss=loss.item()) \n",
    "        \n",
    "            \n",
    "        # Computing the MAP value\n",
    "        mapValue = MAP(predictedBoxesAllBatches.copy(), trueBoxesAllBatches.copy())    \n",
    "        \n",
    "        if mapValue > bestMapValue:\n",
    "            print('Saving New Model')\n",
    "            EPOCH = epoch\n",
    "            PATH = \"model.pt\"\n",
    "            LOSS = 0.4\n",
    "\n",
    "            torch.save({\n",
    "            'epoch': EPOCH,\n",
    "            'model_state_dict': model.state_dict(),\n",
    "            'optimizer_state_dict': optimizer.state_dict(),\n",
    "            'loss': loss,\n",
    "            }, PATH)\n",
    "            \n",
    "            \n",
    "        print(f\"====> Validation Loss: {sum(meanLoss)/len(meanLoss)}\")\n",
    "        print(f\"====> Validation MAP: {mapValue}\")\n",
    "            \n",
    "\n",
    "\n",
    "        \n",
    "        \n",
    "    "
   ]
  },
  {
   "cell_type": "code",
   "execution_count": 46,
   "id": "5695ca39",
   "metadata": {},
   "outputs": [
    {
     "data": {
      "text/plain": [
       "tensor([[ 9,  8, 20],\n",
       "        [ 9,  8, 21],\n",
       "        [ 9,  8, 22],\n",
       "        [ 9,  8, 23],\n",
       "        [ 9,  8, 24]], device='cuda:0')"
      ]
     },
     "execution_count": 46,
     "metadata": {},
     "output_type": "execute_result"
    }
   ],
   "source": [
    "label[4].nonzero()"
   ]
  },
  {
   "cell_type": "code",
   "execution_count": 49,
   "id": "ccffa05c",
   "metadata": {},
   "outputs": [
    {
     "data": {
      "text/plain": [
       "tensor([0.0000, 0.6923, 0.6154, 0.0000, 0.0000])"
      ]
     },
     "execution_count": 49,
     "metadata": {},
     "output_type": "execute_result"
    }
   ],
   "source": [
    "# Decoding the labels\n",
    "decodedLabel[4][ 9,  8, 20:25]\n",
    "\n",
    "# Decoding the output\n",
    "# decodedOutput = decoder(torch.clone(output))  "
   ]
  },
  {
   "cell_type": "code",
   "execution_count": 50,
   "id": "3231cdf3",
   "metadata": {},
   "outputs": [
    {
     "data": {
      "text/plain": [
       "tensor([0.0033, 0.6162, 0.5449, 0.1874, 0.1662])"
      ]
     },
     "execution_count": 50,
     "metadata": {},
     "output_type": "execute_result"
    }
   ],
   "source": [
    "decodedOutput[4][ 9,  8, 20:25]"
   ]
  },
  {
   "cell_type": "code",
   "execution_count": 35,
   "id": "ee4c849c",
   "metadata": {},
   "outputs": [
    {
     "data": {
      "text/plain": [
       "tensor([1.0000, 0.6658, 0.0613, 0.8700, 0.9312], device='cuda:0')"
      ]
     },
     "execution_count": 35,
     "metadata": {},
     "output_type": "execute_result"
    }
   ],
   "source": [
    "label[0][ 5, 6,10:15]"
   ]
  },
  {
   "cell_type": "code",
   "execution_count": 23,
   "id": "b654057d",
   "metadata": {},
   "outputs": [],
   "source": [
    "from model_utils import plot_tensor"
   ]
  },
  {
   "cell_type": "code",
   "execution_count": 47,
   "id": "8fca573a",
   "metadata": {},
   "outputs": [
    {
     "name": "stderr",
     "output_type": "stream",
     "text": [
      "Clipping input data to the valid range for imshow with RGB data ([0..1] for floats or [0..255] for integers).\n"
     ]
    },
    {
     "data": {
      "image/png": "[encoded data removed]",
      "text/plain": [
       "<Figure size 432x288 with 1 Axes>"
      ]
     },
     "metadata": {
      "needs_background": "light"
     },
     "output_type": "display_data"
    }
   ],
   "source": [
    "plot_tensor(modelInput[4].cpu(),decodedOutput[2][6, 6, 0:5].reshape(-1,5).cpu().numpy())"
   ]
  }
 ],
 "metadata": {
  "kernelspec": {
   "display_name": "Python 3 (ipykernel)",
   "language": "python",
   "name": "python3"
  },
  "language_info": {
   "codemirror_mode": {
    "name": "ipython",
    "version": 3
   },
   "file_extension": ".py",
   "mimetype": "text/x-python",
   "name": "python",
   "nbconvert_exporter": "python",
   "pygments_lexer": "ipython3",
   "version": "3.7.11"
  }
 },
 "nbformat": 4,
 "nbformat_minor": 5
}
