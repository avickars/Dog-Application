{
 "cells": [
  {
   "cell_type": "code",
   "execution_count": null,
   "id": "add69b54",
   "metadata": {},
   "outputs": [],
   "source": [
    "# ref: https://coderzcolumn.com/tutorials/artifical-intelligence/transfer-learning-pytorch"
   ]
  },
  {
   "cell_type": "code",
   "execution_count": 1,
   "id": "cde35760",
   "metadata": {},
   "outputs": [],
   "source": [
    "import os\n",
    "import shutil\n",
    "import glob"
   ]
  },
  {
   "cell_type": "code",
   "execution_count": 2,
   "id": "00fdc2e0",
   "metadata": {},
   "outputs": [
    {
     "name": "stdout",
     "output_type": "stream",
     "text": [
      "--2022-03-16 15:01:32--  http://vision.stanford.edu/aditya86/ImageNetDogs/images.tar\n",
      "Resolving vision.stanford.edu (vision.stanford.edu)... 171.64.68.10\n",
      "Connecting to vision.stanford.edu (vision.stanford.edu)|171.64.68.10|:80... connected.\n",
      "HTTP request sent, awaiting response... 200 OK\n",
      "Length: 793579520 (757M) [application/x-tar]\n",
      "Saving to: ‘images.tar’\n",
      "\n",
      "images.tar          100%[===================>] 756.82M   897KB/s    in 21m 7s  \n",
      "\n",
      "2022-03-16 15:22:39 (612 KB/s) - ‘images.tar’ saved [793579520/793579520]\n",
      "\n",
      "\u001b[0m\u001b[01;34m'colab notebooks'\u001b[0m/\n",
      " densenet_based_model2.ipynb\n",
      " \u001b[01;34mImages\u001b[0m/\n",
      " \u001b[01;32msplit-stanford-dog-dataset-to-train-vail-test.ipynb\u001b[0m*\n",
      " vgg16_based_model2.ipynb\n",
      " vgg16_based_model2.pt\n",
      "CPU times: user 44.4 s, sys: 9.04 s, total: 53.4 s\n",
      "Wall time: 21min 23s\n"
     ]
    }
   ],
   "source": [
    "%%time\n",
    "!wget http://vision.stanford.edu/aditya86/ImageNetDogs/images.tar\n",
    "!tar -xf images.tar\n",
    "#!cp -r Images dogs\n",
    "!rm images.tar\n",
    "%ls"
   ]
  },
  {
   "cell_type": "code",
   "execution_count": 3,
   "id": "28b1d5b7",
   "metadata": {},
   "outputs": [
    {
     "name": "stdout",
     "output_type": "stream",
     "text": [
      "'colab notebooks'\r\n",
      " densenet_based_model2.ipynb\r\n",
      " Images\r\n",
      " split-stanford-dog-dataset-to-train-vail-test.ipynb\r\n",
      " vgg16_based_model2.ipynb\r\n",
      " vgg16_based_model2.pt\r\n"
     ]
    }
   ],
   "source": [
    "!ls"
   ]
  },
  {
   "cell_type": "code",
   "execution_count": 4,
   "id": "00bceaee",
   "metadata": {},
   "outputs": [
    {
     "name": "stdout",
     "output_type": "stream",
     "text": [
      "CPU times: user 6 µs, sys: 1 µs, total: 7 µs\n",
      "Wall time: 14.3 µs\n"
     ]
    }
   ],
   "source": [
    "%%time\n",
    "\n",
    "def create_ml_file_strcuture_and_move_files(src, dest):\n",
    "    os.makedirs(os.path.join(dest,'train'), exist_ok=True)\n",
    "    os.makedirs(os.path.join(dest,'val'), exist_ok=True)\n",
    "    os.makedirs(os.path.join(dest,'test'), exist_ok=True)\n",
    "\n",
    "    for directory in os.listdir(src):\n",
    "        os.makedirs(os.path.join(dest,'train',directory), exist_ok=True)\n",
    "        os.makedirs(os.path.join(dest,'val',directory), exist_ok=True)\n",
    "        os.makedirs(os.path.join(dest,'test',directory), exist_ok=True)\n",
    "        init_path = os.path.join(src, directory)\n",
    "        all_files = os.listdir(init_path)\n",
    "        n = len(all_files)\n",
    "        for file in all_files[:int(0.8*n)]:\n",
    "            shutil.copy(os.path.join(src,directory,file),os.path.join(dest,'train',directory))\n",
    "        for file in all_files[int(0.8*n):int(0.9*n)]:\n",
    "            shutil.copy(os.path.join(src,directory,file),os.path.join(dest,'val',directory))\n",
    "        for file in all_files[int(0.9*n):]:\n",
    "            shutil.copy(os.path.join(src,directory,file),os.path.join(dest,'test',directory))\n"
   ]
  },
  {
   "cell_type": "code",
   "execution_count": 5,
   "id": "5033a126",
   "metadata": {},
   "outputs": [],
   "source": [
    "create_ml_file_strcuture_and_move_files('Images','stanford_dogs_new')"
   ]
  },
  {
   "cell_type": "code",
   "execution_count": 7,
   "id": "a54dee83",
   "metadata": {},
   "outputs": [
    {
     "name": "stdout",
     "output_type": "stream",
     "text": [
      "List of subdirs in Images folder : 3\n",
      "List of subdirs in dogs/train folder : 120\n",
      "List of subdirs in dogs/val folder : 120\n",
      "List of subdirs in dogs/test folder : 120\n",
      "List of JPGs in original Images directory : 0\n",
      "List of JPGs in dogs sub directories : 20580\n"
     ]
    }
   ],
   "source": [
    "print('List of subdirs in Images folder : %d'%len(os.listdir('stanford_dogs_new')))\n",
    "print('List of subdirs in dogs/train folder : %d'%len(os.listdir('stanford_dogs_new/train')))\n",
    "print('List of subdirs in dogs/val folder : %d'%len(os.listdir('stanford_dogs_new/val')))\n",
    "print('List of subdirs in dogs/test folder : %d'%len(os.listdir('stanford_dogs_new/test')))\n",
    "print('List of JPGs in original Images directory : %d'%len(glob.glob('stanford_dogs_new/*/*.jpg')))\n",
    "print('List of JPGs in dogs sub directories : %d'%len(glob.glob('stanford_dogs_new/*/*/*.jpg')))"
   ]
  },
  {
   "cell_type": "code",
   "execution_count": null,
   "id": "314e9fc6",
   "metadata": {},
   "outputs": [],
   "source": []
  }
 ],
 "metadata": {
  "kernelspec": {
   "display_name": "Python 3 (ipykernel)",
   "language": "python",
   "name": "python3"
  },
  "language_info": {
   "codemirror_mode": {
    "name": "ipython",
    "version": 3
   },
   "file_extension": ".py",
   "mimetype": "text/x-python",
   "name": "python",
   "nbconvert_exporter": "python",
   "pygments_lexer": "ipython3",
   "version": "3.9.7"
  }
 },
 "nbformat": 4,
 "nbformat_minor": 5
}
