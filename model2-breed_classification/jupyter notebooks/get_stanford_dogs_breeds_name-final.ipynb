{
 "cells": [
  {
   "cell_type": "code",
   "execution_count": 1,
   "id": "159feb88",
   "metadata": {},
   "outputs": [],
   "source": [
    "import os\n",
    "from torchvision.datasets import ImageFolder"
   ]
  },
  {
   "cell_type": "code",
   "execution_count": 2,
   "id": "10ff5855",
   "metadata": {},
   "outputs": [],
   "source": [
    "#ref: https://jovian.ai/ankitvashisht12/dog-breed-classifier-final/v/7?utm_source=embed\n",
    "dataset = ImageFolder('Images')\n",
    "\n",
    "dogs_breeds = []\n",
    "def rename(name):\n",
    "    return ' '.join(' '.join(name.split('-')[1:]).split('_'))\n",
    "\n",
    "for n in dataset.classes:\n",
    "    dogs_breeds.append(rename(n))"
   ]
  },
  {
   "cell_type": "code",
   "execution_count": 4,
   "id": "96719d94",
   "metadata": {},
   "outputs": [],
   "source": [
    "with open(\"stanford_dogs_breeds_classes_final.txt\", \"w\") as output:\n",
    "    output.write('\\n'.join(dogs_breeds)) "
   ]
  },
  {
   "cell_type": "code",
   "execution_count": null,
   "id": "bca2ac63",
   "metadata": {},
   "outputs": [],
   "source": []
  }
 ],
 "metadata": {
  "kernelspec": {
   "display_name": "Python 3 (ipykernel)",
   "language": "python",
   "name": "python3"
  },
  "language_info": {
   "codemirror_mode": {
    "name": "ipython",
    "version": 3
   },
   "file_extension": ".py",
   "mimetype": "text/x-python",
   "name": "python",
   "nbconvert_exporter": "python",
   "pygments_lexer": "ipython3",
   "version": "3.9.7"
  }
 },
 "nbformat": 4,
 "nbformat_minor": 5
}
