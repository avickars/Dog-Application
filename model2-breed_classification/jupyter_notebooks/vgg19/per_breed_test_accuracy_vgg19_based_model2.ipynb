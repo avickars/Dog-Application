{
 "cells": [
  {
   "cell_type": "code",
   "execution_count": 1,
   "metadata": {},
   "outputs": [],
   "source": [
    "load_model = 'vgg19_based_model2.pt'\n",
    "\n",
    "data_dir = '../../../stanford_dogs_new/'"
   ]
  },
  {
   "cell_type": "code",
   "execution_count": 2,
   "metadata": {},
   "outputs": [],
   "source": [
    "# import numpy as np\n",
    "\n",
    "from IPython.display import Image\n",
    "\n",
    "import os\n",
    "import torch\n",
    "from torch import nn\n",
    "from torch.utils.data import DataLoader\n",
    "import torchvision.models as models\n",
    "from torchvision import datasets, transforms\n",
    "from torchvision.transforms import ToTensor\n",
    "\n",
    "from torchvision.datasets import ImageFolder\n",
    "from PIL import Image\n",
    "\n",
    "from torch.autograd import Variable\n",
    "\n",
    "from torch.optim import lr_scheduler\n",
    "import numpy as np\n",
    "import torchvision\n",
    "from torchvision import datasets, models, transforms\n",
    "import matplotlib.pyplot as plt\n",
    "import time\n",
    "import os\n",
    "import copy\n"
   ]
  },
  {
   "cell_type": "markdown",
   "metadata": {},
   "source": [
    "## load the Vgg19 based model"
   ]
  },
  {
   "cell_type": "code",
   "execution_count": 3,
   "metadata": {},
   "outputs": [
    {
     "name": "stderr",
     "output_type": "stream",
     "text": [
      "Downloading: \"https://download.pytorch.org/models/vgg19-dcbb9e9d.pth\" to /home/rka73/.cache/torch/hub/checkpoints/vgg19-dcbb9e9d.pth\n"
     ]
    },
    {
     "data": {
      "application/vnd.jupyter.widget-view+json": {
       "model_id": "b1df9947b0f74c88a82424141e5567b0",
       "version_major": 2,
       "version_minor": 0
      },
      "text/plain": [
       "HBox(children=(FloatProgress(value=0.0, max=574673361.0), HTML(value='')))"
      ]
     },
     "metadata": {},
     "output_type": "display_data"
    },
    {
     "name": "stdout",
     "output_type": "stream",
     "text": [
      "\n"
     ]
    },
    {
     "data": {
      "text/plain": [
       "VGG(\n",
       "  (features): Sequential(\n",
       "    (0): Conv2d(3, 64, kernel_size=(3, 3), stride=(1, 1), padding=(1, 1))\n",
       "    (1): ReLU(inplace=True)\n",
       "    (2): Conv2d(64, 64, kernel_size=(3, 3), stride=(1, 1), padding=(1, 1))\n",
       "    (3): ReLU(inplace=True)\n",
       "    (4): MaxPool2d(kernel_size=2, stride=2, padding=0, dilation=1, ceil_mode=False)\n",
       "    (5): Conv2d(64, 128, kernel_size=(3, 3), stride=(1, 1), padding=(1, 1))\n",
       "    (6): ReLU(inplace=True)\n",
       "    (7): Conv2d(128, 128, kernel_size=(3, 3), stride=(1, 1), padding=(1, 1))\n",
       "    (8): ReLU(inplace=True)\n",
       "    (9): MaxPool2d(kernel_size=2, stride=2, padding=0, dilation=1, ceil_mode=False)\n",
       "    (10): Conv2d(128, 256, kernel_size=(3, 3), stride=(1, 1), padding=(1, 1))\n",
       "    (11): ReLU(inplace=True)\n",
       "    (12): Conv2d(256, 256, kernel_size=(3, 3), stride=(1, 1), padding=(1, 1))\n",
       "    (13): ReLU(inplace=True)\n",
       "    (14): Conv2d(256, 256, kernel_size=(3, 3), stride=(1, 1), padding=(1, 1))\n",
       "    (15): ReLU(inplace=True)\n",
       "    (16): Conv2d(256, 256, kernel_size=(3, 3), stride=(1, 1), padding=(1, 1))\n",
       "    (17): ReLU(inplace=True)\n",
       "    (18): MaxPool2d(kernel_size=2, stride=2, padding=0, dilation=1, ceil_mode=False)\n",
       "    (19): Conv2d(256, 512, kernel_size=(3, 3), stride=(1, 1), padding=(1, 1))\n",
       "    (20): ReLU(inplace=True)\n",
       "    (21): Conv2d(512, 512, kernel_size=(3, 3), stride=(1, 1), padding=(1, 1))\n",
       "    (22): ReLU(inplace=True)\n",
       "    (23): Conv2d(512, 512, kernel_size=(3, 3), stride=(1, 1), padding=(1, 1))\n",
       "    (24): ReLU(inplace=True)\n",
       "    (25): Conv2d(512, 512, kernel_size=(3, 3), stride=(1, 1), padding=(1, 1))\n",
       "    (26): ReLU(inplace=True)\n",
       "    (27): MaxPool2d(kernel_size=2, stride=2, padding=0, dilation=1, ceil_mode=False)\n",
       "    (28): Conv2d(512, 512, kernel_size=(3, 3), stride=(1, 1), padding=(1, 1))\n",
       "    (29): ReLU(inplace=True)\n",
       "    (30): Conv2d(512, 512, kernel_size=(3, 3), stride=(1, 1), padding=(1, 1))\n",
       "    (31): ReLU(inplace=True)\n",
       "    (32): Conv2d(512, 512, kernel_size=(3, 3), stride=(1, 1), padding=(1, 1))\n",
       "    (33): ReLU(inplace=True)\n",
       "    (34): Conv2d(512, 512, kernel_size=(3, 3), stride=(1, 1), padding=(1, 1))\n",
       "    (35): ReLU(inplace=True)\n",
       "    (36): MaxPool2d(kernel_size=2, stride=2, padding=0, dilation=1, ceil_mode=False)\n",
       "  )\n",
       "  (avgpool): AdaptiveAvgPool2d(output_size=(7, 7))\n",
       "  (classifier): Sequential(\n",
       "    (0): Linear(in_features=25088, out_features=4096, bias=True)\n",
       "    (1): ReLU(inplace=True)\n",
       "    (2): Dropout(p=0.5, inplace=False)\n",
       "    (3): Linear(in_features=4096, out_features=4096, bias=True)\n",
       "    (4): ReLU(inplace=True)\n",
       "    (5): Dropout(p=0.5, inplace=False)\n",
       "    (6): Linear(in_features=4096, out_features=120, bias=True)\n",
       "  )\n",
       ")"
      ]
     },
     "execution_count": 3,
     "metadata": {},
     "output_type": "execute_result"
    }
   ],
   "source": [
    "model_vgg19 = models.vgg19(pretrained=True)\n",
    "\n",
    "for param in model_vgg19.parameters():\n",
    "    param.requires_grad = False\n",
    "\n",
    "model_vgg19.classifier = nn.Sequential(*list(model_vgg19.classifier.children())[:-1] + [nn.Linear(in_features=4096, out_features=120, bias=True)])\n",
    "\n",
    "device = torch.device(\"cuda:0\" if torch.cuda.is_available() else \"cpu\")\n",
    "model_vgg19 = model_vgg19.to(device)\n",
    "\n",
    "model_vgg19.load_state_dict(torch.load(load_model), strict=False)\n",
    "model_vgg19.eval()"
   ]
  },
  {
   "cell_type": "code",
   "execution_count": 4,
   "metadata": {},
   "outputs": [],
   "source": [
    "model = model_vgg19"
   ]
  },
  {
   "cell_type": "code",
   "execution_count": 5,
   "metadata": {},
   "outputs": [
    {
     "data": {
      "text/plain": [
       "{'Pomeranian': 90.9090909090909,\n",
       " 'basset': 94.44444444444444,\n",
       " 'Japanese spaniel': 94.73684210526315,\n",
       " 'Bouvier des Flandres': 86.66666666666667,\n",
       " 'German shepherd': 87.5,\n",
       " 'Brabancon griffon': 100.0,\n",
       " 'Blenheim spaniel': 89.47368421052632,\n",
       " 'kelpie': 81.25,\n",
       " 'Shih Tzu': 86.36363636363636,\n",
       " 'curly coated retriever': 75.0,\n",
       " 'Lakeland terrier': 90.0,\n",
       " 'Irish setter': 100.0,\n",
       " 'German short haired pointer': 93.75,\n",
       " 'flat coated retriever': 81.25,\n",
       " 'Irish water spaniel': 80.0,\n",
       " 'Dandie Dinmont': 94.44444444444444,\n",
       " 'clumber': 100.0,\n",
       " 'Yorkshire terrier': 82.35294117647058,\n",
       " 'schipperke': 100.0,\n",
       " 'briard': 75.0,\n",
       " 'miniature poodle': 62.5,\n",
       " 'chow': 100.0,\n",
       " 'Saluki': 95.0,\n",
       " 'boxer': 81.25,\n",
       " 'Pekinese': 80.0,\n",
       " 'komondor': 93.75,\n",
       " 'Brittany spaniel': 81.25,\n",
       " 'black and tan coonhound': 87.5,\n",
       " 'Appenzeller': 37.5,\n",
       " 'Eskimo dog': 20.0,\n",
       " 'giant schnauzer': 93.75,\n",
       " 'Old English sheepdog': 100.0,\n",
       " 'Chihuahua': 100.0,\n",
       " 'miniature schnauzer': 75.0,\n",
       " 'redbone': 80.0,\n",
       " 'wire haired fox terrier': 87.5,\n",
       " 'Irish wolfhound': 77.27272727272727,\n",
       " 'dhole': 86.66666666666667,\n",
       " 'Pembroke': 100.0,\n",
       " 'keeshond': 100.0,\n",
       " 'kuvasz': 86.66666666666667,\n",
       " 'Sussex spaniel': 87.5,\n",
       " 'Samoyed': 95.45454545454545,\n",
       " 'malinois': 86.66666666666667,\n",
       " 'Staffordshire bullterrier': 62.5,\n",
       " 'bull mastiff': 100.0,\n",
       " 'Rottweiler': 100.0,\n",
       " 'West Highland white terrier': 94.11764705882352,\n",
       " 'bloodhound': 94.73684210526315,\n",
       " 'bluetick': 88.88888888888889,\n",
       " 'Australian terrier': 60.0,\n",
       " 'Lhasa': 68.42105263157895,\n",
       " 'silky terrier': 84.21052631578947,\n",
       " 'Greater Swiss Mountain dog': 76.47058823529412,\n",
       " 'Boston bull': 94.73684210526315,\n",
       " 'EntleBucher': 80.95238095238095,\n",
       " 'Tibetan mastiff': 81.25,\n",
       " 'soft coated wheaten terrier': 68.75,\n",
       " 'Italian greyhound': 84.21052631578947,\n",
       " 'Great Dane': 87.5,\n",
       " 'Doberman': 100.0,\n",
       " 'Bernese mountain dog': 95.45454545454545,\n",
       " 'whippet': 73.68421052631578,\n",
       " 'Shetland sheepdog': 93.75,\n",
       " 'American Staffordshire terrier': 82.35294117647058,\n",
       " 'French bulldog': 81.25,\n",
       " 'Cardigan': 50.0,\n",
       " 'Kerry blue terrier': 100.0,\n",
       " 'groenendael': 100.0,\n",
       " 'basenji': 95.23809523809523,\n",
       " 'cairn': 80.0,\n",
       " 'Tibetan terrier': 95.23809523809523,\n",
       " 'Welsh springer spaniel': 73.33333333333333,\n",
       " 'golden retriever': 73.33333333333333,\n",
       " 'English foxhound': 75.0,\n",
       " 'Rhodesian ridgeback': 83.33333333333334,\n",
       " 'miniature pinscher': 94.73684210526315,\n",
       " 'Walker hound': 31.25,\n",
       " 'Newfoundland': 85.0,\n",
       " 'standard poodle': 75.0,\n",
       " 'borzoi': 100.0,\n",
       " 'Border collie': 73.33333333333333,\n",
       " 'Norwich terrier': 68.42105263157895,\n",
       " 'Great Pyrenees': 77.27272727272727,\n",
       " 'Irish terrier': 94.11764705882352,\n",
       " 'Maltese dog': 92.3076923076923,\n",
       " 'otterhound': 68.75,\n",
       " 'beagle': 90.0,\n",
       " 'standard schnauzer': 62.5,\n",
       " 'Weimaraner': 93.75,\n",
       " 'Chesapeake Bay retriever': 94.11764705882352,\n",
       " 'English springer': 87.5,\n",
       " 'Norwegian elkhound': 100.0,\n",
       " 'Ibizan hound': 89.47368421052632,\n",
       " 'Siberian husky': 65.0,\n",
       " 'collie': 37.5,\n",
       " 'Scotch terrier': 81.25,\n",
       " 'Mexican hairless': 100.0,\n",
       " 'Afghan hound': 100.0,\n",
       " 'cocker spaniel': 81.25,\n",
       " 'pug': 95.0,\n",
       " 'toy terrier': 66.66666666666666,\n",
       " 'Sealyham terrier': 85.71428571428571,\n",
       " 'malamute': 83.33333333333334,\n",
       " 'dingo': 81.25,\n",
       " 'Scottish deerhound': 91.66666666666666,\n",
       " 'Norfolk terrier': 83.33333333333334,\n",
       " 'Leonberg': 100.0,\n",
       " 'Saint Bernard': 100.0,\n",
       " 'African hunting dog': 100.0,\n",
       " 'Gordon setter': 93.75,\n",
       " 'Border terrier': 100.0,\n",
       " 'toy poodle': 62.5,\n",
       " 'vizsla': 93.75,\n",
       " 'English setter': 76.47058823529412,\n",
       " 'Labrador retriever': 83.33333333333334,\n",
       " 'Bedlington terrier': 94.73684210526315,\n",
       " 'Airedale': 100.0,\n",
       " 'affenpinscher': 86.66666666666667,\n",
       " 'papillon': 95.0}"
      ]
     },
     "execution_count": 5,
     "metadata": {},
     "output_type": "execute_result"
    }
   ],
   "source": [
    "# preprocess the image for the model\n",
    "preprocess = transforms.Compose([\n",
    "    transforms.Resize(256),\n",
    "    transforms.CenterCrop(224),\n",
    "    transforms.ToTensor(),\n",
    "    transforms.Normalize(\n",
    "            mean=[0.485, 0.456, 0.406],\n",
    "            std=[0.229, 0.224, 0.225]\n",
    "    )\n",
    "])\n",
    "\n",
    "path = '../../../stanford_dogs_new/test'\n",
    "\n",
    "list_subfolders_with_paths = [f.path for f in os.scandir(path) if f.is_dir()]\n",
    "\n",
    "# gets the breed name from subfolders name like 'n02099429-curly-coated_retriever'\n",
    "def rename(name):\n",
    "    return ' '.join(' '.join(name.split('-')[1:]).split('_'))\n",
    "\n",
    "per_class_accuracy = dict()\n",
    "total_accuracy = 0\n",
    "\n",
    "for breed_dir in list_subfolders_with_paths:\n",
    "    \n",
    "    breed = rename(breed_dir.split('/')[-1])\n",
    "    \n",
    "    images = os.listdir(breed_dir)\n",
    "    \n",
    "    matched = False\n",
    "    matches = 0\n",
    "    total_images = len(images)\n",
    "\n",
    "    for image in images:\n",
    "\n",
    "        input_image = Image.open(breed_dir + '/' + image)\n",
    "\n",
    "\n",
    "        input_tensor = preprocess(input_image)\n",
    "        if torch.cuda.is_available():\n",
    "            input_tensor = Variable(input_tensor.cuda())\n",
    "\n",
    "        input_batch = input_tensor.unsqueeze(0)\n",
    "        out = model(input_batch)\n",
    "\n",
    "        probabilities = torch.nn.functional.softmax(out[0], dim=0)\n",
    "        # print(probabilities)\n",
    "\n",
    "        with open(\"../../stanford_dogs_breeds_classes_final.txt\", \"r\") as f:\n",
    "            categories = [s.strip() for s in f.readlines()]\n",
    "\n",
    "        predicted_breeds = []\n",
    "        top1_prob, top1_catid = torch.topk(probabilities, 1)\n",
    "        for i in range(top1_prob.size(0)):\n",
    "            # predicted_breeds.append([categories[top3_catid[i]], top3_prob[i].item()*100])\n",
    "            predicted_breed = categories[top1_catid[i]]\n",
    "\n",
    "        # list to be used directly by the application (predicted_breed, probability)\n",
    "        # print(\"predicted_breeds are: \\n\", predicted_breed)\n",
    "        if breed == predicted_breed:\n",
    "            matched = True\n",
    "            matches = matches + 1\n",
    "\n",
    "        per_class_accuracy[breed] = matches / total_images * 100\n",
    "\n",
    "per_class_accuracy"
   ]
  },
  {
   "cell_type": "code",
   "execution_count": 6,
   "metadata": {},
   "outputs": [
    {
     "data": {
      "text/plain": [
       "84.7732045610335"
      ]
     },
     "execution_count": 6,
     "metadata": {},
     "output_type": "execute_result"
    }
   ],
   "source": [
    "total_accuracy = sum(per_class_accuracy.values())/120\n",
    "total_accuracy"
   ]
  },
  {
   "cell_type": "markdown",
   "metadata": {},
   "source": [
    "### Top 10 Breeds with least accuracy"
   ]
  },
  {
   "cell_type": "code",
   "execution_count": 7,
   "metadata": {},
   "outputs": [
    {
     "data": {
      "text/plain": [
       "[('Eskimo dog', 20.0),\n",
       " ('Walker hound', 31.25),\n",
       " ('Appenzeller', 37.5),\n",
       " ('collie', 37.5),\n",
       " ('Cardigan', 50.0),\n",
       " ('Australian terrier', 60.0),\n",
       " ('miniature poodle', 62.5),\n",
       " ('Staffordshire bullterrier', 62.5),\n",
       " ('standard schnauzer', 62.5),\n",
       " ('toy poodle', 62.5)]"
      ]
     },
     "execution_count": 7,
     "metadata": {},
     "output_type": "execute_result"
    }
   ],
   "source": [
    "k = 10\n",
    "sorted(per_class_accuracy.items(), key=lambda x: x[1])[:k]"
   ]
  },
  {
   "cell_type": "markdown",
   "metadata": {},
   "source": [
    "### Top 15 Breeds with most accuracy"
   ]
  },
  {
   "cell_type": "code",
   "execution_count": 8,
   "metadata": {},
   "outputs": [
    {
     "data": {
      "text/plain": [
       "[('Brabancon griffon', 100.0),\n",
       " ('Irish setter', 100.0),\n",
       " ('clumber', 100.0),\n",
       " ('schipperke', 100.0),\n",
       " ('chow', 100.0),\n",
       " ('Old English sheepdog', 100.0),\n",
       " ('Chihuahua', 100.0),\n",
       " ('Pembroke', 100.0),\n",
       " ('keeshond', 100.0),\n",
       " ('bull mastiff', 100.0),\n",
       " ('Rottweiler', 100.0),\n",
       " ('Doberman', 100.0),\n",
       " ('Kerry blue terrier', 100.0),\n",
       " ('groenendael', 100.0),\n",
       " ('borzoi', 100.0)]"
      ]
     },
     "execution_count": 8,
     "metadata": {},
     "output_type": "execute_result"
    }
   ],
   "source": [
    "k = 15\n",
    "sorted(per_class_accuracy.items(), key=lambda x: x[1], reverse=True)[:k]"
   ]
  }
 ],
 "metadata": {
  "kernelspec": {
   "display_name": "Python 3",
   "language": "python",
   "name": "python3"
  },
  "language_info": {
   "codemirror_mode": {
    "name": "ipython",
    "version": 3
   },
   "file_extension": ".py",
   "mimetype": "text/x-python",
   "name": "python",
   "nbconvert_exporter": "python",
   "pygments_lexer": "ipython3",
   "version": "3.8.3"
  }
 },
 "nbformat": 4,
 "nbformat_minor": 5
}
