{
 "cells": [
  {
   "cell_type": "code",
   "execution_count": 1,
   "metadata": {},
   "outputs": [],
   "source": [
    "load_model = 'vgg16_based_model2.pt'\n",
    "\n",
    "data_dir = '../../../stanford_dogs_new/'"
   ]
  },
  {
   "cell_type": "code",
   "execution_count": 2,
   "metadata": {},
   "outputs": [],
   "source": [
    "# import numpy as np\n",
    "\n",
    "from IPython.display import Image\n",
    "\n",
    "import os\n",
    "import torch\n",
    "from torch import nn\n",
    "from torch.utils.data import DataLoader\n",
    "import torchvision.models as models\n",
    "from torchvision import datasets, transforms\n",
    "from torchvision.transforms import ToTensor\n",
    "\n",
    "from torchvision.datasets import ImageFolder\n",
    "from PIL import Image\n",
    "\n",
    "from torch.autograd import Variable\n",
    "\n",
    "from torch.optim import lr_scheduler\n",
    "import numpy as np\n",
    "import torchvision\n",
    "from torchvision import datasets, models, transforms\n",
    "import matplotlib.pyplot as plt\n",
    "import time\n",
    "import os\n",
    "import copy\n",
    "\n",
    "\n",
    "from IPython.display import Image\n",
    "from IPython.display import Markdown\n",
    "\n",
    "from PIL import Image\n",
    "import PIL.Image\n",
    "\n",
    "import pandas as pd\n",
    "\n",
    "# sklearn metrics\n",
    "from sklearn import metrics\n",
    "from sklearn.metrics import cohen_kappa_score\n",
    "from sklearn.metrics import f1_score\n"
   ]
  },
  {
   "cell_type": "markdown",
   "metadata": {},
   "source": [
    "## load the vgg16 based model"
   ]
  },
  {
   "cell_type": "code",
   "execution_count": 3,
   "metadata": {},
   "outputs": [
    {
     "name": "stderr",
     "output_type": "stream",
     "text": [
      "Downloading: \"https://download.pytorch.org/models/vgg16-397923af.pth\" to /home/rka73/.cache/torch/hub/checkpoints/vgg16-397923af.pth\n"
     ]
    },
    {
     "data": {
      "application/vnd.jupyter.widget-view+json": {
       "model_id": "c56d88a4e50c4df895c31d5abab8cde3",
       "version_major": 2,
       "version_minor": 0
      },
      "text/plain": [
       "HBox(children=(FloatProgress(value=0.0, max=553433881.0), HTML(value='')))"
      ]
     },
     "metadata": {},
     "output_type": "display_data"
    },
    {
     "name": "stdout",
     "output_type": "stream",
     "text": [
      "\n"
     ]
    },
    {
     "data": {
      "text/plain": [
       "VGG(\n",
       "  (features): Sequential(\n",
       "    (0): Conv2d(3, 64, kernel_size=(3, 3), stride=(1, 1), padding=(1, 1))\n",
       "    (1): ReLU(inplace=True)\n",
       "    (2): Conv2d(64, 64, kernel_size=(3, 3), stride=(1, 1), padding=(1, 1))\n",
       "    (3): ReLU(inplace=True)\n",
       "    (4): MaxPool2d(kernel_size=2, stride=2, padding=0, dilation=1, ceil_mode=False)\n",
       "    (5): Conv2d(64, 128, kernel_size=(3, 3), stride=(1, 1), padding=(1, 1))\n",
       "    (6): ReLU(inplace=True)\n",
       "    (7): Conv2d(128, 128, kernel_size=(3, 3), stride=(1, 1), padding=(1, 1))\n",
       "    (8): ReLU(inplace=True)\n",
       "    (9): MaxPool2d(kernel_size=2, stride=2, padding=0, dilation=1, ceil_mode=False)\n",
       "    (10): Conv2d(128, 256, kernel_size=(3, 3), stride=(1, 1), padding=(1, 1))\n",
       "    (11): ReLU(inplace=True)\n",
       "    (12): Conv2d(256, 256, kernel_size=(3, 3), stride=(1, 1), padding=(1, 1))\n",
       "    (13): ReLU(inplace=True)\n",
       "    (14): Conv2d(256, 256, kernel_size=(3, 3), stride=(1, 1), padding=(1, 1))\n",
       "    (15): ReLU(inplace=True)\n",
       "    (16): MaxPool2d(kernel_size=2, stride=2, padding=0, dilation=1, ceil_mode=False)\n",
       "    (17): Conv2d(256, 512, kernel_size=(3, 3), stride=(1, 1), padding=(1, 1))\n",
       "    (18): ReLU(inplace=True)\n",
       "    (19): Conv2d(512, 512, kernel_size=(3, 3), stride=(1, 1), padding=(1, 1))\n",
       "    (20): ReLU(inplace=True)\n",
       "    (21): Conv2d(512, 512, kernel_size=(3, 3), stride=(1, 1), padding=(1, 1))\n",
       "    (22): ReLU(inplace=True)\n",
       "    (23): MaxPool2d(kernel_size=2, stride=2, padding=0, dilation=1, ceil_mode=False)\n",
       "    (24): Conv2d(512, 512, kernel_size=(3, 3), stride=(1, 1), padding=(1, 1))\n",
       "    (25): ReLU(inplace=True)\n",
       "    (26): Conv2d(512, 512, kernel_size=(3, 3), stride=(1, 1), padding=(1, 1))\n",
       "    (27): ReLU(inplace=True)\n",
       "    (28): Conv2d(512, 512, kernel_size=(3, 3), stride=(1, 1), padding=(1, 1))\n",
       "    (29): ReLU(inplace=True)\n",
       "    (30): MaxPool2d(kernel_size=2, stride=2, padding=0, dilation=1, ceil_mode=False)\n",
       "  )\n",
       "  (avgpool): AdaptiveAvgPool2d(output_size=(7, 7))\n",
       "  (classifier): Sequential(\n",
       "    (0): Linear(in_features=25088, out_features=4096, bias=True)\n",
       "    (1): ReLU(inplace=True)\n",
       "    (2): Dropout(p=0.5, inplace=False)\n",
       "    (3): Linear(in_features=4096, out_features=4096, bias=True)\n",
       "    (4): ReLU(inplace=True)\n",
       "    (5): Dropout(p=0.5, inplace=False)\n",
       "    (6): Linear(in_features=4096, out_features=120, bias=True)\n",
       "  )\n",
       ")"
      ]
     },
     "execution_count": 3,
     "metadata": {},
     "output_type": "execute_result"
    }
   ],
   "source": [
    "vgg16 = models.vgg16(pretrained=True)\n",
    "\n",
    "for param in vgg16.parameters():\n",
    "    param.requires_grad = False\n",
    "\n",
    "vgg16.classifier = nn.Sequential(*list(vgg16.classifier.children())[:-1] + [nn.Linear(in_features=4096, out_features=120, bias=True)])\n",
    "\n",
    "device = torch.device(\"cuda:0\" if torch.cuda.is_available() else \"cpu\")\n",
    "vgg16 = vgg16.to(device)\n",
    "\n",
    "vgg16.load_state_dict(torch.load(load_model), strict=False)\n",
    "vgg16.eval()\n"
   ]
  },
  {
   "cell_type": "code",
   "execution_count": null,
   "metadata": {},
   "outputs": [],
   "source": []
  },
  {
   "cell_type": "code",
   "execution_count": 4,
   "metadata": {},
   "outputs": [],
   "source": [
    "model = vgg16"
   ]
  },
  {
   "cell_type": "code",
   "execution_count": 5,
   "metadata": {},
   "outputs": [],
   "source": [
    "# preprocess the image for the model\n",
    "preprocess = transforms.Compose([\n",
    "    transforms.Resize(256),\n",
    "    transforms.CenterCrop(224),\n",
    "    transforms.ToTensor(),\n",
    "    transforms.Normalize(\n",
    "            mean=[0.485, 0.456, 0.406],\n",
    "            std=[0.229, 0.224, 0.225]\n",
    "    )\n",
    "])"
   ]
  },
  {
   "cell_type": "code",
   "execution_count": 6,
   "metadata": {},
   "outputs": [],
   "source": [
    "path = '../../../stanford_dogs_new/test'\n",
    "\n",
    "list_subfolders_with_paths = [f.path for f in os.scandir(path) if f.is_dir()]\n",
    "\n",
    "# gets the breed name from subfolders name like 'n02099429-curly-coated_retriever'\n",
    "def rename(name):\n",
    "    return ' '.join(' '.join(name.split('-')[1:]).split('_'))\n",
    "\n",
    "per_class_accuracy = dict()\n",
    "total_accuracy = 0\n",
    "\n",
    "y_true = []\n",
    "y_pred = []\n",
    "\n",
    "for breed_dir in list_subfolders_with_paths:\n",
    "    \n",
    "    breed = rename(breed_dir.split('/')[-1])\n",
    "    \n",
    "    images = os.listdir(breed_dir)\n",
    "    \n",
    "    matched = False\n",
    "    matches = 0\n",
    "    total_images = len(images)\n",
    "\n",
    "    for image in images:\n",
    "\n",
    "        input_image = Image.open(breed_dir + '/' + image)\n",
    "\n",
    "\n",
    "        input_tensor = preprocess(input_image)\n",
    "        if torch.cuda.is_available():\n",
    "            input_tensor = Variable(input_tensor.cuda())\n",
    "\n",
    "        input_batch = input_tensor.unsqueeze(0)\n",
    "        out = model(input_batch)\n",
    "\n",
    "        probabilities = torch.nn.functional.softmax(out[0], dim=0)\n",
    "        # print(probabilities)\n",
    "\n",
    "        with open(\"../../stanford_dogs_breeds_classes_final.txt\", \"r\") as f:\n",
    "            categories = [s.strip() for s in f.readlines()]\n",
    "\n",
    "        predicted_breeds = []\n",
    "        top1_prob, top1_catid = torch.topk(probabilities, 1)\n",
    "        for i in range(top1_prob.size(0)):\n",
    "            # predicted_breeds.append([categories[top3_catid[i]], top3_prob[i].item()*100])\n",
    "            predicted_breed = categories[top1_catid[i]]\n",
    "            y_true.append(breed)\n",
    "            y_pred.append(predicted_breed)\n",
    "\n",
    "        # list to be used directly by the application (predicted_breed, probability)\n",
    "        # print(\"predicted_breeds are: \\n\", predicted_breed)\n",
    "        if breed == predicted_breed:\n",
    "            matched = True\n",
    "            matches = matches + 1\n",
    "\n",
    "        per_class_accuracy[breed] = matches / total_images * 100"
   ]
  },
  {
   "cell_type": "code",
   "execution_count": 7,
   "metadata": {},
   "outputs": [
    {
     "data": {
      "text/html": [
       "<div>\n",
       "<style scoped>\n",
       "    .dataframe tbody tr th:only-of-type {\n",
       "        vertical-align: middle;\n",
       "    }\n",
       "\n",
       "    .dataframe tbody tr th {\n",
       "        vertical-align: top;\n",
       "    }\n",
       "\n",
       "    .dataframe thead th {\n",
       "        text-align: right;\n",
       "    }\n",
       "</style>\n",
       "<table border=\"1\" class=\"dataframe\">\n",
       "  <thead>\n",
       "    <tr style=\"text-align: right;\">\n",
       "      <th></th>\n",
       "      <th>Actual_breed</th>\n",
       "      <th>Predicted_breed</th>\n",
       "    </tr>\n",
       "  </thead>\n",
       "  <tbody>\n",
       "    <tr>\n",
       "      <th>0</th>\n",
       "      <td>Pomeranian</td>\n",
       "      <td>Pomeranian</td>\n",
       "    </tr>\n",
       "    <tr>\n",
       "      <th>1</th>\n",
       "      <td>Pomeranian</td>\n",
       "      <td>Pomeranian</td>\n",
       "    </tr>\n",
       "    <tr>\n",
       "      <th>2</th>\n",
       "      <td>Pomeranian</td>\n",
       "      <td>Pomeranian</td>\n",
       "    </tr>\n",
       "    <tr>\n",
       "      <th>3</th>\n",
       "      <td>Pomeranian</td>\n",
       "      <td>Pomeranian</td>\n",
       "    </tr>\n",
       "    <tr>\n",
       "      <th>4</th>\n",
       "      <td>Pomeranian</td>\n",
       "      <td>Pomeranian</td>\n",
       "    </tr>\n",
       "    <tr>\n",
       "      <th>...</th>\n",
       "      <td>...</td>\n",
       "      <td>...</td>\n",
       "    </tr>\n",
       "    <tr>\n",
       "      <th>2105</th>\n",
       "      <td>papillon</td>\n",
       "      <td>papillon</td>\n",
       "    </tr>\n",
       "    <tr>\n",
       "      <th>2106</th>\n",
       "      <td>papillon</td>\n",
       "      <td>papillon</td>\n",
       "    </tr>\n",
       "    <tr>\n",
       "      <th>2107</th>\n",
       "      <td>papillon</td>\n",
       "      <td>papillon</td>\n",
       "    </tr>\n",
       "    <tr>\n",
       "      <th>2108</th>\n",
       "      <td>papillon</td>\n",
       "      <td>papillon</td>\n",
       "    </tr>\n",
       "    <tr>\n",
       "      <th>2109</th>\n",
       "      <td>papillon</td>\n",
       "      <td>papillon</td>\n",
       "    </tr>\n",
       "  </tbody>\n",
       "</table>\n",
       "<p>2110 rows × 2 columns</p>\n",
       "</div>"
      ],
      "text/plain": [
       "     Actual_breed Predicted_breed\n",
       "0      Pomeranian      Pomeranian\n",
       "1      Pomeranian      Pomeranian\n",
       "2      Pomeranian      Pomeranian\n",
       "3      Pomeranian      Pomeranian\n",
       "4      Pomeranian      Pomeranian\n",
       "...           ...             ...\n",
       "2105     papillon        papillon\n",
       "2106     papillon        papillon\n",
       "2107     papillon        papillon\n",
       "2108     papillon        papillon\n",
       "2109     papillon        papillon\n",
       "\n",
       "[2110 rows x 2 columns]"
      ]
     },
     "execution_count": 7,
     "metadata": {},
     "output_type": "execute_result"
    }
   ],
   "source": [
    "df = pd.DataFrame(list(zip(y_true, y_pred)),\n",
    "               columns =['Actual_breed', 'Predicted_breed'])\n",
    "\n",
    "df"
   ]
  },
  {
   "cell_type": "markdown",
   "metadata": {},
   "source": [
    "## Confusion Matrix"
   ]
  },
  {
   "cell_type": "code",
   "execution_count": 8,
   "metadata": {},
   "outputs": [
    {
     "name": "stdout",
     "output_type": "stream",
     "text": [
      "[[24  0  0 ...  0  0  0]\n",
      " [ 0 17  0 ...  0  0  0]\n",
      " [ 0  0 21 ...  0  0  0]\n",
      " ...\n",
      " [ 0  0  0 ... 13  0  0]\n",
      " [ 0  0  0 ...  0 14  0]\n",
      " [ 0  0  0 ...  0  0 14]]\n"
     ]
    }
   ],
   "source": [
    "# Print the confusion matrix\n",
    "print(metrics.confusion_matrix(y_true, y_pred))\n"
   ]
  },
  {
   "cell_type": "markdown",
   "metadata": {},
   "source": [
    "## Precision, Recall and F1"
   ]
  },
  {
   "cell_type": "code",
   "execution_count": 9,
   "metadata": {},
   "outputs": [
    {
     "name": "stdout",
     "output_type": "stream",
     "text": [
      "                                precision    recall  f1-score   support\n",
      "\n",
      "                  Afghan hound      1.000     1.000     1.000        24\n",
      "           African hunting dog      0.944     1.000     0.971        17\n",
      "                      Airedale      0.875     1.000     0.933        21\n",
      "American Staffordshire terrier      0.577     0.882     0.698        17\n",
      "                   Appenzeller      0.636     0.438     0.519        16\n",
      "            Australian terrier      0.824     0.700     0.757        20\n",
      "            Bedlington terrier      1.000     0.947     0.973        19\n",
      "          Bernese mountain dog      0.800     0.909     0.851        22\n",
      "              Blenheim spaniel      1.000     1.000     1.000        19\n",
      "                 Border collie      0.750     0.600     0.667        15\n",
      "                Border terrier      1.000     1.000     1.000        18\n",
      "                   Boston bull      0.810     0.895     0.850        19\n",
      "          Bouvier des Flandres      0.800     0.800     0.800        15\n",
      "             Brabancon griffon      1.000     1.000     1.000        16\n",
      "              Brittany spaniel      0.933     0.875     0.903        16\n",
      "                      Cardigan      1.000     0.500     0.667        16\n",
      "      Chesapeake Bay retriever      0.938     0.882     0.909        17\n",
      "                     Chihuahua      0.933     0.875     0.903        16\n",
      "                Dandie Dinmont      1.000     0.889     0.941        18\n",
      "                      Doberman      0.857     0.800     0.828        15\n",
      "              English foxhound      0.588     0.625     0.606        16\n",
      "                English setter      0.938     0.882     0.909        17\n",
      "              English springer      0.714     0.938     0.811        16\n",
      "                   EntleBucher      0.727     0.762     0.744        21\n",
      "                    Eskimo dog      0.231     0.200     0.214        15\n",
      "                French bulldog      0.750     0.750     0.750        16\n",
      "               German shepherd      1.000     0.875     0.933        16\n",
      "   German short haired pointer      0.941     1.000     0.970        16\n",
      "                 Gordon setter      0.938     0.938     0.938        16\n",
      "                    Great Dane      0.750     0.750     0.750        16\n",
      "                Great Pyrenees      0.950     0.864     0.905        22\n",
      "    Greater Swiss Mountain dog      0.706     0.706     0.706        17\n",
      "                  Ibizan hound      1.000     0.789     0.882        19\n",
      "                  Irish setter      0.800     1.000     0.889        16\n",
      "                 Irish terrier      0.737     0.824     0.778        17\n",
      "           Irish water spaniel      0.875     0.933     0.903        15\n",
      "               Irish wolfhound      0.778     0.636     0.700        22\n",
      "             Italian greyhound      0.778     0.737     0.757        19\n",
      "              Japanese spaniel      0.905     1.000     0.950        19\n",
      "            Kerry blue terrier      0.857     1.000     0.923        18\n",
      "            Labrador retriever      0.750     0.833     0.789        18\n",
      "              Lakeland terrier      0.700     0.700     0.700        20\n",
      "                      Leonberg      0.808     1.000     0.894        21\n",
      "                         Lhasa      0.846     0.579     0.688        19\n",
      "                   Maltese dog      0.800     0.923     0.857        26\n",
      "              Mexican hairless      1.000     1.000     1.000        16\n",
      "                  Newfoundland      0.941     0.800     0.865        20\n",
      "               Norfolk terrier      0.640     0.889     0.744        18\n",
      "            Norwegian elkhound      0.950     0.950     0.950        20\n",
      "               Norwich terrier      0.846     0.579     0.688        19\n",
      "          Old English sheepdog      0.889     0.941     0.914        17\n",
      "                      Pekinese      1.000     0.800     0.889        15\n",
      "                      Pembroke      0.704     1.000     0.826        19\n",
      "                    Pomeranian      0.913     0.955     0.933        22\n",
      "           Rhodesian ridgeback      0.800     0.889     0.842        18\n",
      "                    Rottweiler      0.889     1.000     0.941        16\n",
      "                 Saint Bernard      1.000     1.000     1.000        17\n",
      "                        Saluki      1.000     0.950     0.974        20\n",
      "                       Samoyed      0.917     1.000     0.957        22\n",
      "                Scotch terrier      0.933     0.875     0.903        16\n",
      "            Scottish deerhound      0.815     0.917     0.863        24\n",
      "              Sealyham terrier      0.895     0.810     0.850        21\n",
      "             Shetland sheepdog      0.933     0.875     0.903        16\n",
      "                      Shih Tzu      0.800     0.909     0.851        22\n",
      "                Siberian husky      0.455     0.500     0.476        20\n",
      "     Staffordshire bullterrier      0.750     0.375     0.500        16\n",
      "                Sussex spaniel      1.000     0.875     0.933        16\n",
      "               Tibetan mastiff      0.875     0.875     0.875        16\n",
      "               Tibetan terrier      0.864     0.905     0.884        21\n",
      "                  Walker hound      0.600     0.562     0.581        16\n",
      "                    Weimaraner      0.889     1.000     0.941        16\n",
      "        Welsh springer spaniel      1.000     0.800     0.889        15\n",
      "   West Highland white terrier      0.842     0.941     0.889        17\n",
      "             Yorkshire terrier      0.700     0.824     0.757        17\n",
      "                 affenpinscher      0.812     0.867     0.839        15\n",
      "                       basenji      0.840     1.000     0.913        21\n",
      "                        basset      0.842     0.889     0.865        18\n",
      "                        beagle      0.762     0.800     0.780        20\n",
      "       black and tan coonhound      0.846     0.688     0.759        16\n",
      "                    bloodhound      0.857     0.947     0.900        19\n",
      "                      bluetick      0.882     0.833     0.857        18\n",
      "                        borzoi      0.941     1.000     0.970        16\n",
      "                         boxer      0.929     0.812     0.867        16\n",
      "                        briard      0.923     0.750     0.828        16\n",
      "                  bull mastiff      0.833     0.938     0.882        16\n",
      "                         cairn      0.850     0.850     0.850        20\n",
      "                          chow      1.000     1.000     1.000        20\n",
      "                       clumber      0.882     1.000     0.938        15\n",
      "                cocker spaniel      0.706     0.750     0.727        16\n",
      "                        collie      0.706     0.750     0.727        16\n",
      "        curly coated retriever      0.933     0.875     0.903        16\n",
      "                         dhole      0.929     0.867     0.897        15\n",
      "                         dingo      0.812     0.812     0.812        16\n",
      "         flat coated retriever      0.857     0.750     0.800        16\n",
      "               giant schnauzer      0.800     0.750     0.774        16\n",
      "              golden retriever      0.750     0.800     0.774        15\n",
      "                   groenendael      0.938     1.000     0.968        15\n",
      "                      keeshond      1.000     1.000     1.000        16\n",
      "                        kelpie      0.867     0.812     0.839        16\n",
      "                      komondor      0.941     1.000     0.970        16\n",
      "                        kuvasz      0.929     0.867     0.897        15\n",
      "                      malamute      0.722     0.722     0.722        18\n",
      "                      malinois      0.929     0.867     0.897        15\n",
      "            miniature pinscher      0.947     0.947     0.947        19\n",
      "              miniature poodle      0.667     0.625     0.645        16\n",
      "           miniature schnauzer      0.789     0.938     0.857        16\n",
      "                    otterhound      1.000     0.750     0.857        16\n",
      "                      papillon      0.905     0.950     0.927        20\n",
      "                           pug      1.000     1.000     1.000        20\n",
      "                       redbone      0.833     0.667     0.741        15\n",
      "                    schipperke      0.882     0.938     0.909        16\n",
      "                 silky terrier      0.667     0.632     0.649        19\n",
      "   soft coated wheaten terrier      0.923     0.750     0.828        16\n",
      "               standard poodle      0.812     0.812     0.812        16\n",
      "            standard schnauzer      0.647     0.688     0.667        16\n",
      "                    toy poodle      0.833     0.625     0.714        16\n",
      "                   toy terrier      0.722     0.722     0.722        18\n",
      "                        vizsla      1.000     0.812     0.897        16\n",
      "                       whippet      0.778     0.737     0.757        19\n",
      "       wire haired fox terrier      0.737     0.875     0.800        16\n",
      "\n",
      "                      accuracy                          0.841      2110\n",
      "                     macro avg      0.846     0.837     0.837      2110\n",
      "                  weighted avg      0.847     0.841     0.839      2110\n",
      "\n"
     ]
    }
   ],
   "source": [
    "# Print the precision and recall, among other metrics\n",
    "print(metrics.classification_report(y_true, y_pred, digits=3))"
   ]
  },
  {
   "cell_type": "markdown",
   "metadata": {},
   "source": [
    "## Macro F1 Score"
   ]
  },
  {
   "cell_type": "code",
   "execution_count": 10,
   "metadata": {},
   "outputs": [
    {
     "data": {
      "text/plain": [
       "0.8367919059339303"
      ]
     },
     "execution_count": 10,
     "metadata": {},
     "output_type": "execute_result"
    }
   ],
   "source": [
    "from sklearn.metrics import f1_score\n",
    "\n",
    "f1_score(y_true, y_pred, average='macro')\n"
   ]
  },
  {
   "cell_type": "markdown",
   "metadata": {},
   "source": [
    "## Micro F1 Score"
   ]
  },
  {
   "cell_type": "code",
   "execution_count": 11,
   "metadata": {},
   "outputs": [
    {
     "data": {
      "text/plain": [
       "0.8412322274881517"
      ]
     },
     "execution_count": 11,
     "metadata": {},
     "output_type": "execute_result"
    }
   ],
   "source": [
    "f1_score(y_true, y_pred, average='micro')\n"
   ]
  },
  {
   "cell_type": "markdown",
   "metadata": {},
   "source": [
    "## Weighted F1 Score"
   ]
  },
  {
   "cell_type": "code",
   "execution_count": 12,
   "metadata": {},
   "outputs": [
    {
     "data": {
      "text/plain": [
       "0.8390072690621452"
      ]
     },
     "execution_count": 12,
     "metadata": {},
     "output_type": "execute_result"
    }
   ],
   "source": [
    "f1_score(y_true, y_pred, average='weighted')"
   ]
  },
  {
   "cell_type": "markdown",
   "metadata": {},
   "source": [
    "## Cohen Kappa Score"
   ]
  },
  {
   "cell_type": "code",
   "execution_count": 13,
   "metadata": {},
   "outputs": [
    {
     "data": {
      "text/plain": [
       "0.8398684785228708"
      ]
     },
     "execution_count": 13,
     "metadata": {},
     "output_type": "execute_result"
    }
   ],
   "source": [
    "from sklearn.metrics import cohen_kappa_score\n",
    "\n",
    "cohen_kappa_score(y_true, y_pred)"
   ]
  },
  {
   "cell_type": "markdown",
   "metadata": {},
   "source": [
    "## Total Accuracy calculated from per class accuracy"
   ]
  },
  {
   "cell_type": "code",
   "execution_count": 14,
   "metadata": {},
   "outputs": [
    {
     "data": {
      "text/plain": [
       "83.74485108115138"
      ]
     },
     "execution_count": 14,
     "metadata": {},
     "output_type": "execute_result"
    }
   ],
   "source": [
    "# calculated from per class accuracy\n",
    "total_accuracy = sum(per_class_accuracy.values())/120\n",
    "total_accuracy"
   ]
  },
  {
   "cell_type": "markdown",
   "metadata": {},
   "source": [
    "## Per Breed Accuracy"
   ]
  },
  {
   "cell_type": "markdown",
   "metadata": {},
   "source": [
    "### Top 10 Breeds with least accuracy"
   ]
  },
  {
   "cell_type": "code",
   "execution_count": 15,
   "metadata": {},
   "outputs": [
    {
     "data": {
      "text/plain": [
       "[('Eskimo dog', 20.0),\n",
       " ('Staffordshire bullterrier', 37.5),\n",
       " ('Appenzeller', 43.75),\n",
       " ('Cardigan', 50.0),\n",
       " ('Siberian husky', 50.0),\n",
       " ('Walker hound', 56.25),\n",
       " ('Lhasa', 57.89473684210527),\n",
       " ('Norwich terrier', 57.89473684210527),\n",
       " ('Border collie', 60.0),\n",
       " ('miniature poodle', 62.5)]"
      ]
     },
     "execution_count": 15,
     "metadata": {},
     "output_type": "execute_result"
    }
   ],
   "source": [
    "k = 10\n",
    "sorted(per_class_accuracy.items(), key=lambda x: x[1])[:k]"
   ]
  },
  {
   "cell_type": "markdown",
   "metadata": {},
   "source": [
    "### Top 10 Breeds with most accuracy"
   ]
  },
  {
   "cell_type": "code",
   "execution_count": 16,
   "metadata": {},
   "outputs": [
    {
     "data": {
      "text/plain": [
       "[('Japanese spaniel', 100.0),\n",
       " ('Brabancon griffon', 100.0),\n",
       " ('Blenheim spaniel', 100.0),\n",
       " ('Irish setter', 100.0),\n",
       " ('German short haired pointer', 100.0),\n",
       " ('clumber', 100.0),\n",
       " ('chow', 100.0),\n",
       " ('komondor', 100.0),\n",
       " ('Pembroke', 100.0),\n",
       " ('keeshond', 100.0)]"
      ]
     },
     "execution_count": 16,
     "metadata": {},
     "output_type": "execute_result"
    }
   ],
   "source": [
    "k = 10\n",
    "sorted(per_class_accuracy.items(), key=lambda x: x[1], reverse=True)[:k]"
   ]
  },
  {
   "cell_type": "code",
   "execution_count": null,
   "metadata": {},
   "outputs": [],
   "source": []
  },
  {
   "cell_type": "code",
   "execution_count": null,
   "metadata": {},
   "outputs": [],
   "source": []
  }
 ],
 "metadata": {
  "kernelspec": {
   "display_name": "Python 3",
   "language": "python",
   "name": "python3"
  },
  "language_info": {
   "codemirror_mode": {
    "name": "ipython",
    "version": 3
   },
   "file_extension": ".py",
   "mimetype": "text/x-python",
   "name": "python",
   "nbconvert_exporter": "python",
   "pygments_lexer": "ipython3",
   "version": "3.8.3"
  }
 },
 "nbformat": 4,
 "nbformat_minor": 5
}
